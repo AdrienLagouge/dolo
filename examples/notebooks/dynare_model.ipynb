{
 "cells": [
  {
   "cell_type": "markdown",
   "metadata": {},
   "source": [
    "First we import all relevant dolo functions"
   ]
  },
  {
   "cell_type": "code",
   "execution_count": 1,
   "metadata": {
    "collapsed": false
   },
   "outputs": [],
   "source": [
    "from dolo import *\n",
    "from dolo.algos.dynare import *"
   ]
  },
  {
   "cell_type": "markdown",
   "metadata": {},
   "source": [
    "# Writing the model"
   ]
  },
  {
   "cell_type": "markdown",
   "metadata": {},
   "source": [
    "Dolo uses the open YAML format (http://www.yaml.org/) to store informations about the model.\n",
    "\n",
    "The model definition is supposed to be edited using an external text editor. For windows users, it is adviced to download one, for instance `notepad++`.\n",
    "\n",
    "A model consists in three parts.\n",
    "\n",
    "- a `declarations` section. All symbols used in the model equations or in the calibration must be defined here. For statefree models, three types of symbols are recognized:\n",
    "    - `variables`: any endogeneous variables to be defined by the model. These are symbols have a time subscripts in the model.\n",
    "    - `shocks`: the random innovations. They are assumed to be normally distributed with covariance matrix specified in the calibration section\n",
    "    - `parameters`: scalar values. Parameters can depend upon each other.\n",
    "\n",
    "- an `equations` section. This part contains a list of equations written in a naive way with the following timing convention (the same as Dynare):\n",
    "    - $v_t$ is written `v`, $v_{t-1}$ is written `v(-1)` and $v_{t+1}$ is written v(1)\n",
    "    - all equations are implicitly surrounded by $E_t \\left( \\right)$.\n",
    "\n",
    "- a `calibration` section with:\n",
    "    - values for parameters\n",
    "    - values for steady_state\n",
    "    - the covariance matrix of random shocks\n",
    "\n",
    "The example below is contained in the `dolo/examples/yaml_files` subdirectory. We need to make it the current directory.\n"
   ]
  },
  {
   "cell_type": "code",
   "execution_count": 2,
   "metadata": {
    "collapsed": false
   },
   "outputs": [],
   "source": [
    "filename =  'https://raw.githubusercontent.com/EconForge/dolo/master/examples/models/compat/rbc_dynare.yaml'"
   ]
  },
  {
   "cell_type": "code",
   "execution_count": 3,
   "metadata": {
    "collapsed": false
   },
   "outputs": [
    {
     "data": {
      "text/html": [
       "<style>\n",
       "    .source .hll { background-color: #ffffcc }\n",
       ".source  { background: #f8f8f8; }\n",
       ".source .c { color: #408080; font-style: italic } /* Comment */\n",
       ".source .err { border: 1px solid #FF0000 } /* Error */\n",
       ".source .k { color: #008000; font-weight: bold } /* Keyword */\n",
       ".source .o { color: #666666 } /* Operator */\n",
       ".source .ch { color: #408080; font-style: italic } /* Comment.Hashbang */\n",
       ".source .cm { color: #408080; font-style: italic } /* Comment.Multiline */\n",
       ".source .cp { color: #BC7A00 } /* Comment.Preproc */\n",
       ".source .cpf { color: #408080; font-style: italic } /* Comment.PreprocFile */\n",
       ".source .c1 { color: #408080; font-style: italic } /* Comment.Single */\n",
       ".source .cs { color: #408080; font-style: italic } /* Comment.Special */\n",
       ".source .gd { color: #A00000 } /* Generic.Deleted */\n",
       ".source .ge { font-style: italic } /* Generic.Emph */\n",
       ".source .gr { color: #FF0000 } /* Generic.Error */\n",
       ".source .gh { color: #000080; font-weight: bold } /* Generic.Heading */\n",
       ".source .gi { color: #00A000 } /* Generic.Inserted */\n",
       ".source .go { color: #888888 } /* Generic.Output */\n",
       ".source .gp { color: #000080; font-weight: bold } /* Generic.Prompt */\n",
       ".source .gs { font-weight: bold } /* Generic.Strong */\n",
       ".source .gu { color: #800080; font-weight: bold } /* Generic.Subheading */\n",
       ".source .gt { color: #0044DD } /* Generic.Traceback */\n",
       ".source .kc { color: #008000; font-weight: bold } /* Keyword.Constant */\n",
       ".source .kd { color: #008000; font-weight: bold } /* Keyword.Declaration */\n",
       ".source .kn { color: #008000; font-weight: bold } /* Keyword.Namespace */\n",
       ".source .kp { color: #008000 } /* Keyword.Pseudo */\n",
       ".source .kr { color: #008000; font-weight: bold } /* Keyword.Reserved */\n",
       ".source .kt { color: #B00040 } /* Keyword.Type */\n",
       ".source .m { color: #666666 } /* Literal.Number */\n",
       ".source .s { color: #BA2121 } /* Literal.String */\n",
       ".source .na { color: #7D9029 } /* Name.Attribute */\n",
       ".source .nb { color: #008000 } /* Name.Builtin */\n",
       ".source .nc { color: #0000FF; font-weight: bold } /* Name.Class */\n",
       ".source .no { color: #880000 } /* Name.Constant */\n",
       ".source .nd { color: #AA22FF } /* Name.Decorator */\n",
       ".source .ni { color: #999999; font-weight: bold } /* Name.Entity */\n",
       ".source .ne { color: #D2413A; font-weight: bold } /* Name.Exception */\n",
       ".source .nf { color: #0000FF } /* Name.Function */\n",
       ".source .nl { color: #A0A000 } /* Name.Label */\n",
       ".source .nn { color: #0000FF; font-weight: bold } /* Name.Namespace */\n",
       ".source .nt { color: #008000; font-weight: bold } /* Name.Tag */\n",
       ".source .nv { color: #19177C } /* Name.Variable */\n",
       ".source .ow { color: #AA22FF; font-weight: bold } /* Operator.Word */\n",
       ".source .w { color: #bbbbbb } /* Text.Whitespace */\n",
       ".source .mb { color: #666666 } /* Literal.Number.Bin */\n",
       ".source .mf { color: #666666 } /* Literal.Number.Float */\n",
       ".source .mh { color: #666666 } /* Literal.Number.Hex */\n",
       ".source .mi { color: #666666 } /* Literal.Number.Integer */\n",
       ".source .mo { color: #666666 } /* Literal.Number.Oct */\n",
       ".source .sb { color: #BA2121 } /* Literal.String.Backtick */\n",
       ".source .sc { color: #BA2121 } /* Literal.String.Char */\n",
       ".source .sd { color: #BA2121; font-style: italic } /* Literal.String.Doc */\n",
       ".source .s2 { color: #BA2121 } /* Literal.String.Double */\n",
       ".source .se { color: #BB6622; font-weight: bold } /* Literal.String.Escape */\n",
       ".source .sh { color: #BA2121 } /* Literal.String.Heredoc */\n",
       ".source .si { color: #BB6688; font-weight: bold } /* Literal.String.Interpol */\n",
       ".source .sx { color: #008000 } /* Literal.String.Other */\n",
       ".source .sr { color: #BB6688 } /* Literal.String.Regex */\n",
       ".source .s1 { color: #BA2121 } /* Literal.String.Single */\n",
       ".source .ss { color: #19177C } /* Literal.String.Symbol */\n",
       ".source .bp { color: #008000 } /* Name.Builtin.Pseudo */\n",
       ".source .vc { color: #19177C } /* Name.Variable.Class */\n",
       ".source .vg { color: #19177C } /* Name.Variable.Global */\n",
       ".source .vi { color: #19177C } /* Name.Variable.Instance */\n",
       ".source .il { color: #666666 } /* Literal.Number.Integer.Long */\n",
       "    </style>\n",
       "    <table class=\"sourcetable\"><tr><td class=\"linenos\"><div class=\"linenodiv\"><pre> 1\n",
       " 2\n",
       " 3\n",
       " 4\n",
       " 5\n",
       " 6\n",
       " 7\n",
       " 8\n",
       " 9\n",
       "10\n",
       "11\n",
       "12\n",
       "13\n",
       "14\n",
       "15\n",
       "16\n",
       "17\n",
       "18\n",
       "19\n",
       "20\n",
       "21\n",
       "22\n",
       "23\n",
       "24\n",
       "25\n",
       "26\n",
       "27\n",
       "28\n",
       "29\n",
       "30\n",
       "31\n",
       "32\n",
       "33\n",
       "34\n",
       "35\n",
       "36\n",
       "37\n",
       "38\n",
       "39\n",
       "40\n",
       "41\n",
       "42\n",
       "43\n",
       "44\n",
       "45\n",
       "46\n",
       "47\n",
       "48</pre></div></td><td class=\"code\"><div class=\"source\"><pre><span></span><span class=\"l l-Scalar l-Scalar-Plain\">name</span><span class=\"p p-Indicator\">:</span> <span class=\"l l-Scalar l-Scalar-Plain\">RBC (dynare)</span>\n",
       "\n",
       "<span class=\"l l-Scalar l-Scalar-Plain\">model_type</span><span class=\"p p-Indicator\">:</span> <span class=\"l l-Scalar l-Scalar-Plain\">dynare</span>\n",
       "\n",
       "\n",
       "<span class=\"l l-Scalar l-Scalar-Plain\">symbols</span><span class=\"p p-Indicator\">:</span>\n",
       "\n",
       "   <span class=\"l l-Scalar l-Scalar-Plain\">variables</span><span class=\"p p-Indicator\">:</span>  <span class=\"p p-Indicator\">[</span><span class=\"nv\">z</span><span class=\"p p-Indicator\">,</span> <span class=\"nv\">k</span><span class=\"p p-Indicator\">,</span> <span class=\"nv\">i</span><span class=\"p p-Indicator\">,</span> <span class=\"nv\">n</span><span class=\"p p-Indicator\">,</span> <span class=\"nv\">c</span><span class=\"p p-Indicator\">,</span> <span class=\"nv\">rk</span><span class=\"p p-Indicator\">,</span> <span class=\"nv\">w</span><span class=\"p p-Indicator\">]</span>\n",
       "   <span class=\"l l-Scalar l-Scalar-Plain\">shocks</span><span class=\"p p-Indicator\">:</span> <span class=\"p p-Indicator\">[</span><span class=\"nv\">e_z</span><span class=\"p p-Indicator\">]</span>\n",
       "   <span class=\"l l-Scalar l-Scalar-Plain\">parameters</span><span class=\"p p-Indicator\">:</span> <span class=\"p p-Indicator\">[</span><span class=\"nv\">beta</span><span class=\"p p-Indicator\">,</span> <span class=\"nv\">sigma</span><span class=\"p p-Indicator\">,</span> <span class=\"nv\">eta</span><span class=\"p p-Indicator\">,</span> <span class=\"nv\">chi</span><span class=\"p p-Indicator\">,</span> <span class=\"nv\">delta</span><span class=\"p p-Indicator\">,</span> <span class=\"nv\">alpha</span><span class=\"p p-Indicator\">,</span> <span class=\"nv\">rho</span><span class=\"p p-Indicator\">,</span> <span class=\"nv\">zbar</span> <span class=\"p p-Indicator\">]</span>\n",
       "\n",
       "<span class=\"l l-Scalar l-Scalar-Plain\">equations</span><span class=\"p p-Indicator\">:</span>\n",
       "\n",
       "   <span class=\"p p-Indicator\">-</span> <span class=\"l l-Scalar l-Scalar-Plain\">1 = beta*(c/c(1))^(sigma)*(1-delta+rk(1))</span>\n",
       "   <span class=\"p p-Indicator\">-</span> <span class=\"l l-Scalar l-Scalar-Plain\">w - chi*n^eta*c^sigma</span>\n",
       "   <span class=\"p p-Indicator\">-</span> <span class=\"l l-Scalar l-Scalar-Plain\">z = (1-rho)*zbar + rho*z(-1) + e_z</span>\n",
       "   <span class=\"p p-Indicator\">-</span> <span class=\"l l-Scalar l-Scalar-Plain\">k = (1-delta)*k(-1) + i</span>\n",
       "   <span class=\"p p-Indicator\">-</span> <span class=\"l l-Scalar l-Scalar-Plain\">c = z*k(-1)^alpha*n^(1-alpha) - i</span>\n",
       "   <span class=\"p p-Indicator\">-</span> <span class=\"l l-Scalar l-Scalar-Plain\">rk = alpha*z*(n/k(-1))^(1-alpha)</span>\n",
       "   <span class=\"p p-Indicator\">-</span> <span class=\"l l-Scalar l-Scalar-Plain\">w = (1-alpha)*z*(k(-1)/n)^(alpha)</span>\n",
       "\n",
       "<span class=\"l l-Scalar l-Scalar-Plain\">calibration</span><span class=\"p p-Indicator\">:</span>\n",
       "\n",
       "\n",
       "      <span class=\"l l-Scalar l-Scalar-Plain\">beta</span> <span class=\"p p-Indicator\">:</span> <span class=\"l l-Scalar l-Scalar-Plain\">0.99</span>\n",
       "      <span class=\"l l-Scalar l-Scalar-Plain\">phi</span><span class=\"p p-Indicator\">:</span> <span class=\"l l-Scalar l-Scalar-Plain\">1</span>\n",
       "      <span class=\"l l-Scalar l-Scalar-Plain\">chi</span> <span class=\"p p-Indicator\">:</span> <span class=\"l l-Scalar l-Scalar-Plain\">w/c^sigma/n^eta</span>\n",
       "      <span class=\"l l-Scalar l-Scalar-Plain\">delta</span> <span class=\"p p-Indicator\">:</span> <span class=\"l l-Scalar l-Scalar-Plain\">0.025</span>\n",
       "      <span class=\"l l-Scalar l-Scalar-Plain\">alpha</span> <span class=\"p p-Indicator\">:</span> <span class=\"l l-Scalar l-Scalar-Plain\">0.33</span>\n",
       "      <span class=\"l l-Scalar l-Scalar-Plain\">rho</span> <span class=\"p p-Indicator\">:</span> <span class=\"l l-Scalar l-Scalar-Plain\">0.8</span>\n",
       "      <span class=\"l l-Scalar l-Scalar-Plain\">sigma</span><span class=\"p p-Indicator\">:</span> <span class=\"l l-Scalar l-Scalar-Plain\">1</span>\n",
       "      <span class=\"l l-Scalar l-Scalar-Plain\">eta</span><span class=\"p p-Indicator\">:</span> <span class=\"l l-Scalar l-Scalar-Plain\">1</span>\n",
       "      <span class=\"l l-Scalar l-Scalar-Plain\">zbar</span><span class=\"p p-Indicator\">:</span> <span class=\"l l-Scalar l-Scalar-Plain\">1</span>\n",
       "\n",
       "      <span class=\"l l-Scalar l-Scalar-Plain\">z</span><span class=\"p p-Indicator\">:</span> <span class=\"l l-Scalar l-Scalar-Plain\">zbar</span>\n",
       "      <span class=\"l l-Scalar l-Scalar-Plain\">rk</span><span class=\"p p-Indicator\">:</span> <span class=\"l l-Scalar l-Scalar-Plain\">1/beta-1+delta</span>\n",
       "      <span class=\"l l-Scalar l-Scalar-Plain\">w</span><span class=\"p p-Indicator\">:</span> <span class=\"l l-Scalar l-Scalar-Plain\">(1-alpha)*z*(k/n)^(alpha)</span>\n",
       "      <span class=\"l l-Scalar l-Scalar-Plain\">n</span><span class=\"p p-Indicator\">:</span> <span class=\"l l-Scalar l-Scalar-Plain\">0.33</span>\n",
       "      <span class=\"l l-Scalar l-Scalar-Plain\">k</span><span class=\"p p-Indicator\">:</span> <span class=\"l l-Scalar l-Scalar-Plain\">n/(rk/alpha)^(1/(1-alpha))</span>\n",
       "      <span class=\"l l-Scalar l-Scalar-Plain\">i</span><span class=\"p p-Indicator\">:</span> <span class=\"l l-Scalar l-Scalar-Plain\">delta*k</span>\n",
       "      <span class=\"l l-Scalar l-Scalar-Plain\">c</span><span class=\"p p-Indicator\">:</span> <span class=\"l l-Scalar l-Scalar-Plain\">z*k^alpha*n^(1-alpha) - i</span>\n",
       "\n",
       "\n",
       "<span class=\"l l-Scalar l-Scalar-Plain\">options</span><span class=\"p p-Indicator\">:</span>\n",
       "\n",
       "    <span class=\"l l-Scalar l-Scalar-Plain\">distribution</span><span class=\"p p-Indicator\">:</span> <span class=\"kt\">!Normal</span>\n",
       "\n",
       "        <span class=\"l l-Scalar l-Scalar-Plain\">sigma</span><span class=\"p p-Indicator\">:</span> <span class=\"p p-Indicator\">[</span> <span class=\"p p-Indicator\">[</span> <span class=\"nv\">0.0015</span> <span class=\"p p-Indicator\">]</span> <span class=\"p p-Indicator\">]</span>\n",
       "</pre></div>\n",
       "</td></tr></table>\n",
       "    "
      ],
      "text/plain": [
       "<IPython.core.display.HTML object>"
      ]
     },
     "execution_count": 3,
     "metadata": {},
     "output_type": "execute_result"
    }
   ],
   "source": [
    "pcat(filename)"
   ]
  },
  {
   "cell_type": "markdown",
   "metadata": {},
   "source": [
    "A comment about the calibration: here we use the fact that parameters values can be defined as a function of the steady-state (and vice-versa). It is very practical for the RBC model since we can calibrate the steady-state amount of labour instead of a preference parameter, that doesn't affect the solution anyway."
   ]
  },
  {
   "cell_type": "markdown",
   "metadata": {},
   "source": [
    "# Importing the model"
   ]
  },
  {
   "cell_type": "markdown",
   "metadata": {},
   "source": [
    "We now use dolo to import the model and check whether it is well specifie. Usually, there are several iterations at this stage, since we all make a lot of mistakes when writing the model file."
   ]
  },
  {
   "cell_type": "markdown",
   "metadata": {},
   "source": [
    "\n",
    "\n",
    "Then we import the model in a `model` variable and display it"
   ]
  },
  {
   "cell_type": "code",
   "execution_count": 4,
   "metadata": {
    "collapsed": false
   },
   "outputs": [
    {
     "name": "stdout",
     "output_type": "stream",
     "text": [
      "\u001b[31merror\u001b[0m: 1, 1  : Linter Error: Uncaught Exception\n"
     ]
    },
    {
     "data": {
      "text/html": [
       "\n",
       "     <table>\n",
       "         <td><b>Model</b></td>\n",
       "     <tr>\n",
       "        <td>name</td>\n",
       "        <td>RBC (dynare)</td>\n",
       "      </tr>\n",
       "    <tr>\n",
       "        <td>type</td>\n",
       "        <td>dynare</td>\n",
       "      </tr>\n",
       "      <tr>\n",
       "        <td>filename</td>\n",
       "        <td>https://raw.githubusercontent.com/EconForge/dolo/master/examples/models/compat/rbc_dynare.yaml</td>\n",
       "      </tr>\n",
       "    </table><table><tr><td><b>Type</b></td><td><b>Equation</b></td><td><b>Residual</b></td></tr>\n",
       "<tr><td>dynare</td><td>$1 = \\beta \\; \\left(\\frac{c_{t}}{c_{t+1}}\\right)^{\\sigma} \\; \\left(1 - \\delta + rk_{t+1}\\right)$</td><td></td></tr>\n",
       "<tr><td></td><td>$w_{t} - \\chi \\; n_{t}^{\\eta} \\; c_{t}^{\\sigma}$</td><td></td></tr>\n",
       "<tr><td></td><td>$z_{t} = \\left(1 - \\rho\\right) \\; \\overline{z} + \\rho \\; z_{t-1} + e_{z,t}$</td><td></td></tr>\n",
       "<tr><td></td><td>$k_{t} = \\left(1 - \\delta\\right) \\; k_{t-1} + i_{t}$</td><td></td></tr>\n",
       "<tr><td></td><td>$c_{t} = z_{t} \\; k_{t-1}^{\\alpha} \\; n_{t}^{1 - \\alpha} - i_{t}$</td><td></td></tr>\n",
       "<tr><td></td><td>$rk_{t} = \\alpha \\; z_{t} \\; \\left(\\frac{n_{t}}{k_{t-1}}\\right)^{1 - \\alpha}$</td><td></td></tr>\n",
       "<tr><td></td><td>$w_{t} = \\left(1 - \\alpha\\right) \\; z_{t} \\; \\left(\\frac{k_{t-1}}{n_{t}}\\right)^{\\alpha}$</td><td></td></tr></table>"
      ],
      "text/plain": [
       "\n",
       "Model:\n",
       "------\n",
       "name: \"RBC (dynare)\"\n",
       "type: \"dynare\"\n",
       "file: \"https://raw.githubusercontent.com/EconForge/dolo/master/examples/models/compat/rbc_dynare.yaml\n",
       "\n",
       "Equations:\n",
       "----------\n",
       "\n",
       "definitions\n",
       "\n",
       "dynare\n",
       " 1  : 0.0000 : 1 = beta*(c/c(1))**(sigma)*(1-delta+rk(1))\n",
       " 2  : 0.0000 : w - chi*n**eta*c**sigma\n",
       " 3  : 0.0000 : z = (1-rho)*zbar + rho*z(-1) + e_z\n",
       " 4  : 0.0000 : k = (1-delta)*k(-1) + i\n",
       " 5  : 0.0000 : c = z*k(-1)**alpha*n**(1-alpha) - i\n",
       " 6  : 0.0000 : rk = alpha*z*(n/k(-1))**(1-alpha)\n",
       " 7  : 0.0000 : w = (1-alpha)*z*(k(-1)/n)**(alpha)\n"
      ]
     },
     "metadata": {},
     "output_type": "display_data"
    }
   ],
   "source": [
    "model = yaml_import(filename)\n",
    "display( model )"
   ]
  },
  {
   "cell_type": "markdown",
   "metadata": {},
   "source": [
    "In IPython, `display` produces a pretty representation. A text representation with the same information can be printed with the print function"
   ]
  },
  {
   "cell_type": "markdown",
   "metadata": {},
   "source": [
    "Note that each equation is associated with residuals. If the steady-state values are consistent with the calibration, these residuals should be 0.\n",
    "When, it is impossible to find a closed form solution for the steady-state, approximate values can be entered, but in general it is adviced to enter the exact values."
   ]
  },
  {
   "cell_type": "markdown",
   "metadata": {},
   "source": [
    "# Solving the model"
   ]
  },
  {
   "cell_type": "markdown",
   "metadata": {},
   "source": [
    "An Taylor expansion for the endogenous variables at the steady-state can be obtained with:"
   ]
  },
  {
   "cell_type": "code",
   "execution_count": 5,
   "metadata": {
    "collapsed": false
   },
   "outputs": [],
   "source": [
    "from dolo.algos.dynare.perturbations import solve_decision_rule\n",
    "dr = solve_decision_rule( model, order=1 )"
   ]
  },
  {
   "cell_type": "markdown",
   "metadata": {},
   "source": [
    "The approximated first order decision rule is an AR1 process:\n",
    "\n",
    "$$ \\hat{Y_t} = G_a \\hat{Y_{t-1}} + G_e \\epsilon_t$$\n",
    "\n",
    "where $\\hat{Y_t} = Y_t - \\overline{Y}$.\n",
    "\n",
    "- $Y_t$ is a vector of all endogenous variables, in the declaration order.\n",
    "- $\\epsilon_t$ is the vector of shocks, in the declaration order. They are distributed after $\\Sigma$, the covariance matrix\n",
    "- $G_a$ and $G_e$ are the first order coefficients.\n"
   ]
  },
  {
   "cell_type": "markdown",
   "metadata": {},
   "source": [
    "Let inspect object dr. It contains the following keys:"
   ]
  },
  {
   "cell_type": "code",
   "execution_count": 6,
   "metadata": {
    "collapsed": false
   },
   "outputs": [
    {
     "data": {
      "text/plain": [
       "dict_keys(['g_a', 'Sigma', 'ys', 'ev', 'g_e'])"
      ]
     },
     "execution_count": 6,
     "metadata": {},
     "output_type": "execute_result"
    }
   ],
   "source": [
    "dr.keys()"
   ]
  },
  {
   "cell_type": "code",
   "execution_count": 7,
   "metadata": {
    "collapsed": false
   },
   "outputs": [
    {
     "data": {
      "text/plain": [
       "'variables order'"
      ]
     },
     "metadata": {},
     "output_type": "display_data"
    },
    {
     "data": {
      "text/plain": [
       "('z', 'k', 'i', 'n', 'c', 'rk', 'w')"
      ]
     },
     "metadata": {},
     "output_type": "display_data"
    },
    {
     "data": {
      "text/plain": [
       "'Covariance matrix'"
      ]
     },
     "metadata": {},
     "output_type": "display_data"
    },
    {
     "data": {
      "text/plain": [
       "array([[ 0.0015]])"
      ]
     },
     "metadata": {},
     "output_type": "display_data"
    },
    {
     "data": {
      "text/plain": [
       "'Steady-state values (ybar):'"
      ]
     },
     "metadata": {},
     "output_type": "display_data"
    },
    {
     "data": {
      "text/plain": [
       "array([ 1.        ,  9.35497829,  0.23387446,  0.33      ,  0.76118369,\n",
       "        0.03510101,  2.02026956])"
      ]
     },
     "metadata": {},
     "output_type": "display_data"
    },
    {
     "data": {
      "text/plain": [
       "'First order coefficients'"
      ]
     },
     "metadata": {},
     "output_type": "display_data"
    },
    {
     "data": {
      "text/plain": [
       "'g_a :'"
      ]
     },
     "metadata": {},
     "output_type": "display_data"
    },
    {
     "data": {
      "text/plain": [
       "array([[  8.00000000e-01,   1.24156996e-17,   0.00000000e+00,\n",
       "          0.00000000e+00,   0.00000000e+00,   0.00000000e+00,\n",
       "          0.00000000e+00],\n",
       "       [  1.00214668e+00,   9.53146078e-01,   0.00000000e+00,\n",
       "          0.00000000e+00,   0.00000000e+00,   0.00000000e+00,\n",
       "          0.00000000e+00],\n",
       "       [  1.00214668e+00,  -2.18539224e-02,  -0.00000000e+00,\n",
       "         -0.00000000e+00,  -0.00000000e+00,  -0.00000000e+00,\n",
       "         -0.00000000e+00],\n",
       "       [  1.60187858e-01,  -5.91656944e-03,   0.00000000e+00,\n",
       "          0.00000000e+00,   0.00000000e+00,   0.00000000e+00,\n",
       "          0.00000000e+00],\n",
       "       [  1.17522492e-01,   4.50018673e-02,  -0.00000000e+00,\n",
       "         -0.00000000e+00,  -0.00000000e+00,  -0.00000000e+00,\n",
       "         -0.00000000e+00],\n",
       "       [  3.94967058e-02,  -2.93556943e-03,  -0.00000000e+00,\n",
       "         -0.00000000e+00,  -0.00000000e+00,  -0.00000000e+00,\n",
       "         -0.00000000e+00],\n",
       "       [  1.29259300e+00,   8.32187524e-02,  -0.00000000e+00,\n",
       "         -0.00000000e+00,  -0.00000000e+00,  -0.00000000e+00,\n",
       "         -0.00000000e+00]])"
      ]
     },
     "metadata": {},
     "output_type": "display_data"
    },
    {
     "data": {
      "text/plain": [
       "'g_e :'"
      ]
     },
     "metadata": {},
     "output_type": "display_data"
    },
    {
     "data": {
      "text/plain": [
       "array([[ 1.        ],\n",
       "       [ 1.25268335],\n",
       "       [ 1.25268335],\n",
       "       [ 0.20023482],\n",
       "       [ 0.14690312],\n",
       "       [ 0.04937088],\n",
       "       [ 1.61574125]])"
      ]
     },
     "metadata": {},
     "output_type": "display_data"
    }
   ],
   "source": [
    "display('variables order')\n",
    "display(model.variables)\n",
    "display('Covariance matrix')\n",
    "display(dr['Sigma'])  # covariance matrix\n",
    "display('Steady-state values (ybar):')  # covariance matrix\n",
    "display(dr['ys'])  # covariance matrix\n",
    "display('First order coefficients')\n",
    "display('g_a :')\n",
    "display(dr['g_a'])  # covariance matrix\n",
    "display('g_e :')\n",
    "display(dr['g_e'])  # covariance matrix\n"
   ]
  },
  {
   "cell_type": "markdown",
   "metadata": {},
   "source": [
    "## More information about the solution:"
   ]
  },
  {
   "cell_type": "markdown",
   "metadata": {},
   "source": [
    "The model can be represented in an abstract way as a function $f$, a vector of endogenous variables $y_t$ and shocks $\\epsilon_t$ satisfying:\n",
    "\n",
    "$$E_t \\left[ f \\left( y_{t+1}, y_t, y_{t-1}, \\epsilon_t \\right) \\right] = 0 $$\n",
    "\n",
    "The solution of this system is assumed to be in the form $y_t = g\\left( y_{t-1}, \\epsilon_t \\right)$\n",
    "\n",
    "The talyon expansion computes the derivatives of $g$ using a variant of the Implicit Function Theorem.\n",
    "\n",
    "It is easy to show that at the steady-state, $g_a$ is the solution of a second order matrix equation:\n",
    "\n",
    "$$A {X}^2 + B X + C = 0$$\n",
    "\n",
    "In general, such an equation admits several solutions (even in the scalar case). \n",
    "The Blanchard-Kahn conditions ensure that there one and only one converging solution, where the eigenvalues of X are all smaller than 1.\n",
    "\n"
   ]
  },
  {
   "cell_type": "code",
   "execution_count": 8,
   "metadata": {
    "collapsed": false
   },
   "outputs": [
    {
     "name": "stdout",
     "output_type": "stream",
     "text": [
      "[ 1.          9.35497829  0.23387446  0.33        0.76118369  0.03510101\n",
      "  2.02026956]\n"
     ]
    }
   ],
   "source": [
    "print(dr['ys']) # a vector of values at the steady-state"
   ]
  },
  {
   "cell_type": "code",
   "execution_count": 9,
   "metadata": {
    "collapsed": false
   },
   "outputs": [],
   "source": [
    "from matplotlib import pyplot\n",
    "%matplotlib inline\n",
    "from dolo.algos.dynare.simulations import simulate"
   ]
  },
  {
   "cell_type": "code",
   "execution_count": 10,
   "metadata": {
    "collapsed": false
   },
   "outputs": [
    {
     "data": {
      "text/plain": [
       "<matplotlib.text.Text at 0x7f70fbe50278>"
      ]
     },
     "execution_count": 10,
     "metadata": {},
     "output_type": "execute_result"
    },
    {
     "data": {
      "image/png": "[encoded data removed]",
      "text/plain": [
       "<matplotlib.figure.Figure at 0x7f70fbe7b6a0>"
      ]
     },
     "metadata": {},
     "output_type": "display_data"
    }
   ],
   "source": [
    "sim = simulate( dr, n_exp=1 )\n",
    "pyplot.plot(sim['c'])\n",
    "pyplot.title('Consumption')"
   ]
  },
  {
   "cell_type": "markdown",
   "metadata": {},
   "source": [
    "# Change parameters at runtime"
   ]
  },
  {
   "cell_type": "code",
   "execution_count": 11,
   "metadata": {
    "collapsed": false
   },
   "outputs": [],
   "source": [
    "model.set_calibration({'beta':0.9})\n",
    "drr = solve_decision_rule(model)"
   ]
  },
  {
   "cell_type": "code",
   "execution_count": 12,
   "metadata": {
    "collapsed": false
   },
   "outputs": [
    {
     "data": {
      "text/plain": [
       "{'Sigma': array([[ 0.0015]]),\n",
       " 'ev': array([             inf,              inf,              inf,\n",
       "                     inf,              inf,   1.04915713e+00,\n",
       "          1.25000000e+00,   1.16257324e-16,   9.43614617e-01,\n",
       "          2.19650470e-17,   3.34893842e-18,   0.00000000e+00,\n",
       "          0.00000000e+00,   0.00000000e+00]),\n",
       " 'g_a': array([[  8.00000000e-01,   1.24156996e-17,   0.00000000e+00,\n",
       "           0.00000000e+00,   0.00000000e+00,   0.00000000e+00,\n",
       "           0.00000000e+00],\n",
       "        [  1.00214668e+00,   9.53146078e-01,   0.00000000e+00,\n",
       "           0.00000000e+00,   0.00000000e+00,   0.00000000e+00,\n",
       "           0.00000000e+00],\n",
       "        [  1.00214668e+00,  -2.18539224e-02,  -0.00000000e+00,\n",
       "          -0.00000000e+00,  -0.00000000e+00,  -0.00000000e+00,\n",
       "          -0.00000000e+00],\n",
       "        [  1.60187858e-01,  -5.91656944e-03,   0.00000000e+00,\n",
       "           0.00000000e+00,   0.00000000e+00,   0.00000000e+00,\n",
       "           0.00000000e+00],\n",
       "        [  1.17522492e-01,   4.50018673e-02,  -0.00000000e+00,\n",
       "          -0.00000000e+00,  -0.00000000e+00,  -0.00000000e+00,\n",
       "          -0.00000000e+00],\n",
       "        [  3.94967058e-02,  -2.93556943e-03,  -0.00000000e+00,\n",
       "          -0.00000000e+00,  -0.00000000e+00,  -0.00000000e+00,\n",
       "          -0.00000000e+00],\n",
       "        [  1.29259300e+00,   8.32187524e-02,  -0.00000000e+00,\n",
       "          -0.00000000e+00,  -0.00000000e+00,  -0.00000000e+00,\n",
       "          -0.00000000e+00]]),\n",
       " 'g_e': array([[ 1.        ],\n",
       "        [ 1.25268335],\n",
       "        [ 1.25268335],\n",
       "        [ 0.20023482],\n",
       "        [ 0.14690312],\n",
       "        [ 0.04937088],\n",
       "        [ 1.61574125]]),\n",
       " 'ys': array([ 1.        ,  9.35497829,  0.23387446,  0.33      ,  0.76118369,\n",
       "         0.03510101,  2.02026956])}"
      ]
     },
     "execution_count": 12,
     "metadata": {},
     "output_type": "execute_result"
    }
   ],
   "source": [
    "drr"
   ]
  }
 ],
 "metadata": {
  "kernelspec": {
   "display_name": "Python 3",
   "language": "python",
   "name": "python3"
  },
  "language_info": {
   "codemirror_mode": {
    "name": "ipython",
    "version": 3
   },
   "file_extension": ".py",
   "mimetype": "text/x-python",
   "name": "python",
   "nbconvert_exporter": "python",
   "pygments_lexer": "ipython3",
   "version": "3.5.2"
  }
 },
 "nbformat": 4,
 "nbformat_minor": 1
}
