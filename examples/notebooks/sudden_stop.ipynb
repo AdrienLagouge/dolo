{
 "metadata": {
  "name": "",
  "signature": "sha256:a962ff72698d2044aa5ae93f43800419b83cf03f13a4b782976b116477c2b05c"
 },
 "nbformat": 3,
 "nbformat_minor": 0,
 "worksheets": [
  {
   "cells": [
    {
     "cell_type": "markdown",
     "metadata": {},
     "source": [
      "# Sudden Stop Model\n",
      "\n",
      "In this notebook we replicate the baseline model exposed in \n",
      "\n",
      "`From Sudden Stops to Fisherian Deflation, Quantitative Theory and Policy` by __Anton Korinek and Enrique G. Mendoza__\n",
      "\n",
      "The file `sudden_stop.yaml` which is printed below, describes the model, and must be included in the same directory as this notebook."
     ]
    },
    {
     "cell_type": "markdown",
     "metadata": {},
     "source": [
      "# importing necessary functions"
     ]
    },
    {
     "cell_type": "code",
     "collapsed": false,
     "input": [
      "%pylab inline"
     ],
     "language": "python",
     "metadata": {},
     "outputs": [
      {
       "output_type": "stream",
       "stream": "stdout",
       "text": [
        "Populating the interactive namespace from numpy and matplotlib\n"
       ]
      }
     ],
     "prompt_number": 1
    },
    {
     "cell_type": "code",
     "collapsed": false,
     "input": [
      "from dolo import *\n",
      "from dolo.algos.mfg.time_iteration import solve_mfg_model\n",
      "from dolo.algos.mfg.simulations import plot_decision_rule, simulate"
     ],
     "language": "python",
     "metadata": {},
     "outputs": [],
     "prompt_number": 2
    },
    {
     "cell_type": "markdown",
     "metadata": {},
     "source": [
      "## writing the model"
     ]
    },
    {
     "cell_type": "code",
     "collapsed": false,
     "input": [
      "cd ../models"
     ],
     "language": "python",
     "metadata": {},
     "outputs": [
      {
       "output_type": "stream",
       "stream": "stdout",
       "text": [
        "/home/pablo/Programming/econforge/dolo/examples/models\n"
       ]
      }
     ],
     "prompt_number": 3
    },
    {
     "cell_type": "code",
     "collapsed": false,
     "input": [
      "filename = 'https://raw.githubusercontent.com/EconForge/dolo/master/examples/models/sudden_stop.yaml'\n",
      "# the model file is coded in a separate file called sudden_stop.yaml\n",
      "# note how the borrowing constraint is implemented as complementarity condition\n",
      "pcat(filename)"
     ],
     "language": "python",
     "metadata": {},
     "outputs": [
      {
       "html": [
        "<style>\n",
        "    .source .hll { background-color: #ffffcc }\n",
        ".source  { background: #f8f8f8; }\n",
        ".source .c { color: #408080; font-style: italic } /* Comment */\n",
        ".source .err { border: 1px solid #FF0000 } /* Error */\n",
        ".source .k { color: #008000; font-weight: bold } /* Keyword */\n",
        ".source .o { color: #666666 } /* Operator */\n",
        ".source .cm { color: #408080; font-style: italic } /* Comment.Multiline */\n",
        ".source .cp { color: #BC7A00 } /* Comment.Preproc */\n",
        ".source .c1 { color: #408080; font-style: italic } /* Comment.Single */\n",
        ".source .cs { color: #408080; font-style: italic } /* Comment.Special */\n",
        ".source .gd { color: #A00000 } /* Generic.Deleted */\n",
        ".source .ge { font-style: italic } /* Generic.Emph */\n",
        ".source .gr { color: #FF0000 } /* Generic.Error */\n",
        ".source .gh { color: #000080; font-weight: bold } /* Generic.Heading */\n",
        ".source .gi { color: #00A000 } /* Generic.Inserted */\n",
        ".source .go { color: #888888 } /* Generic.Output */\n",
        ".source .gp { color: #000080; font-weight: bold } /* Generic.Prompt */\n",
        ".source .gs { font-weight: bold } /* Generic.Strong */\n",
        ".source .gu { color: #800080; font-weight: bold } /* Generic.Subheading */\n",
        ".source .gt { color: #0044DD } /* Generic.Traceback */\n",
        ".source .kc { color: #008000; font-weight: bold } /* Keyword.Constant */\n",
        ".source .kd { color: #008000; font-weight: bold } /* Keyword.Declaration */\n",
        ".source .kn { color: #008000; font-weight: bold } /* Keyword.Namespace */\n",
        ".source .kp { color: #008000 } /* Keyword.Pseudo */\n",
        ".source .kr { color: #008000; font-weight: bold } /* Keyword.Reserved */\n",
        ".source .kt { color: #B00040 } /* Keyword.Type */\n",
        ".source .m { color: #666666 } /* Literal.Number */\n",
        ".source .s { color: #BA2121 } /* Literal.String */\n",
        ".source .na { color: #7D9029 } /* Name.Attribute */\n",
        ".source .nb { color: #008000 } /* Name.Builtin */\n",
        ".source .nc { color: #0000FF; font-weight: bold } /* Name.Class */\n",
        ".source .no { color: #880000 } /* Name.Constant */\n",
        ".source .nd { color: #AA22FF } /* Name.Decorator */\n",
        ".source .ni { color: #999999; font-weight: bold } /* Name.Entity */\n",
        ".source .ne { color: #D2413A; font-weight: bold } /* Name.Exception */\n",
        ".source .nf { color: #0000FF } /* Name.Function */\n",
        ".source .nl { color: #A0A000 } /* Name.Label */\n",
        ".source .nn { color: #0000FF; font-weight: bold } /* Name.Namespace */\n",
        ".source .nt { color: #008000; font-weight: bold } /* Name.Tag */\n",
        ".source .nv { color: #19177C } /* Name.Variable */\n",
        ".source .ow { color: #AA22FF; font-weight: bold } /* Operator.Word */\n",
        ".source .w { color: #bbbbbb } /* Text.Whitespace */\n",
        ".source .mf { color: #666666 } /* Literal.Number.Float */\n",
        ".source .mh { color: #666666 } /* Literal.Number.Hex */\n",
        ".source .mi { color: #666666 } /* Literal.Number.Integer */\n",
        ".source .mo { color: #666666 } /* Literal.Number.Oct */\n",
        ".source .sb { color: #BA2121 } /* Literal.String.Backtick */\n",
        ".source .sc { color: #BA2121 } /* Literal.String.Char */\n",
        ".source .sd { color: #BA2121; font-style: italic } /* Literal.String.Doc */\n",
        ".source .s2 { color: #BA2121 } /* Literal.String.Double */\n",
        ".source .se { color: #BB6622; font-weight: bold } /* Literal.String.Escape */\n",
        ".source .sh { color: #BA2121 } /* Literal.String.Heredoc */\n",
        ".source .si { color: #BB6688; font-weight: bold } /* Literal.String.Interpol */\n",
        ".source .sx { color: #008000 } /* Literal.String.Other */\n",
        ".source .sr { color: #BB6688 } /* Literal.String.Regex */\n",
        ".source .s1 { color: #BA2121 } /* Literal.String.Single */\n",
        ".source .ss { color: #19177C } /* Literal.String.Symbol */\n",
        ".source .bp { color: #008000 } /* Name.Builtin.Pseudo */\n",
        ".source .vc { color: #19177C } /* Name.Variable.Class */\n",
        ".source .vg { color: #19177C } /* Name.Variable.Global */\n",
        ".source .vi { color: #19177C } /* Name.Variable.Instance */\n",
        ".source .il { color: #666666 } /* Literal.Number.Integer.Long */\n",
        "    </style>\n",
        "    <table class=\"sourcetable\"><tr><td class=\"linenos\"><div class=\"linenodiv\"><pre> 1\n",
        " 2\n",
        " 3\n",
        " 4\n",
        " 5\n",
        " 6\n",
        " 7\n",
        " 8\n",
        " 9\n",
        "10\n",
        "11\n",
        "12\n",
        "13\n",
        "14\n",
        "15\n",
        "16\n",
        "17\n",
        "18\n",
        "19\n",
        "20\n",
        "21\n",
        "22\n",
        "23\n",
        "24\n",
        "25\n",
        "26\n",
        "27\n",
        "28\n",
        "29\n",
        "30\n",
        "31\n",
        "32\n",
        "33\n",
        "34\n",
        "35\n",
        "36\n",
        "37\n",
        "38\n",
        "39\n",
        "40\n",
        "41\n",
        "42\n",
        "43\n",
        "44\n",
        "45\n",
        "46\n",
        "47\n",
        "48\n",
        "49\n",
        "50\n",
        "51\n",
        "52\n",
        "53\n",
        "54\n",
        "55\n",
        "56\n",
        "57\n",
        "58\n",
        "59\n",
        "60\n",
        "61\n",
        "62\n",
        "63\n",
        "64\n",
        "65\n",
        "66\n",
        "67\n",
        "68\n",
        "69\n",
        "70\n",
        "71\n",
        "72\n",
        "73</pre></div></td><td class=\"code\"><div class=\"source\"><pre><span class=\"c1\"># This file adapts the model described in</span>\n",
        "<span class=\"c1\"># &quot;From Sudden Stops to Fisherian Deflation, Quantitative Theory and Policy&quot;</span>\n",
        "<span class=\"c1\"># by Anton Korinek and Enrique G. Mendoza</span>\n",
        "\n",
        "<span class=\"l-Scalar-Plain\">name</span><span class=\"p-Indicator\">:</span> <span class=\"l-Scalar-Plain\">Sudden Stop (General)</span>\n",
        "\n",
        "<span class=\"l-Scalar-Plain\">model_type</span><span class=\"p-Indicator\">:</span> <span class=\"l-Scalar-Plain\">mfga</span>\n",
        "\n",
        "<span class=\"l-Scalar-Plain\">symbols</span><span class=\"p-Indicator\">:</span>\n",
        "\n",
        "    <span class=\"l-Scalar-Plain\">markov_states</span><span class=\"p-Indicator\">:</span> <span class=\"p-Indicator\">[</span><span class=\"nv\">y</span><span class=\"p-Indicator\">]</span>\n",
        "    <span class=\"l-Scalar-Plain\">states</span><span class=\"p-Indicator\">:</span> <span class=\"p-Indicator\">[</span><span class=\"nv\">l</span><span class=\"p-Indicator\">]</span>\n",
        "    <span class=\"l-Scalar-Plain\">controls</span><span class=\"p-Indicator\">:</span> <span class=\"p-Indicator\">[</span><span class=\"nv\">b</span><span class=\"p-Indicator\">,</span> <span class=\"nv\">lam</span><span class=\"p-Indicator\">]</span>\n",
        "    <span class=\"l-Scalar-Plain\">auxiliaries</span><span class=\"p-Indicator\">:</span> <span class=\"p-Indicator\">[</span><span class=\"nv\">c</span><span class=\"p-Indicator\">]</span>\n",
        "    <span class=\"l-Scalar-Plain\">values</span><span class=\"p-Indicator\">:</span> <span class=\"p-Indicator\">[</span><span class=\"nv\">V</span><span class=\"p-Indicator\">,</span> <span class=\"nv\">Vc</span><span class=\"p-Indicator\">]</span>\n",
        "    <span class=\"l-Scalar-Plain\">parameters</span><span class=\"p-Indicator\">:</span> <span class=\"p-Indicator\">[</span><span class=\"nv\">beta</span><span class=\"p-Indicator\">,</span> <span class=\"nv\">R</span><span class=\"p-Indicator\">,</span> <span class=\"nv\">sigma</span><span class=\"p-Indicator\">,</span> <span class=\"nv\">a</span><span class=\"p-Indicator\">,</span> <span class=\"nv\">mu</span><span class=\"p-Indicator\">,</span> <span class=\"nv\">kappa</span><span class=\"p-Indicator\">,</span> <span class=\"nv\">delta_y</span><span class=\"p-Indicator\">,</span> <span class=\"nv\">pi</span><span class=\"p-Indicator\">,</span> <span class=\"nv\">lam_inf</span><span class=\"p-Indicator\">]</span>\n",
        "\n",
        "<span class=\"l-Scalar-Plain\">equations</span><span class=\"p-Indicator\">:</span>\n",
        "\n",
        "    <span class=\"l-Scalar-Plain\">transition</span><span class=\"p-Indicator\">:</span>\n",
        "\n",
        "        <span class=\"p-Indicator\">-</span> <span class=\"l-Scalar-Plain\">l = b(-1)</span>\n",
        "\n",
        "    <span class=\"l-Scalar-Plain\">arbitrage</span><span class=\"p-Indicator\">:</span>\n",
        "\n",
        "        <span class=\"p-Indicator\">-</span> <span class=\"l-Scalar-Plain\">lam = b/c</span>\n",
        "        <span class=\"p-Indicator\">-</span> <span class=\"l-Scalar-Plain\">beta*(c(1)/c)^(-sigma)*R - 1    |  lam_inf &lt;= lam &lt;= inf</span>\n",
        "\n",
        "\n",
        "    <span class=\"l-Scalar-Plain\">auxiliary</span><span class=\"p-Indicator\">:</span>\n",
        "\n",
        "        <span class=\"p-Indicator\">-</span> <span class=\"l-Scalar-Plain\">c = 1 + y + l*R - b</span>\n",
        "\n",
        "    <span class=\"l-Scalar-Plain\">value</span><span class=\"p-Indicator\">:</span>\n",
        "\n",
        "        <span class=\"p-Indicator\">-</span> <span class=\"l-Scalar-Plain\">V = c^(1.0-sigma)/(1.0-sigma) + beta*V(1)</span>\n",
        "        <span class=\"p-Indicator\">-</span> <span class=\"l-Scalar-Plain\">Vc = c^(1.0-sigma)/(1.0-sigma)</span>\n",
        "\n",
        "<span class=\"l-Scalar-Plain\">markov_chain</span><span class=\"p-Indicator\">:</span>\n",
        "\n",
        "    <span class=\"p-Indicator\">-</span> <span class=\"p-Indicator\">[[</span> <span class=\"nv\">1.0-delta_y</span> <span class=\"p-Indicator\">],</span>  <span class=\"c1\"># bad state</span>\n",
        "       <span class=\"p-Indicator\">[</span> <span class=\"nv\">1.0</span> <span class=\"p-Indicator\">]]</span>          <span class=\"c1\"># good state</span>\n",
        "\n",
        "    <span class=\"p-Indicator\">-</span> <span class=\"p-Indicator\">[[</span> <span class=\"nv\">0.5</span><span class=\"p-Indicator\">,</span> <span class=\"nv\">1-0.5</span> <span class=\"p-Indicator\">],</span>   <span class=\"c1\"># probabilities   [p(L|L), p(H|L)]</span>\n",
        "       <span class=\"p-Indicator\">[</span> <span class=\"nv\">0.5</span><span class=\"p-Indicator\">,</span> <span class=\"nv\">0.5</span> <span class=\"p-Indicator\">]]</span>     <span class=\"c1\"># probabilities   [p(L|H), p(H|H)]</span>\n",
        "\n",
        "<span class=\"l-Scalar-Plain\">calibration</span><span class=\"p-Indicator\">:</span>\n",
        "\n",
        "    <span class=\"l-Scalar-Plain\">beta</span><span class=\"p-Indicator\">:</span> <span class=\"l-Scalar-Plain\">0.95</span>\n",
        "    <span class=\"l-Scalar-Plain\">R</span><span class=\"p-Indicator\">:</span> <span class=\"l-Scalar-Plain\">1.03</span>\n",
        "    <span class=\"l-Scalar-Plain\">sigma</span><span class=\"p-Indicator\">:</span> <span class=\"l-Scalar-Plain\">2.0</span>\n",
        "    <span class=\"l-Scalar-Plain\">a</span><span class=\"p-Indicator\">:</span> <span class=\"l-Scalar-Plain\">1/3</span>\n",
        "    <span class=\"l-Scalar-Plain\">mu</span><span class=\"p-Indicator\">:</span> <span class=\"l-Scalar-Plain\">0.8</span>\n",
        "    <span class=\"l-Scalar-Plain\">kappa</span><span class=\"p-Indicator\">:</span> <span class=\"l-Scalar-Plain\">1.3</span>\n",
        "    <span class=\"l-Scalar-Plain\">delta_y</span><span class=\"p-Indicator\">:</span> <span class=\"l-Scalar-Plain\">0.03</span>\n",
        "    <span class=\"l-Scalar-Plain\">pi</span><span class=\"p-Indicator\">:</span> <span class=\"l-Scalar-Plain\">0.05</span>\n",
        "    <span class=\"l-Scalar-Plain\">lam_inf</span><span class=\"p-Indicator\">:</span> <span class=\"l-Scalar-Plain\">-0.2</span>\n",
        "    <span class=\"l-Scalar-Plain\">y</span><span class=\"p-Indicator\">:</span> <span class=\"l-Scalar-Plain\">1.0</span>\n",
        "    <span class=\"l-Scalar-Plain\">c</span><span class=\"p-Indicator\">:</span> <span class=\"l-Scalar-Plain\">1.0 + y</span>\n",
        "    <span class=\"l-Scalar-Plain\">b</span><span class=\"p-Indicator\">:</span> <span class=\"l-Scalar-Plain\">0.0</span>\n",
        "    <span class=\"l-Scalar-Plain\">l</span><span class=\"p-Indicator\">:</span> <span class=\"l-Scalar-Plain\">0.0</span>\n",
        "    <span class=\"l-Scalar-Plain\">lam</span><span class=\"p-Indicator\">:</span> <span class=\"l-Scalar-Plain\">0.0</span>\n",
        "\n",
        "    <span class=\"l-Scalar-Plain\">V</span><span class=\"p-Indicator\">:</span> <span class=\"l-Scalar-Plain\">c^(1.0-sigma)/(1.0-sigma)/(1.0-beta)</span>\n",
        "    <span class=\"l-Scalar-Plain\">Vc</span><span class=\"p-Indicator\">:</span> <span class=\"l-Scalar-Plain\">c^(1.0-sigma)/(1.0-sigma)</span>\n",
        "\n",
        "<span class=\"l-Scalar-Plain\">options</span><span class=\"p-Indicator\">:</span>\n",
        "\n",
        "    <span class=\"l-Scalar-Plain\">approximation_space</span><span class=\"p-Indicator\">:</span>\n",
        "\n",
        "        <span class=\"l-Scalar-Plain\">a</span><span class=\"p-Indicator\">:</span> <span class=\"p-Indicator\">[</span><span class=\"nv\">-1.0</span><span class=\"p-Indicator\">]</span>\n",
        "        <span class=\"l-Scalar-Plain\">b</span><span class=\"p-Indicator\">:</span> <span class=\"p-Indicator\">[</span> <span class=\"nv\">1.0</span><span class=\"p-Indicator\">]</span>\n",
        "        <span class=\"l-Scalar-Plain\">orders</span><span class=\"p-Indicator\">:</span> <span class=\"p-Indicator\">[</span><span class=\"nv\">10</span><span class=\"p-Indicator\">]</span>\n",
        "</pre></div>\n",
        "</td></tr></table>\n",
        "    "
       ],
       "metadata": {},
       "output_type": "pyout",
       "prompt_number": 12,
       "text": [
        "<IPython.core.display.HTML at 0x7f43e0207890>"
       ]
      }
     ],
     "prompt_number": 12
    },
    {
     "cell_type": "markdown",
     "metadata": {},
     "source": [
      "## importing the model\n",
      "\n",
      "Note, that residuals, are not zero at the calibration we supply. This is because the representative agent is impatient\n",
      "and we have $\\beta<1/R$. In this case it doesn't matter.\n",
      "\n",
      "By default, the calibrated value for endogenous variables are used as a (constant) starting point for the decision rules."
     ]
    },
    {
     "cell_type": "code",
     "collapsed": false,
     "input": [
      "model = yaml_import('sudden_stop.yaml')\n",
      "model"
     ],
     "language": "python",
     "metadata": {},
     "outputs": [
      {
       "metadata": {},
       "output_type": "pyout",
       "prompt_number": 13,
       "text": [
        "<repr(<dolo.compiler.model_numeric.NumericModel at 0x7f43e01ed128>) failed: KeyError: 'value'>"
       ]
      }
     ],
     "prompt_number": 13
    },
    {
     "cell_type": "code",
     "collapsed": false,
     "input": [
      "# to avoid numerical glitches we choose a relatively high number of grid points\n",
      "mdr = solve_mfg_model(model, verbose=True, orders=[1000])"
     ],
     "language": "python",
     "metadata": {},
     "outputs": [
      {
       "output_type": "stream",
       "stream": "stdout",
       "text": [
        "Solving WITH complementarities.\n",
        "------------------------------------------------\n",
        "| N   |  Error     | Gain     | Time     | nit |\n",
        "------------------------------------------------\n",
        "|   1 |  5.014e-01 |      nan |    0.312 |   7 |"
       ]
      },
      {
       "output_type": "stream",
       "stream": "stdout",
       "text": [
        "\n",
        "|   2 |  1.600e-01 |    0.319 |    0.264 |   6 |"
       ]
      },
      {
       "output_type": "stream",
       "stream": "stdout",
       "text": [
        "\n",
        "|   3 |  7.472e-02 |    0.467 |    0.265 |   6 |"
       ]
      },
      {
       "output_type": "stream",
       "stream": "stdout",
       "text": [
        "\n",
        "|   4 |  4.065e-02 |    0.544 |    0.222 |   5 |"
       ]
      },
      {
       "output_type": "stream",
       "stream": "stdout",
       "text": [
        "\n",
        "|   5 |  2.388e-02 |    0.587 |    0.226 |   5 |"
       ]
      },
      {
       "output_type": "stream",
       "stream": "stdout",
       "text": [
        "\n",
        "|   6 |  1.933e-02 |    0.809 |    0.407 |   9 |"
       ]
      },
      {
       "output_type": "stream",
       "stream": "stdout",
       "text": [
        "\n",
        "|   7 |  1.609e-02 |    0.832 |    0.261 |   6 |"
       ]
      },
      {
       "output_type": "stream",
       "stream": "stdout",
       "text": [
        "\n",
        "|   8 |  1.370e-02 |    0.852 |    0.219 |   5 |"
       ]
      },
      {
       "output_type": "stream",
       "stream": "stdout",
       "text": [
        "\n",
        "|   9 |  1.187e-02 |    0.867 |    0.174 |   4 |"
       ]
      },
      {
       "output_type": "stream",
       "stream": "stdout",
       "text": [
        "\n",
        "|  10 |  1.049e-02 |    0.883 |    0.136 |   3 |"
       ]
      },
      {
       "output_type": "stream",
       "stream": "stdout",
       "text": [
        "\n",
        "|  11 |  9.381e-03 |    0.894 |    0.141 |   3 |"
       ]
      },
      {
       "output_type": "stream",
       "stream": "stdout",
       "text": [
        "\n",
        "|  12 |  8.467e-03 |    0.903 |    0.132 |   3 |"
       ]
      },
      {
       "output_type": "stream",
       "stream": "stdout",
       "text": [
        "\n",
        "|  13 |  7.711e-03 |    0.911 |    0.132 |   3 |"
       ]
      },
      {
       "output_type": "stream",
       "stream": "stdout",
       "text": [
        "\n",
        "|  14 |  7.060e-03 |    0.916 |    0.134 |   3 |"
       ]
      },
      {
       "output_type": "stream",
       "stream": "stdout",
       "text": [
        "\n",
        "|  15 |  6.503e-03 |    0.921 |    0.089 |   2 |"
       ]
      },
      {
       "output_type": "stream",
       "stream": "stdout",
       "text": [
        "\n",
        "|  16 |  6.016e-03 |    0.925 |    0.099 |   2 |"
       ]
      },
      {
       "output_type": "stream",
       "stream": "stdout",
       "text": [
        "\n",
        "|  17 |  4.611e-03 |    0.766 |    0.092 |   2 |"
       ]
      },
      {
       "output_type": "stream",
       "stream": "stdout",
       "text": [
        "\n",
        "|  18 |  8.356e-04 |    0.181 |    0.093 |   2 |"
       ]
      },
      {
       "output_type": "stream",
       "stream": "stdout",
       "text": [
        "\n",
        "|  19 |  8.879e-05 |    0.106 |    0.051 |   1 |"
       ]
      },
      {
       "output_type": "stream",
       "stream": "stdout",
       "text": [
        "\n",
        "|  20 |  1.449e-05 |    0.163 |    0.057 |   1 |"
       ]
      },
      {
       "output_type": "stream",
       "stream": "stdout",
       "text": [
        "\n",
        "|  21 |  2.483e-06 |    0.171 |    0.057 |   1 |"
       ]
      },
      {
       "output_type": "stream",
       "stream": "stdout",
       "text": [
        "\n",
        "|  22 |  2.605e-07 |    0.105 |    0.054 |   1 |"
       ]
      },
      {
       "output_type": "stream",
       "stream": "stdout",
       "text": [
        "\n",
        "------------------------------------------------\n",
        "Elapsed: 3.62168908119 seconds.\n",
        "------------------------------------------------\n"
       ]
      }
     ],
     "prompt_number": 14
    },
    {
     "cell_type": "code",
     "collapsed": false,
     "input": [
      "# produce the plots\n",
      "n_steps = 100\n",
      "\n",
      "figure(figsize(10,6))\n",
      "subplot(121)\n",
      "plot_decision_rule(model, mdr, 'l', 'b', i0=0, n_steps=n_steps, label='$b_t$ (bad state)' )\n",
      "plot_decision_rule(model, mdr, 'l', 'b', i0=1, n_steps=n_steps, label='$b_t$ (good state)' )\n",
      "plot_decision_rule(model, mdr, 'l', 'l', i0=1, n_steps=n_steps, linestyle='--', color='black' )\n",
      "#plot(df['l'], df['l'], linestyle='--', color='black')\n",
      "\n",
      "# to plot the borrowing limit, we produce a dataframe df which contains all series\n",
      "# (note that we don't supply a variable name to plot, only the state 'l')\n",
      "\n",
      "lam_inf = model.get_calibration('lam_inf')\n",
      "df = plot_decision_rule(model, mdr, 'l', i0=0, n_steps=n_steps)\n",
      "plot(df['l'], lam_inf*df['c'], linestyle='--', color='black')\n",
      "\n",
      "xlabel('$l_t$')\n",
      "\n",
      "legend(loc= 'upper left')\n",
      "\n",
      "\n",
      "subplot(122)\n",
      "plot_decision_rule(model, mdr, 'l', 'c', i0=0, n_steps=n_steps, label='$c_t$ (bad state)' )\n",
      "plot_decision_rule(model, mdr, 'l', 'c', i0=1, n_steps=n_steps, label='$c_t$ (good state)' )\n",
      "legend(loc= 'lower right')\n",
      "xlabel('$l_t$')\n",
      "\n",
      "suptitle(\"Decision Rules\")\n"
     ],
     "language": "python",
     "metadata": {},
     "outputs": [
      {
       "metadata": {},
       "output_type": "pyout",
       "prompt_number": 15,
       "text": [
        "<matplotlib.text.Text at 0x7f43e0087d50>"
       ]
      },
      {
       "metadata": {},
       "output_type": "display_data",
       "png": "[encoded data removed]",
       "text": [
        "<matplotlib.figure.Figure at 0x7f43e01a70d0>"
       ]
      }
     ],
     "prompt_number": 15
    },
    {
     "cell_type": "markdown",
     "metadata": {},
     "source": [
      "# Look at stochastic simulations"
     ]
    },
    {
     "cell_type": "code",
     "collapsed": false,
     "input": [
      "i_0 = 1 # we start from the good state\n",
      "sim = simulate(model, mdr, i_0, s0=0.5, n_exp=1, horizon=100) # markov_indices=markov_indices)"
     ],
     "language": "python",
     "metadata": {},
     "outputs": [],
     "prompt_number": 16
    },
    {
     "cell_type": "code",
     "collapsed": false,
     "input": [
      "subplot(211)\n",
      "plot(sim['y'])\n",
      "subplot(212)\n",
      "plot(sim['b'])"
     ],
     "language": "python",
     "metadata": {},
     "outputs": [
      {
       "metadata": {},
       "output_type": "pyout",
       "prompt_number": 17,
       "text": [
        "[<matplotlib.lines.Line2D at 0x7f43d360ad10>]"
       ]
      },
      {
       "metadata": {},
       "output_type": "display_data",
       "png": "[encoded data removed]",
       "text": [
        "<matplotlib.figure.Figure at 0x7f43e0234410>"
       ]
      }
     ],
     "prompt_number": 17
    },
    {
     "cell_type": "markdown",
     "metadata": {},
     "source": [
      "# Sensitivity analysis\n",
      "\n",
      "Here we want to compare the saving behaviour as a function of risk aversion $\\sigma$.\n",
      "We contrast the baseline $\\sigma=2$ with the high aversion scenario $\\sigma=16$."
     ]
    },
    {
     "cell_type": "code",
     "collapsed": false,
     "input": [
      "# we solve the model with sigma=16\n",
      "model.set_calibration(sigma=16.0)\n",
      "mdr_high_gamma = solve_mfg_model(model, verbose=True, orders=[1000])"
     ],
     "language": "python",
     "metadata": {},
     "outputs": [
      {
       "output_type": "stream",
       "stream": "stdout",
       "text": [
        "Solving WITH complementarities.\n",
        "------------------------------------------------\n",
        "| N   |  Error     | Gain     | Time     | nit |\n",
        "------------------------------------------------\n",
        "|   1 |  5.133e-01 |      nan |    0.451 |  10 |"
       ]
      },
      {
       "output_type": "stream",
       "stream": "stdout",
       "text": [
        "\n",
        "|   2 |  1.703e-01 |    0.332 |    0.336 |   8 |"
       ]
      },
      {
       "output_type": "stream",
       "stream": "stdout",
       "text": [
        "\n",
        "|   3 |  8.435e-02 |    0.495 |    0.310 |   7 |"
       ]
      },
      {
       "output_type": "stream",
       "stream": "stdout",
       "text": [
        "\n",
        "|   4 |  5.005e-02 |    0.593 |    0.307 |   7 |"
       ]
      },
      {
       "output_type": "stream",
       "stream": "stdout",
       "text": [
        "\n",
        "|   5 |  3.292e-02 |    0.658 |    0.311 |   7 |"
       ]
      },
      {
       "output_type": "stream",
       "stream": "stdout",
       "text": [
        "\n",
        "|   6 |  2.313e-02 |    0.703 |    0.329 |   7 |"
       ]
      },
      {
       "output_type": "stream",
       "stream": "stdout",
       "text": [
        "\n",
        "|   7 |  1.702e-02 |    0.736 |    0.300 |   7 |"
       ]
      },
      {
       "output_type": "stream",
       "stream": "stdout",
       "text": [
        "\n",
        "|   8 |  1.295e-02 |    0.761 |    0.304 |   7 |"
       ]
      },
      {
       "output_type": "stream",
       "stream": "stdout",
       "text": [
        "\n",
        "|   9 |  1.011e-02 |    0.780 |    0.330 |   7 |"
       ]
      },
      {
       "output_type": "stream",
       "stream": "stdout",
       "text": [
        "\n",
        "|  10 |  8.045e-03 |    0.796 |    0.312 |   7 |"
       ]
      },
      {
       "output_type": "stream",
       "stream": "stdout",
       "text": [
        "\n",
        "|  11 |  6.501e-03 |    0.808 |    0.313 |   7 |"
       ]
      },
      {
       "output_type": "stream",
       "stream": "stdout",
       "text": [
        "\n",
        "|  12 |  5.316e-03 |    0.818 |    0.343 |   7 |"
       ]
      },
      {
       "output_type": "stream",
       "stream": "stdout",
       "text": [
        "\n",
        "|  13 |  4.387e-03 |    0.825 |    0.322 |   6 |"
       ]
      },
      {
       "output_type": "stream",
       "stream": "stdout",
       "text": [
        "\n",
        "|  14 |  3.647e-03 |    0.831 |    0.411 |   7 |"
       ]
      },
      {
       "output_type": "stream",
       "stream": "stdout",
       "text": [
        "\n",
        "|  15 |  3.048e-03 |    0.836 |    0.334 |   7 |"
       ]
      },
      {
       "output_type": "stream",
       "stream": "stdout",
       "text": [
        "\n",
        "|  16 |  2.558e-03 |    0.839 |    0.299 |   6 |"
       ]
      },
      {
       "output_type": "stream",
       "stream": "stdout",
       "text": [
        "\n",
        "|  17 |  2.206e-03 |    0.863 |    0.266 |   6 |"
       ]
      },
      {
       "output_type": "stream",
       "stream": "stdout",
       "text": [
        "\n",
        "|  18 |  2.010e-03 |    0.911 |    0.281 |   6 |"
       ]
      },
      {
       "output_type": "stream",
       "stream": "stdout",
       "text": [
        "\n",
        "|  19 |  1.842e-03 |    0.916 |    0.229 |   5 |"
       ]
      },
      {
       "output_type": "stream",
       "stream": "stdout",
       "text": [
        "\n",
        "|  20 |  1.699e-03 |    0.922 |    0.208 |   5 |"
       ]
      },
      {
       "output_type": "stream",
       "stream": "stdout",
       "text": [
        "\n",
        "|  21 |  1.580e-03 |    0.930 |    0.210 |   5 |"
       ]
      },
      {
       "output_type": "stream",
       "stream": "stdout",
       "text": [
        "\n",
        "|  22 |  1.472e-03 |    0.932 |    0.215 |   5 |"
       ]
      },
      {
       "output_type": "stream",
       "stream": "stdout",
       "text": [
        "\n",
        "|  23 |  1.374e-03 |    0.933 |    0.220 |   5 |"
       ]
      },
      {
       "output_type": "stream",
       "stream": "stdout",
       "text": [
        "\n",
        "|  24 |  1.289e-03 |    0.938 |    0.226 |   5 |"
       ]
      },
      {
       "output_type": "stream",
       "stream": "stdout",
       "text": [
        "\n",
        "|  25 |  1.210e-03 |    0.939 |    0.226 |   5 |"
       ]
      },
      {
       "output_type": "stream",
       "stream": "stdout",
       "text": [
        "\n",
        "|  26 |  1.137e-03 |    0.940 |    0.258 |   5 |"
       ]
      },
      {
       "output_type": "stream",
       "stream": "stdout",
       "text": [
        "\n",
        "|  27 |  1.073e-03 |    0.944 |    0.176 |   4 |"
       ]
      },
      {
       "output_type": "stream",
       "stream": "stdout",
       "text": [
        "\n",
        "|  28 |  1.013e-03 |    0.944 |    0.190 |   4 |"
       ]
      },
      {
       "output_type": "stream",
       "stream": "stdout",
       "text": [
        "\n",
        "|  29 |  9.575e-04 |    0.945 |    0.134 |   3 |"
       ]
      },
      {
       "output_type": "stream",
       "stream": "stdout",
       "text": [
        "\n",
        "|  30 |  9.075e-04 |    0.948 |    0.127 |   3 |"
       ]
      },
      {
       "output_type": "stream",
       "stream": "stdout",
       "text": [
        "\n",
        "|  31 |  8.600e-04 |    0.948 |    0.137 |   3 |"
       ]
      },
      {
       "output_type": "stream",
       "stream": "stdout",
       "text": [
        "\n",
        "|  32 |  8.166e-04 |    0.950 |    0.130 |   3 |"
       ]
      },
      {
       "output_type": "stream",
       "stream": "stdout",
       "text": [
        "\n",
        "|  33 |  7.764e-04 |    0.951 |    0.133 |   3 |"
       ]
      },
      {
       "output_type": "stream",
       "stream": "stdout",
       "text": [
        "\n",
        "|  34 |  7.384e-04 |    0.951 |    0.132 |   3 |"
       ]
      },
      {
       "output_type": "stream",
       "stream": "stdout",
       "text": [
        "\n",
        "|  35 |  7.035e-04 |    0.953 |    0.133 |   3 |"
       ]
      },
      {
       "output_type": "stream",
       "stream": "stdout",
       "text": [
        "\n",
        "|  36 |  6.705e-04 |    0.953 |    0.091 |   2 |"
       ]
      },
      {
       "output_type": "stream",
       "stream": "stdout",
       "text": [
        "\n",
        "|  37 |  6.396e-04 |    0.954 |    0.096 |   2 |"
       ]
      },
      {
       "output_type": "stream",
       "stream": "stdout",
       "text": [
        "\n",
        "|  38 |  6.108e-04 |    0.955 |    0.092 |   2 |"
       ]
      },
      {
       "output_type": "stream",
       "stream": "stdout",
       "text": [
        "\n",
        "|  39 |  5.835e-04 |    0.955 |    0.091 |   2 |"
       ]
      },
      {
       "output_type": "stream",
       "stream": "stdout",
       "text": [
        "\n",
        "|  40 |  5.579e-04 |    0.956 |    0.089 |   2 |"
       ]
      },
      {
       "output_type": "stream",
       "stream": "stdout",
       "text": [
        "\n",
        "|  41 |  5.338e-04 |    0.957 |    0.123 |   2 |"
       ]
      },
      {
       "output_type": "stream",
       "stream": "stdout",
       "text": [
        "\n",
        "|  42 |  5.110e-04 |    0.957 |    0.121 |   2 |"
       ]
      },
      {
       "output_type": "stream",
       "stream": "stdout",
       "text": [
        "\n",
        "|  43 |  4.895e-04 |    0.958 |    0.098 |   2 |"
       ]
      },
      {
       "output_type": "stream",
       "stream": "stdout",
       "text": [
        "\n",
        "|  44 |  4.691e-04 |    0.958 |    0.089 |   2 |"
       ]
      },
      {
       "output_type": "stream",
       "stream": "stdout",
       "text": [
        "\n",
        "|  45 |  4.499e-04 |    0.959 |    0.090 |   2 |"
       ]
      },
      {
       "output_type": "stream",
       "stream": "stdout",
       "text": [
        "\n",
        "|  46 |  4.316e-04 |    0.959 |    0.091 |   2 |"
       ]
      },
      {
       "output_type": "stream",
       "stream": "stdout",
       "text": [
        "\n",
        "|  47 |  4.143e-04 |    0.960 |    0.089 |   2 |"
       ]
      },
      {
       "output_type": "stream",
       "stream": "stdout",
       "text": [
        "\n",
        "|  48 |  3.978e-04 |    0.960 |    0.095 |   2 |"
       ]
      },
      {
       "output_type": "stream",
       "stream": "stdout",
       "text": [
        "\n",
        "|  49 |  3.821e-04 |    0.961 |    0.092 |   2 |"
       ]
      },
      {
       "output_type": "stream",
       "stream": "stdout",
       "text": [
        "\n",
        "|  50 |  3.598e-04 |    0.941 |    0.116 |   2 |"
       ]
      },
      {
       "output_type": "stream",
       "stream": "stdout",
       "text": [
        "\n",
        "|  51 |  3.132e-04 |    0.871 |    0.103 |   2 |"
       ]
      },
      {
       "output_type": "stream",
       "stream": "stdout",
       "text": [
        "\n",
        "|  52 |  2.476e-04 |    0.790 |    0.091 |   2 |"
       ]
      },
      {
       "output_type": "stream",
       "stream": "stdout",
       "text": [
        "\n",
        "|  53 |  1.782e-04 |    0.720 |    0.097 |   2 |"
       ]
      },
      {
       "output_type": "stream",
       "stream": "stdout",
       "text": [
        "\n",
        "|  54 |  1.190e-04 |    0.668 |    0.092 |   2 |"
       ]
      },
      {
       "output_type": "stream",
       "stream": "stdout",
       "text": [
        "\n",
        "|  55 |  7.541e-05 |    0.634 |    0.096 |   2 |"
       ]
      },
      {
       "output_type": "stream",
       "stream": "stdout",
       "text": [
        "\n",
        "|  56 |  4.634e-05 |    0.615 |    0.091 |   2 |"
       ]
      },
      {
       "output_type": "stream",
       "stream": "stdout",
       "text": [
        "\n",
        "|  57 |  2.802e-05 |    0.605 |    0.154 |   2 |"
       ]
      },
      {
       "output_type": "stream",
       "stream": "stdout",
       "text": [
        "\n",
        "|  58 |  1.684e-05 |    0.601 |    0.104 |   2 |"
       ]
      },
      {
       "output_type": "stream",
       "stream": "stdout",
       "text": [
        "\n",
        "|  59 |  1.010e-05 |    0.600 |    0.051 |   1 |"
       ]
      },
      {
       "output_type": "stream",
       "stream": "stdout",
       "text": [
        "\n",
        "|  60 |  6.072e-06 |    0.601 |    0.050 |   1 |\n",
        "|  61 |  3.659e-06 |    0.603 |    0.045 |   1 |"
       ]
      },
      {
       "output_type": "stream",
       "stream": "stdout",
       "text": [
        "\n",
        "|  62 |  2.211e-06 |    0.604 |    0.059 |   1 |"
       ]
      },
      {
       "output_type": "stream",
       "stream": "stdout",
       "text": [
        "\n",
        "|  63 |  1.340e-06 |    0.606 |    0.053 |   1 |"
       ]
      },
      {
       "output_type": "stream",
       "stream": "stdout",
       "text": [
        "\n",
        "|  64 |  8.141e-07 |    0.607 |    0.052 |   1 |"
       ]
      },
      {
       "output_type": "stream",
       "stream": "stdout",
       "text": [
        "\n",
        "------------------------------------------------\n",
        "Elapsed: 11.5678060055 seconds.\n",
        "------------------------------------------------\n"
       ]
      }
     ],
     "prompt_number": 18
    },
    {
     "cell_type": "code",
     "collapsed": false,
     "input": [
      "# now we compare the decision rules with low and high risk aversion\n",
      "plot_decision_rule(model, mdr, 'l', 'b', i0=0, n_steps=n_steps, label='$b_t$ (bad)' )\n",
      "plot_decision_rule(model, mdr, 'l', 'b', i0=1, n_steps=n_steps, label='$b_t$ (good)' )\n",
      "plot_decision_rule(model, mdr_high_gamma, 'l', 'b', i0=0, n_steps=n_steps, label='$b_t$ (bad) [high gamma]' )\n",
      "plot_decision_rule(model, mdr_high_gamma, 'l', 'b', i0=1, n_steps=n_steps, label='$b_t$ (good) [high gamma]' )\n",
      "plot(df['l'], df['l'], linestyle='--', color='black')\n",
      "plot(df['l'], -0.2*df['c'], linestyle='--', color='black')\n",
      "legend(loc= 'upper left')"
     ],
     "language": "python",
     "metadata": {},
     "outputs": [
      {
       "metadata": {},
       "output_type": "pyout",
       "prompt_number": 19,
       "text": [
        "<matplotlib.legend.Legend at 0x7f43d3494910>"
       ]
      },
      {
       "metadata": {},
       "output_type": "display_data",
       "png": "[encoded data removed]",
       "text": [
        "<matplotlib.figure.Figure at 0x7f43d357e510>"
       ]
      }
     ],
     "prompt_number": 19
    },
    {
     "cell_type": "code",
     "collapsed": false,
     "input": [],
     "language": "python",
     "metadata": {},
     "outputs": []
    }
   ],
   "metadata": {}
  }
 ]
}