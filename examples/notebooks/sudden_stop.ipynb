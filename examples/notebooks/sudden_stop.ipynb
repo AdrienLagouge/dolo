{
 "cells": [
  {
   "cell_type": "markdown",
   "metadata": {},
   "source": [
    "# Sudden Stop Model\n",
    "\n",
    "In this notebook we replicate the baseline model exposed in \n",
    "\n",
    "`From Sudden Stops to Fisherian Deflation, Quantitative Theory and Policy` by __Anton Korinek and Enrique G. Mendoza__\n",
    "\n",
    "The file `sudden_stop.yaml` which is printed below, describes the model, and must be included in the same directory as this notebook."
   ]
  },
  {
   "cell_type": "markdown",
   "metadata": {},
   "source": [
    "## importing necessary functions"
   ]
  },
  {
   "cell_type": "code",
   "execution_count": 1,
   "metadata": {
    "collapsed": false
   },
   "outputs": [
    {
     "name": "stdout",
     "output_type": "stream",
     "text": [
      "Populating the interactive namespace from numpy and matplotlib\n"
     ]
    }
   ],
   "source": [
    "%pylab inline"
   ]
  },
  {
   "cell_type": "code",
   "execution_count": 3,
   "metadata": {
    "collapsed": false
   },
   "outputs": [],
   "source": [
    "from dolo import *\n",
    "from dolo.algos import time_iteration\n",
    "from dolo.algos import plot_decision_rule, simulate"
   ]
  },
  {
   "cell_type": "markdown",
   "metadata": {},
   "source": [
    "## writing the model"
   ]
  },
  {
   "cell_type": "code",
   "execution_count": 8,
   "metadata": {
    "collapsed": false
   },
   "outputs": [
    {
     "data": {
      "text/plain": [
       "'/home/pablo/Mobilhome/econforge/dolo/examples/notebooks'"
      ]
     },
     "execution_count": 8,
     "metadata": {},
     "output_type": "execute_result"
    }
   ],
   "source": [
    "pwd"
   ]
  },
  {
   "cell_type": "code",
   "execution_count": 9,
   "metadata": {
    "collapsed": false,
    "scrolled": true
   },
   "outputs": [
    {
     "data": {
      "text/html": [
       "<style>\n",
       "    .source .hll { background-color: #ffffcc }\n",
       ".source  { background: #f8f8f8; }\n",
       ".source .c { color: #408080; font-style: italic } /* Comment */\n",
       ".source .err { border: 1px solid #FF0000 } /* Error */\n",
       ".source .k { color: #008000; font-weight: bold } /* Keyword */\n",
       ".source .o { color: #666666 } /* Operator */\n",
       ".source .ch { color: #408080; font-style: italic } /* Comment.Hashbang */\n",
       ".source .cm { color: #408080; font-style: italic } /* Comment.Multiline */\n",
       ".source .cp { color: #BC7A00 } /* Comment.Preproc */\n",
       ".source .cpf { color: #408080; font-style: italic } /* Comment.PreprocFile */\n",
       ".source .c1 { color: #408080; font-style: italic } /* Comment.Single */\n",
       ".source .cs { color: #408080; font-style: italic } /* Comment.Special */\n",
       ".source .gd { color: #A00000 } /* Generic.Deleted */\n",
       ".source .ge { font-style: italic } /* Generic.Emph */\n",
       ".source .gr { color: #FF0000 } /* Generic.Error */\n",
       ".source .gh { color: #000080; font-weight: bold } /* Generic.Heading */\n",
       ".source .gi { color: #00A000 } /* Generic.Inserted */\n",
       ".source .go { color: #888888 } /* Generic.Output */\n",
       ".source .gp { color: #000080; font-weight: bold } /* Generic.Prompt */\n",
       ".source .gs { font-weight: bold } /* Generic.Strong */\n",
       ".source .gu { color: #800080; font-weight: bold } /* Generic.Subheading */\n",
       ".source .gt { color: #0044DD } /* Generic.Traceback */\n",
       ".source .kc { color: #008000; font-weight: bold } /* Keyword.Constant */\n",
       ".source .kd { color: #008000; font-weight: bold } /* Keyword.Declaration */\n",
       ".source .kn { color: #008000; font-weight: bold } /* Keyword.Namespace */\n",
       ".source .kp { color: #008000 } /* Keyword.Pseudo */\n",
       ".source .kr { color: #008000; font-weight: bold } /* Keyword.Reserved */\n",
       ".source .kt { color: #B00040 } /* Keyword.Type */\n",
       ".source .m { color: #666666 } /* Literal.Number */\n",
       ".source .s { color: #BA2121 } /* Literal.String */\n",
       ".source .na { color: #7D9029 } /* Name.Attribute */\n",
       ".source .nb { color: #008000 } /* Name.Builtin */\n",
       ".source .nc { color: #0000FF; font-weight: bold } /* Name.Class */\n",
       ".source .no { color: #880000 } /* Name.Constant */\n",
       ".source .nd { color: #AA22FF } /* Name.Decorator */\n",
       ".source .ni { color: #999999; font-weight: bold } /* Name.Entity */\n",
       ".source .ne { color: #D2413A; font-weight: bold } /* Name.Exception */\n",
       ".source .nf { color: #0000FF } /* Name.Function */\n",
       ".source .nl { color: #A0A000 } /* Name.Label */\n",
       ".source .nn { color: #0000FF; font-weight: bold } /* Name.Namespace */\n",
       ".source .nt { color: #008000; font-weight: bold } /* Name.Tag */\n",
       ".source .nv { color: #19177C } /* Name.Variable */\n",
       ".source .ow { color: #AA22FF; font-weight: bold } /* Operator.Word */\n",
       ".source .w { color: #bbbbbb } /* Text.Whitespace */\n",
       ".source .mb { color: #666666 } /* Literal.Number.Bin */\n",
       ".source .mf { color: #666666 } /* Literal.Number.Float */\n",
       ".source .mh { color: #666666 } /* Literal.Number.Hex */\n",
       ".source .mi { color: #666666 } /* Literal.Number.Integer */\n",
       ".source .mo { color: #666666 } /* Literal.Number.Oct */\n",
       ".source .sb { color: #BA2121 } /* Literal.String.Backtick */\n",
       ".source .sc { color: #BA2121 } /* Literal.String.Char */\n",
       ".source .sd { color: #BA2121; font-style: italic } /* Literal.String.Doc */\n",
       ".source .s2 { color: #BA2121 } /* Literal.String.Double */\n",
       ".source .se { color: #BB6622; font-weight: bold } /* Literal.String.Escape */\n",
       ".source .sh { color: #BA2121 } /* Literal.String.Heredoc */\n",
       ".source .si { color: #BB6688; font-weight: bold } /* Literal.String.Interpol */\n",
       ".source .sx { color: #008000 } /* Literal.String.Other */\n",
       ".source .sr { color: #BB6688 } /* Literal.String.Regex */\n",
       ".source .s1 { color: #BA2121 } /* Literal.String.Single */\n",
       ".source .ss { color: #19177C } /* Literal.String.Symbol */\n",
       ".source .bp { color: #008000 } /* Name.Builtin.Pseudo */\n",
       ".source .vc { color: #19177C } /* Name.Variable.Class */\n",
       ".source .vg { color: #19177C } /* Name.Variable.Global */\n",
       ".source .vi { color: #19177C } /* Name.Variable.Instance */\n",
       ".source .il { color: #666666 } /* Literal.Number.Integer.Long */\n",
       "    </style>\n",
       "    <table class=\"sourcetable\"><tr><td class=\"linenos\"><div class=\"linenodiv\"><pre> 1\n",
       " 2\n",
       " 3\n",
       " 4\n",
       " 5\n",
       " 6\n",
       " 7\n",
       " 8\n",
       " 9\n",
       "10\n",
       "11\n",
       "12\n",
       "13\n",
       "14\n",
       "15\n",
       "16\n",
       "17\n",
       "18\n",
       "19\n",
       "20\n",
       "21\n",
       "22\n",
       "23\n",
       "24\n",
       "25\n",
       "26\n",
       "27\n",
       "28\n",
       "29\n",
       "30\n",
       "31\n",
       "32\n",
       "33\n",
       "34\n",
       "35\n",
       "36\n",
       "37\n",
       "38\n",
       "39\n",
       "40\n",
       "41\n",
       "42\n",
       "43\n",
       "44\n",
       "45\n",
       "46\n",
       "47\n",
       "48\n",
       "49\n",
       "50\n",
       "51\n",
       "52\n",
       "53\n",
       "54\n",
       "55\n",
       "56\n",
       "57\n",
       "58\n",
       "59\n",
       "60\n",
       "61\n",
       "62\n",
       "63</pre></div></td><td class=\"code\"><div class=\"source\"><pre><span></span><span class=\"c1\"># This file adapts the model described in</span>\n",
       "<span class=\"c1\"># &quot;From Sudden Stops to Fisherian Deflation, Quantitative Theory and Policy&quot;</span>\n",
       "<span class=\"c1\"># by Anton Korinek and Enrique G. Mendoza</span>\n",
       "\n",
       "<span class=\"l l-Scalar l-Scalar-Plain\">name</span><span class=\"p p-Indicator\">:</span> <span class=\"l l-Scalar l-Scalar-Plain\">Sudden Stop (General)</span>\n",
       "\n",
       "<span class=\"l l-Scalar l-Scalar-Plain\">symbols</span><span class=\"p p-Indicator\">:</span>\n",
       "\n",
       "    <span class=\"l l-Scalar l-Scalar-Plain\">exogenous</span><span class=\"p p-Indicator\">:</span> <span class=\"p p-Indicator\">[</span><span class=\"nv\">y</span><span class=\"p p-Indicator\">]</span>\n",
       "    <span class=\"l l-Scalar l-Scalar-Plain\">states</span><span class=\"p p-Indicator\">:</span> <span class=\"p p-Indicator\">[</span><span class=\"nv\">l</span><span class=\"p p-Indicator\">]</span>\n",
       "    <span class=\"l l-Scalar l-Scalar-Plain\">controls</span><span class=\"p p-Indicator\">:</span> <span class=\"p p-Indicator\">[</span><span class=\"nv\">b</span><span class=\"p p-Indicator\">,</span> <span class=\"nv\">lam</span><span class=\"p p-Indicator\">]</span>\n",
       "    <span class=\"l l-Scalar l-Scalar-Plain\">values</span><span class=\"p p-Indicator\">:</span> <span class=\"p p-Indicator\">[</span><span class=\"nv\">V</span><span class=\"p p-Indicator\">,</span> <span class=\"nv\">Vc</span><span class=\"p p-Indicator\">]</span>\n",
       "    <span class=\"l l-Scalar l-Scalar-Plain\">parameters</span><span class=\"p p-Indicator\">:</span> <span class=\"p p-Indicator\">[</span><span class=\"nv\">beta</span><span class=\"p p-Indicator\">,</span> <span class=\"nv\">R</span><span class=\"p p-Indicator\">,</span> <span class=\"nv\">sigma</span><span class=\"p p-Indicator\">,</span> <span class=\"nv\">a</span><span class=\"p p-Indicator\">,</span> <span class=\"nv\">mu</span><span class=\"p p-Indicator\">,</span> <span class=\"nv\">kappa</span><span class=\"p p-Indicator\">,</span> <span class=\"nv\">delta_y</span><span class=\"p p-Indicator\">,</span> <span class=\"nv\">pi</span><span class=\"p p-Indicator\">,</span> <span class=\"nv\">lam_inf</span><span class=\"p p-Indicator\">]</span>\n",
       "\n",
       "\n",
       "<span class=\"l l-Scalar l-Scalar-Plain\">definitions</span><span class=\"p p-Indicator\">:</span>\n",
       "    <span class=\"l l-Scalar l-Scalar-Plain\">c</span><span class=\"p p-Indicator\">:</span> <span class=\"l l-Scalar l-Scalar-Plain\">1 + y + l*R - b</span>\n",
       "\n",
       "<span class=\"l l-Scalar l-Scalar-Plain\">equations</span><span class=\"p p-Indicator\">:</span>\n",
       "\n",
       "    <span class=\"l l-Scalar l-Scalar-Plain\">transition</span><span class=\"p p-Indicator\">:</span>\n",
       "        <span class=\"p p-Indicator\">-</span> <span class=\"l l-Scalar l-Scalar-Plain\">l = b(-1)</span>\n",
       "\n",
       "    <span class=\"l l-Scalar l-Scalar-Plain\">arbitrage</span><span class=\"p p-Indicator\">:</span>\n",
       "        <span class=\"p p-Indicator\">-</span> <span class=\"l l-Scalar l-Scalar-Plain\">lam = b/c</span>\n",
       "        <span class=\"p p-Indicator\">-</span> <span class=\"l l-Scalar l-Scalar-Plain\">1 - beta*(c(1)/c)^(-sigma)*R    |  lam_inf &lt;= lam &lt;= inf</span>\n",
       "\n",
       "    <span class=\"l l-Scalar l-Scalar-Plain\">value</span><span class=\"p p-Indicator\">:</span>\n",
       "        <span class=\"p p-Indicator\">-</span> <span class=\"l l-Scalar l-Scalar-Plain\">V = c^(1.0-sigma)/(1.0-sigma) + beta*V(1)</span>\n",
       "        <span class=\"p p-Indicator\">-</span> <span class=\"l l-Scalar l-Scalar-Plain\">Vc = c^(1.0-sigma)/(1.0-sigma)</span>\n",
       "\n",
       "<span class=\"l l-Scalar l-Scalar-Plain\">calibration</span><span class=\"p p-Indicator\">:</span>\n",
       "\n",
       "    <span class=\"l l-Scalar l-Scalar-Plain\">beta</span><span class=\"p p-Indicator\">:</span> <span class=\"l l-Scalar l-Scalar-Plain\">0.95</span>\n",
       "    <span class=\"l l-Scalar l-Scalar-Plain\">R</span><span class=\"p p-Indicator\">:</span> <span class=\"l l-Scalar l-Scalar-Plain\">1.03</span>\n",
       "    <span class=\"l l-Scalar l-Scalar-Plain\">sigma</span><span class=\"p p-Indicator\">:</span> <span class=\"l l-Scalar l-Scalar-Plain\">2.0</span>\n",
       "    <span class=\"l l-Scalar l-Scalar-Plain\">a</span><span class=\"p p-Indicator\">:</span> <span class=\"l l-Scalar l-Scalar-Plain\">1/3</span>\n",
       "    <span class=\"l l-Scalar l-Scalar-Plain\">mu</span><span class=\"p p-Indicator\">:</span> <span class=\"l l-Scalar l-Scalar-Plain\">0.8</span>\n",
       "    <span class=\"l l-Scalar l-Scalar-Plain\">kappa</span><span class=\"p p-Indicator\">:</span> <span class=\"l l-Scalar l-Scalar-Plain\">1.3</span>\n",
       "    <span class=\"l l-Scalar l-Scalar-Plain\">delta_y</span><span class=\"p p-Indicator\">:</span> <span class=\"l l-Scalar l-Scalar-Plain\">0.03</span>\n",
       "    <span class=\"l l-Scalar l-Scalar-Plain\">pi</span><span class=\"p p-Indicator\">:</span> <span class=\"l l-Scalar l-Scalar-Plain\">0.05</span>\n",
       "    <span class=\"l l-Scalar l-Scalar-Plain\">lam_inf</span><span class=\"p p-Indicator\">:</span> <span class=\"l l-Scalar l-Scalar-Plain\">-0.2</span>\n",
       "    <span class=\"l l-Scalar l-Scalar-Plain\">y</span><span class=\"p p-Indicator\">:</span> <span class=\"l l-Scalar l-Scalar-Plain\">1.0</span>\n",
       "    <span class=\"l l-Scalar l-Scalar-Plain\">c</span><span class=\"p p-Indicator\">:</span> <span class=\"l l-Scalar l-Scalar-Plain\">1.0 + y</span>\n",
       "    <span class=\"l l-Scalar l-Scalar-Plain\">b</span><span class=\"p p-Indicator\">:</span> <span class=\"l l-Scalar l-Scalar-Plain\">0.0</span>\n",
       "    <span class=\"l l-Scalar l-Scalar-Plain\">l</span><span class=\"p p-Indicator\">:</span> <span class=\"l l-Scalar l-Scalar-Plain\">0.0</span>\n",
       "    <span class=\"l l-Scalar l-Scalar-Plain\">lam</span><span class=\"p p-Indicator\">:</span> <span class=\"l l-Scalar l-Scalar-Plain\">0.0</span>\n",
       "\n",
       "    <span class=\"l l-Scalar l-Scalar-Plain\">V</span><span class=\"p p-Indicator\">:</span> <span class=\"l l-Scalar l-Scalar-Plain\">c^(1.0-sigma)/(1.0-sigma)/(1.0-beta)</span>\n",
       "    <span class=\"l l-Scalar l-Scalar-Plain\">Vc</span><span class=\"p p-Indicator\">:</span> <span class=\"l l-Scalar l-Scalar-Plain\">c^(1.0-sigma)/(1.0-sigma)</span>\n",
       "\n",
       "\n",
       "<span class=\"l l-Scalar l-Scalar-Plain\">exogenous</span><span class=\"p p-Indicator\">:</span> <span class=\"kt\">!MarkovChain</span>\n",
       "    <span class=\"l l-Scalar l-Scalar-Plain\">values</span><span class=\"p p-Indicator\">:</span> <span class=\"p p-Indicator\">[[</span> <span class=\"nv\">1.0-delta_y</span> <span class=\"p p-Indicator\">],</span>  <span class=\"c1\"># bad state</span>\n",
       "             <span class=\"p p-Indicator\">[</span> <span class=\"nv\">1.0</span> <span class=\"p p-Indicator\">]]</span>          <span class=\"c1\"># good state</span>\n",
       "    <span class=\"l l-Scalar l-Scalar-Plain\">transitions</span><span class=\"p p-Indicator\">:</span> <span class=\"p p-Indicator\">[[</span> <span class=\"nv\">0.5</span><span class=\"p p-Indicator\">,</span> <span class=\"nv\">1-0.5</span> <span class=\"p p-Indicator\">],</span>   <span class=\"c1\"># probabilities   [p(L|L), p(H|L)]</span>\n",
       "                  <span class=\"p p-Indicator\">[</span> <span class=\"nv\">0.5</span><span class=\"p p-Indicator\">,</span> <span class=\"nv\">0.5</span> <span class=\"p p-Indicator\">]]</span>     <span class=\"c1\"># probabilities   [p(L|H), p(H|H)]</span>\n",
       "\n",
       "<span class=\"l l-Scalar l-Scalar-Plain\">options</span><span class=\"p p-Indicator\">:</span>\n",
       "    <span class=\"l l-Scalar l-Scalar-Plain\">grid</span><span class=\"p p-Indicator\">:</span> <span class=\"kt\">!Cartesian</span>\n",
       "        <span class=\"l l-Scalar l-Scalar-Plain\">a</span><span class=\"p p-Indicator\">:</span> <span class=\"p p-Indicator\">[</span><span class=\"nv\">-1.0</span><span class=\"p p-Indicator\">]</span>\n",
       "        <span class=\"l l-Scalar l-Scalar-Plain\">b</span><span class=\"p p-Indicator\">:</span> <span class=\"p p-Indicator\">[</span> <span class=\"nv\">1.0</span><span class=\"p p-Indicator\">]</span>\n",
       "        <span class=\"l l-Scalar l-Scalar-Plain\">orders</span><span class=\"p p-Indicator\">:</span> <span class=\"p p-Indicator\">[</span><span class=\"nv\">10</span><span class=\"p p-Indicator\">]</span>\n",
       "</pre></div>\n",
       "</td></tr></table>\n",
       "    "
      ],
      "text/plain": [
       "<IPython.core.display.HTML object>"
      ]
     },
     "execution_count": 9,
     "metadata": {},
     "output_type": "execute_result"
    }
   ],
   "source": [
    "# filename = 'https://raw.githubusercontent.com/EconForge/dolo/master/examples/models/compat/sudden_stop.yaml'\n",
    "filename = '../models/sudden_stop.yaml'\n",
    "# the model file is coded in a separate file called sudden_stop.yaml\n",
    "# note how the borrowing constraint is implemented as complementarity condition\n",
    "pcat(filename)"
   ]
  },
  {
   "cell_type": "markdown",
   "metadata": {},
   "source": [
    "## importing the model\n",
    "\n",
    "Note, that residuals, are not zero at the calibration we supply. This is because the representative agent is impatient\n",
    "and we have $\\beta<1/R$. In this case it doesn't matter.\n",
    "\n",
    "By default, the calibrated value for endogenous variables are used as a (constant) starting point for the decision rules."
   ]
  },
  {
   "cell_type": "code",
   "execution_count": 10,
   "metadata": {
    "collapsed": false
   },
   "outputs": [
    {
     "data": {
      "text/html": [
       "\n",
       "        <table>\n",
       "         <td><b>Model</b></td>\n",
       "        <tr>\n",
       "        <td>name</td>\n",
       "        <td>Sudden Stop (General)</td>\n",
       "        </tr>\n",
       "        <tr>\n",
       "        <td>type</td>\n",
       "        <td>dtcc</td>\n",
       "        </tr>\n",
       "        <tr>\n",
       "        <td>filename</td>\n",
       "        <td>../models/sudden_stop.yaml</td>\n",
       "        </tr>\n",
       "        </table><table><tr><td><b>Type</b></td><td><b>Equation</b></td><td><b>Residual</b></td></tr>\n",
       "<tr><td>transition</td><td>$l_{t} = b_{t-1}$</td><td>0.000</td></tr><tr><td>arbitrage</td><td>$\\lambda_{t} = \\frac{b_{t}}{c_{t}}$</td><td>0.000</td></tr>\n",
       "<tr><td></td><td>$1 - \\beta \\; \\left(\\frac{c_{t+1}}{c_{t}}\\right)^{- \\sigma} \\; R$</td><td><span style=\"color: red;\">0.0215</span></td></tr><tr><td>value</td><td>$V_{t} = \\frac{c_{t}^{1.0 - \\sigma}}{1.0 - \\sigma} + \\beta \\; V_{t+1}$</td><td></td></tr>\n",
       "<tr><td></td><td>$Vc_{t} = \\frac{c_{t}^{1.0 - \\sigma}}{1.0 - \\sigma}$</td><td></td></tr><tr><td>definitions</td><td>$c_{t} = 1 + y_{t} + l_{t} \\; R - b_{t}$</td><td></td></tr></table>"
      ],
      "text/plain": [
       "\n",
       "        Model:\n",
       "        ------\n",
       "        name: \"Sudden Stop (General)\"\n",
       "        type: \"dtcc\"\n",
       "        file: \"../models/sudden_stop.yaml\n",
       "\n",
       "Equations:\n",
       "----------\n",
       "\n",
       "transition\n",
       " 1  : 0.0000 : l = b(-1)\n",
       "\n",
       "arbitrage\n",
       " 1  : 0.0000 : lam = b/c\n",
       " 2  : \u001b[31m0.0215\u001b[0m : 1 - beta*(c(1)/c)**(-sigma)*R    |  lam_inf <= lam <= inf\n",
       "\n",
       "value\n",
       " 1  : 0.0000 : V = c**(1.0-sigma)/(1.0-sigma) + beta*V(1)\n",
       " 2  : 0.0000 : Vc = c**(1.0-sigma)/(1.0-sigma)\n",
       "\n",
       "definitions\n",
       " 1  : c = 1 + y + l*R - b\n"
      ]
     },
     "execution_count": 10,
     "metadata": {},
     "output_type": "execute_result"
    }
   ],
   "source": [
    "model = yaml_import(filename)\n",
    "model"
   ]
  },
  {
   "cell_type": "code",
   "execution_count": 11,
   "metadata": {
    "collapsed": false
   },
   "outputs": [
    {
     "ename": "TypeError",
     "evalue": "get_grid() got an unexpected keyword argument 'orders'",
     "output_type": "error",
     "traceback": [
      "\u001b[0;31m---------------------------------------------------------------------------\u001b[0m",
      "\u001b[0;31mTypeError\u001b[0m                                 Traceback (most recent call last)",
      "\u001b[0;32m<ipython-input-11-55c9a50a524d>\u001b[0m in \u001b[0;36m<module>\u001b[0;34m()\u001b[0m\n\u001b[1;32m      1\u001b[0m \u001b[0;31m# to avoid numerical glitches we choose a relatively high number of grid points\u001b[0m\u001b[0;34m\u001b[0m\u001b[0;34m\u001b[0m\u001b[0m\n\u001b[0;32m----> 2\u001b[0;31m \u001b[0mmdr\u001b[0m \u001b[0;34m=\u001b[0m \u001b[0mtime_iteration\u001b[0m\u001b[0;34m(\u001b[0m\u001b[0mmodel\u001b[0m\u001b[0;34m,\u001b[0m \u001b[0mverbose\u001b[0m\u001b[0;34m=\u001b[0m\u001b[0;32mTrue\u001b[0m\u001b[0;34m,\u001b[0m \u001b[0mgrid\u001b[0m\u001b[0;34m=\u001b[0m\u001b[0;34m{\u001b[0m\u001b[0;34m'orders'\u001b[0m\u001b[0;34m:\u001b[0m\u001b[0;34m[\u001b[0m\u001b[0;36m1000\u001b[0m\u001b[0;34m]\u001b[0m\u001b[0;34m}\u001b[0m\u001b[0;34m)\u001b[0m\u001b[0;34m\u001b[0m\u001b[0m\n\u001b[0m",
      "\u001b[0;32m/home/pablo/Mobilhome/econforge/dolo/dolo/algos/time_iteration.py\u001b[0m in \u001b[0;36mtime_iteration\u001b[0;34m(model, initial_guess, with_complementarities, verbose, grid, maxit, inner_maxit, tol, hook)\u001b[0m\n\u001b[1;32m     76\u001b[0m     \u001b[0mn_s\u001b[0m \u001b[0;34m=\u001b[0m \u001b[0mlen\u001b[0m\u001b[0;34m(\u001b[0m\u001b[0mmodel\u001b[0m\u001b[0;34m.\u001b[0m\u001b[0msymbols\u001b[0m\u001b[0;34m[\u001b[0m\u001b[0;34m'states'\u001b[0m\u001b[0;34m]\u001b[0m\u001b[0;34m)\u001b[0m\u001b[0;34m\u001b[0m\u001b[0m\n\u001b[1;32m     77\u001b[0m \u001b[0;34m\u001b[0m\u001b[0m\n\u001b[0;32m---> 78\u001b[0;31m     \u001b[0mendo_grid\u001b[0m \u001b[0;34m=\u001b[0m \u001b[0mmodel\u001b[0m\u001b[0;34m.\u001b[0m\u001b[0mget_grid\u001b[0m\u001b[0;34m(\u001b[0m\u001b[0;34m**\u001b[0m\u001b[0mgrid\u001b[0m\u001b[0;34m)\u001b[0m\u001b[0;34m\u001b[0m\u001b[0m\n\u001b[0m\u001b[1;32m     79\u001b[0m \u001b[0;34m\u001b[0m\u001b[0m\n\u001b[1;32m     80\u001b[0m     \u001b[0minterp_type\u001b[0m \u001b[0;34m=\u001b[0m \u001b[0;34m'cubic'\u001b[0m\u001b[0;34m\u001b[0m\u001b[0m\n",
      "\u001b[0;31mTypeError\u001b[0m: get_grid() got an unexpected keyword argument 'orders'"
     ]
    }
   ],
   "source": [
    "# to avoid numerical glitches we choose a relatively high number of grid points\n",
    "mdr = time_iteration(model, verbose=True, grid={'orders':[1000]})"
   ]
  },
  {
   "cell_type": "code",
   "execution_count": 12,
   "metadata": {
    "collapsed": false
   },
   "outputs": [
    {
     "ename": "NameError",
     "evalue": "name 'mdr' is not defined",
     "output_type": "error",
     "traceback": [
      "\u001b[0;31m---------------------------------------------------------------------------\u001b[0m",
      "\u001b[0;31mNameError\u001b[0m                                 Traceback (most recent call last)",
      "\u001b[0;32m<ipython-input-12-1c2de05bc895>\u001b[0m in \u001b[0;36m<module>\u001b[0;34m()\u001b[0m\n\u001b[1;32m      4\u001b[0m \u001b[0mfigure\u001b[0m\u001b[0;34m(\u001b[0m\u001b[0mfigsize\u001b[0m\u001b[0;34m(\u001b[0m\u001b[0;36m10\u001b[0m\u001b[0;34m,\u001b[0m\u001b[0;36m6\u001b[0m\u001b[0;34m)\u001b[0m\u001b[0;34m)\u001b[0m\u001b[0;34m\u001b[0m\u001b[0m\n\u001b[1;32m      5\u001b[0m \u001b[0msubplot\u001b[0m\u001b[0;34m(\u001b[0m\u001b[0;36m121\u001b[0m\u001b[0;34m)\u001b[0m\u001b[0;34m\u001b[0m\u001b[0m\n\u001b[0;32m----> 6\u001b[0;31m \u001b[0mplot_decision_rule\u001b[0m\u001b[0;34m(\u001b[0m\u001b[0mmodel\u001b[0m\u001b[0;34m,\u001b[0m \u001b[0mmdr\u001b[0m\u001b[0;34m,\u001b[0m \u001b[0;34m'l'\u001b[0m\u001b[0;34m,\u001b[0m \u001b[0;34m'b'\u001b[0m\u001b[0;34m,\u001b[0m \u001b[0mi0\u001b[0m\u001b[0;34m=\u001b[0m\u001b[0;36m0\u001b[0m\u001b[0;34m,\u001b[0m \u001b[0mn_steps\u001b[0m\u001b[0;34m=\u001b[0m\u001b[0mn_steps\u001b[0m\u001b[0;34m,\u001b[0m \u001b[0mlabel\u001b[0m\u001b[0;34m=\u001b[0m\u001b[0;34m'$b_t$ (bad state)'\u001b[0m \u001b[0;34m)\u001b[0m\u001b[0;34m\u001b[0m\u001b[0m\n\u001b[0m\u001b[1;32m      7\u001b[0m \u001b[0mplot_decision_rule\u001b[0m\u001b[0;34m(\u001b[0m\u001b[0mmodel\u001b[0m\u001b[0;34m,\u001b[0m \u001b[0mmdr\u001b[0m\u001b[0;34m,\u001b[0m \u001b[0;34m'l'\u001b[0m\u001b[0;34m,\u001b[0m \u001b[0;34m'b'\u001b[0m\u001b[0;34m,\u001b[0m \u001b[0mi0\u001b[0m\u001b[0;34m=\u001b[0m\u001b[0;36m1\u001b[0m\u001b[0;34m,\u001b[0m \u001b[0mn_steps\u001b[0m\u001b[0;34m=\u001b[0m\u001b[0mn_steps\u001b[0m\u001b[0;34m,\u001b[0m \u001b[0mlabel\u001b[0m\u001b[0;34m=\u001b[0m\u001b[0;34m'$b_t$ (good state)'\u001b[0m \u001b[0;34m)\u001b[0m\u001b[0;34m\u001b[0m\u001b[0m\n\u001b[1;32m      8\u001b[0m \u001b[0mplot_decision_rule\u001b[0m\u001b[0;34m(\u001b[0m\u001b[0mmodel\u001b[0m\u001b[0;34m,\u001b[0m \u001b[0mmdr\u001b[0m\u001b[0;34m,\u001b[0m \u001b[0;34m'l'\u001b[0m\u001b[0;34m,\u001b[0m \u001b[0;34m'l'\u001b[0m\u001b[0;34m,\u001b[0m \u001b[0mi0\u001b[0m\u001b[0;34m=\u001b[0m\u001b[0;36m1\u001b[0m\u001b[0;34m,\u001b[0m \u001b[0mn_steps\u001b[0m\u001b[0;34m=\u001b[0m\u001b[0mn_steps\u001b[0m\u001b[0;34m,\u001b[0m \u001b[0mlinestyle\u001b[0m\u001b[0;34m=\u001b[0m\u001b[0;34m'--'\u001b[0m\u001b[0;34m,\u001b[0m \u001b[0mcolor\u001b[0m\u001b[0;34m=\u001b[0m\u001b[0;34m'black'\u001b[0m \u001b[0;34m)\u001b[0m\u001b[0;34m\u001b[0m\u001b[0m\n",
      "\u001b[0;31mNameError\u001b[0m: name 'mdr' is not defined"
     ]
    },
    {
     "data": {
      "image/png": "[encoded data removed]",
      "text/plain": [
       "<matplotlib.figure.Figure at 0x7fd277618898>"
      ]
     },
     "metadata": {},
     "output_type": "display_data"
    }
   ],
   "source": [
    "# produce the plots\n",
    "n_steps = 100\n",
    "\n",
    "figure(figsize(10,6))\n",
    "subplot(121)\n",
    "plot_decision_rule(model, mdr, 'l', 'b', i0=0, n_steps=n_steps, label='$b_t$ (bad state)' )\n",
    "plot_decision_rule(model, mdr, 'l', 'b', i0=1, n_steps=n_steps, label='$b_t$ (good state)' )\n",
    "plot_decision_rule(model, mdr, 'l', 'l', i0=1, n_steps=n_steps, linestyle='--', color='black' )\n",
    "#plot(df['l'], df['l'], linestyle='--', color='black')\n",
    "\n",
    "# to plot the borrowing limit, we produce a dataframe df which contains all series\n",
    "# (note that we don't supply a variable name to plot, only the state 'l')\n",
    "\n",
    "lam_inf = model.get_calibration('lam_inf')\n",
    "df = plot_decision_rule(model, mdr, 'l', i0=0, n_steps=n_steps)\n",
    "plot(df['l'], lam_inf*df['c'], linestyle='--', color='black')\n",
    "\n",
    "xlabel('$l_t$')\n",
    "\n",
    "legend(loc= 'upper left')\n",
    "\n",
    "\n",
    "subplot(122)\n",
    "plot_decision_rule(model, mdr, 'l', 'c', i0=0, n_steps=n_steps, label='$c_t$ (bad state)' )\n",
    "plot_decision_rule(model, mdr, 'l', 'c', i0=1, n_steps=n_steps, label='$c_t$ (good state)' )\n",
    "legend(loc= 'lower right')\n",
    "xlabel('$l_t$')\n",
    "\n",
    "suptitle(\"Decision Rules\")\n"
   ]
  },
  {
   "cell_type": "code",
   "execution_count": 7,
   "metadata": {
    "collapsed": true
   },
   "outputs": [],
   "source": [
    "## stochastic simulations"
   ]
  },
  {
   "cell_type": "code",
   "execution_count": 8,
   "metadata": {
    "collapsed": false
   },
   "outputs": [],
   "source": [
    "i_0 = 1 # we start from the good state\n",
    "sim = simulate(model, mdr, i_0, s0=0.5, n_exp=1, horizon=100) # markov_indices=markov_indices)"
   ]
  },
  {
   "cell_type": "code",
   "execution_count": 9,
   "metadata": {
    "collapsed": false
   },
   "outputs": [
    {
     "data": {
      "text/plain": [
       "[<matplotlib.lines.Line2D at 0x7fa1bb111860>]"
      ]
     },
     "execution_count": 9,
     "metadata": {},
     "output_type": "execute_result"
    },
    {
     "data": {
      "image/png": "[encoded data removed]",
      "text/plain": [
       "<matplotlib.figure.Figure at 0x7fa1bdfe1b00>"
      ]
     },
     "metadata": {},
     "output_type": "display_data"
    }
   ],
   "source": [
    "subplot(211)\n",
    "plot(sim['y'])\n",
    "subplot(212)\n",
    "plot(sim['b'])"
   ]
  },
  {
   "cell_type": "markdown",
   "metadata": {},
   "source": [
    "## Sensitivity analysis\n",
    "\n",
    "Here we want to compare the saving behaviour as a function of risk aversion $\\sigma$.\n",
    "We contrast the baseline $\\sigma=2$ with the high aversion scenario $\\sigma=16$."
   ]
  },
  {
   "cell_type": "code",
   "execution_count": 10,
   "metadata": {
    "collapsed": false
   },
   "outputs": [
    {
     "name": "stdout",
     "output_type": "stream",
     "text": [
      "Solving WITH complementarities.\n",
      "------------------------------------------------\n",
      "| N   |  Error     | Gain     | Time     | nit |\n",
      "------------------------------------------------\n"
     ]
    },
    {
     "name": "stderr",
     "output_type": "stream",
     "text": [
      "\u001b[33mUserWarning\u001b[0m:/home/pablo/Programming/econforge/dolo/dolo/numeric/optimize/newton.py:150\n",
      "    Did not converge\n"
     ]
    },
    {
     "name": "stdout",
     "output_type": "stream",
     "text": [
      "|   1 |  5.133e-01 |      nan |    0.475 |  10 |\n",
      "|   2 |  1.703e-01 |    0.332 |    0.744 |   8 |\n",
      "|   3 |  8.435e-02 |    0.495 |    0.369 |   7 |\n",
      "|   4 |  5.005e-02 |    0.593 |    0.406 |   7 |\n",
      "|   5 |  3.292e-02 |    0.658 |    0.405 |   7 |\n",
      "|   6 |  2.313e-02 |    0.703 |    0.390 |   7 |\n",
      "|   7 |  1.702e-02 |    0.736 |    0.464 |   7 |\n",
      "|   8 |  1.295e-02 |    0.761 |    0.362 |   7 |\n",
      "|   9 |  1.011e-02 |    0.780 |    0.376 |   7 |\n",
      "|  10 |  8.045e-03 |    0.796 |    0.372 |   7 |\n",
      "|  11 |  6.501e-03 |    0.808 |    0.326 |   7 |\n",
      "|  12 |  5.316e-03 |    0.818 |    0.425 |   7 |\n",
      "|  13 |  4.387e-03 |    0.825 |    0.384 |   6 |\n",
      "|  14 |  3.647e-03 |    0.831 |    0.386 |   7 |\n",
      "|  15 |  3.048e-03 |    0.836 |    0.362 |   7 |\n",
      "|  16 |  2.558e-03 |    0.839 |    0.385 |   6 |\n",
      "|  17 |  2.206e-03 |    0.863 |    0.318 |   6 |\n",
      "|  18 |  2.010e-03 |    0.911 |    0.489 |   6 |\n",
      "|  19 |  1.842e-03 |    0.916 |    0.243 |   5 |\n",
      "|  20 |  1.699e-03 |    0.922 |    0.305 |   5 |\n",
      "|  21 |  1.580e-03 |    0.930 |    0.280 |   5 |\n",
      "|  22 |  1.472e-03 |    0.932 |    0.240 |   5 |\n",
      "|  23 |  1.374e-03 |    0.933 |    0.271 |   5 |\n",
      "|  24 |  1.289e-03 |    0.938 |    0.295 |   5 |\n",
      "|  25 |  1.210e-03 |    0.939 |    0.454 |   5 |\n",
      "|  26 |  1.137e-03 |    0.940 |    0.273 |   5 |\n",
      "|  27 |  1.073e-03 |    0.944 |    0.189 |   4 |\n",
      "|  28 |  1.013e-03 |    0.944 |    0.234 |   4 |\n",
      "|  29 |  9.575e-04 |    0.945 |    0.271 |   3 |\n",
      "|  30 |  9.075e-04 |    0.948 |    0.208 |   3 |\n",
      "|  31 |  8.600e-04 |    0.948 |    0.136 |   3 |\n",
      "|  32 |  8.166e-04 |    0.950 |    0.149 |   3 |\n",
      "|  33 |  7.764e-04 |    0.951 |    0.141 |   3 |\n",
      "|  34 |  7.384e-04 |    0.951 |    0.285 |   3 |\n",
      "|  35 |  7.035e-04 |    0.953 |    0.284 |   3 |\n",
      "|  36 |  6.705e-04 |    0.953 |    0.093 |   2 |\n",
      "|  37 |  6.396e-04 |    0.954 |    0.091 |   2 |\n",
      "|  38 |  6.108e-04 |    0.955 |    0.275 |   2 |\n",
      "|  39 |  5.835e-04 |    0.955 |    0.099 |   2 |\n",
      "|  40 |  5.579e-04 |    0.956 |    0.096 |   2 |\n",
      "|  41 |  5.338e-04 |    0.957 |    0.111 |   2 |\n",
      "|  42 |  5.110e-04 |    0.957 |    0.103 |   2 |\n",
      "|  43 |  4.895e-04 |    0.958 |    0.093 |   2 |\n",
      "|  44 |  4.691e-04 |    0.958 |    0.094 |   2 |\n",
      "|  45 |  4.499e-04 |    0.959 |    0.167 |   2 |\n",
      "|  46 |  4.316e-04 |    0.959 |    0.124 |   2 |\n",
      "|  47 |  4.143e-04 |    0.960 |    0.119 |   2 |\n",
      "|  48 |  3.978e-04 |    0.960 |    0.104 |   2 |\n",
      "|  49 |  3.821e-04 |    0.961 |    0.117 |   2 |\n",
      "|  50 |  3.598e-04 |    0.941 |    0.096 |   2 |\n",
      "|  51 |  3.132e-04 |    0.871 |    0.128 |   2 |\n",
      "|  52 |  2.476e-04 |    0.790 |    0.141 |   2 |\n",
      "|  53 |  1.782e-04 |    0.720 |    0.126 |   2 |\n",
      "|  54 |  1.190e-04 |    0.668 |    0.112 |   2 |\n",
      "|  55 |  7.541e-05 |    0.634 |    0.273 |   2 |\n",
      "|  56 |  4.634e-05 |    0.615 |    0.096 |   2 |\n",
      "|  57 |  2.802e-05 |    0.605 |    0.096 |   2 |\n",
      "|  58 |  1.684e-05 |    0.601 |    0.093 |   2 |\n",
      "|  59 |  1.010e-05 |    0.600 |    0.051 |   1 |\n",
      "|  60 |  6.072e-06 |    0.601 |    0.051 |   1 |\n",
      "|  61 |  3.659e-06 |    0.603 |    0.084 |   1 |\n",
      "|  62 |  2.211e-06 |    0.604 |    0.093 |   1 |\n",
      "|  63 |  1.340e-06 |    0.606 |    0.108 |   1 |\n",
      "|  64 |  8.141e-07 |    0.607 |    0.071 |   1 |\n",
      "------------------------------------------------\n",
      "Elapsed: 15.010632991790771 seconds.\n",
      "------------------------------------------------\n"
     ]
    }
   ],
   "source": [
    "# we solve the model with sigma=16\n",
    "model.set_calibration(sigma=16.0)\n",
    "mdr_high_gamma = time_iteration(model, verbose=True, grid={'orders':[1000]})"
   ]
  },
  {
   "cell_type": "code",
   "execution_count": 11,
   "metadata": {
    "collapsed": false
   },
   "outputs": [
    {
     "data": {
      "text/plain": [
       "<matplotlib.legend.Legend at 0x7fa1be17acf8>"
      ]
     },
     "execution_count": 11,
     "metadata": {},
     "output_type": "execute_result"
    },
    {
     "data": {
      "image/png": "[encoded data removed]",
      "text/plain": [
       "<matplotlib.figure.Figure at 0x7fa1bb221518>"
      ]
     },
     "metadata": {},
     "output_type": "display_data"
    }
   ],
   "source": [
    "# now we compare the decision rules with low and high risk aversion\n",
    "plot_decision_rule(model, mdr, 'l', 'b', i0=0, n_steps=n_steps, label='$b_t$ (bad)' )\n",
    "plot_decision_rule(model, mdr, 'l', 'b', i0=1, n_steps=n_steps, label='$b_t$ (good)' )\n",
    "plot_decision_rule(model, mdr_high_gamma, 'l', 'b', i0=0, n_steps=n_steps, label='$b_t$ (bad) [high gamma]' )\n",
    "plot_decision_rule(model, mdr_high_gamma, 'l', 'b', i0=1, n_steps=n_steps, label='$b_t$ (good) [high gamma]' )\n",
    "plot(df['l'], df['l'], linestyle='--', color='black')\n",
    "plot(df['l'], -0.2*df['c'], linestyle='--', color='black')\n",
    "legend(loc= 'upper left')"
   ]
  }
 ],
 "metadata": {
  "kernelspec": {
   "display_name": "Python 3",
   "language": "python",
   "name": "python3"
  },
  "language_info": {
   "codemirror_mode": {
    "name": "ipython",
    "version": 3
   },
   "file_extension": ".py",
   "mimetype": "text/x-python",
   "name": "python",
   "nbconvert_exporter": "python",
   "pygments_lexer": "ipython3",
   "version": "3.6.0"
  }
 },
 "nbformat": 4,
 "nbformat_minor": 1
}
