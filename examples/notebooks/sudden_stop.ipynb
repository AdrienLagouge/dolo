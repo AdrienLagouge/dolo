{
 "cells": [
  {
   "cell_type": "markdown",
   "metadata": {},
   "source": [
    "# Sudden Stop Model\n",
    "\n",
    "In this notebook we replicate the baseline model exposed in \n",
    "\n",
    "`From Sudden Stops to Fisherian Deflation, Quantitative Theory and Policy` by __Anton Korinek and Enrique G. Mendoza__\n",
    "\n",
    "The file `sudden_stop.yaml` which is printed below, describes the model, and must be included in the same directory as this notebook."
   ]
  },
  {
   "cell_type": "markdown",
   "metadata": {},
   "source": [
    "## importing necessary functions"
   ]
  },
  {
   "cell_type": "code",
   "execution_count": 7,
   "metadata": {
    "collapsed": false
   },
   "outputs": [],
   "source": [
    "from matplotlib import pyplot as plt\n",
    "import numpy as np"
   ]
  },
  {
   "cell_type": "code",
   "execution_count": 8,
   "metadata": {
    "collapsed": false
   },
   "outputs": [],
   "source": [
    "from dolo import *\n",
    "from dolo.algos import time_iteration\n",
    "from dolo.algos import plot_decision_rule, simulate"
   ]
  },
  {
   "cell_type": "markdown",
   "metadata": {},
   "source": [
    "## writing the model"
   ]
  },
  {
   "cell_type": "code",
   "execution_count": 9,
   "metadata": {
    "collapsed": false
   },
   "outputs": [
    {
     "data": {
      "text/plain": [
       "'/home/pablo/Mobilhome/econforge/dolo/examples/notebooks'"
      ]
     },
     "execution_count": 9,
     "metadata": {},
     "output_type": "execute_result"
    }
   ],
   "source": [
    "pwd"
   ]
  },
  {
   "cell_type": "code",
   "execution_count": 10,
   "metadata": {
    "collapsed": false,
    "scrolled": true
   },
   "outputs": [
    {
     "data": {
      "text/html": [
       "<style>\n",
       "    .source .hll { background-color: #ffffcc }\n",
       ".source  { background: #f8f8f8; }\n",
       ".source .c { color: #408080; font-style: italic } /* Comment */\n",
       ".source .err { border: 1px solid #FF0000 } /* Error */\n",
       ".source .k { color: #008000; font-weight: bold } /* Keyword */\n",
       ".source .o { color: #666666 } /* Operator */\n",
       ".source .ch { color: #408080; font-style: italic } /* Comment.Hashbang */\n",
       ".source .cm { color: #408080; font-style: italic } /* Comment.Multiline */\n",
       ".source .cp { color: #BC7A00 } /* Comment.Preproc */\n",
       ".source .cpf { color: #408080; font-style: italic } /* Comment.PreprocFile */\n",
       ".source .c1 { color: #408080; font-style: italic } /* Comment.Single */\n",
       ".source .cs { color: #408080; font-style: italic } /* Comment.Special */\n",
       ".source .gd { color: #A00000 } /* Generic.Deleted */\n",
       ".source .ge { font-style: italic } /* Generic.Emph */\n",
       ".source .gr { color: #FF0000 } /* Generic.Error */\n",
       ".source .gh { color: #000080; font-weight: bold } /* Generic.Heading */\n",
       ".source .gi { color: #00A000 } /* Generic.Inserted */\n",
       ".source .go { color: #888888 } /* Generic.Output */\n",
       ".source .gp { color: #000080; font-weight: bold } /* Generic.Prompt */\n",
       ".source .gs { font-weight: bold } /* Generic.Strong */\n",
       ".source .gu { color: #800080; font-weight: bold } /* Generic.Subheading */\n",
       ".source .gt { color: #0044DD } /* Generic.Traceback */\n",
       ".source .kc { color: #008000; font-weight: bold } /* Keyword.Constant */\n",
       ".source .kd { color: #008000; font-weight: bold } /* Keyword.Declaration */\n",
       ".source .kn { color: #008000; font-weight: bold } /* Keyword.Namespace */\n",
       ".source .kp { color: #008000 } /* Keyword.Pseudo */\n",
       ".source .kr { color: #008000; font-weight: bold } /* Keyword.Reserved */\n",
       ".source .kt { color: #B00040 } /* Keyword.Type */\n",
       ".source .m { color: #666666 } /* Literal.Number */\n",
       ".source .s { color: #BA2121 } /* Literal.String */\n",
       ".source .na { color: #7D9029 } /* Name.Attribute */\n",
       ".source .nb { color: #008000 } /* Name.Builtin */\n",
       ".source .nc { color: #0000FF; font-weight: bold } /* Name.Class */\n",
       ".source .no { color: #880000 } /* Name.Constant */\n",
       ".source .nd { color: #AA22FF } /* Name.Decorator */\n",
       ".source .ni { color: #999999; font-weight: bold } /* Name.Entity */\n",
       ".source .ne { color: #D2413A; font-weight: bold } /* Name.Exception */\n",
       ".source .nf { color: #0000FF } /* Name.Function */\n",
       ".source .nl { color: #A0A000 } /* Name.Label */\n",
       ".source .nn { color: #0000FF; font-weight: bold } /* Name.Namespace */\n",
       ".source .nt { color: #008000; font-weight: bold } /* Name.Tag */\n",
       ".source .nv { color: #19177C } /* Name.Variable */\n",
       ".source .ow { color: #AA22FF; font-weight: bold } /* Operator.Word */\n",
       ".source .w { color: #bbbbbb } /* Text.Whitespace */\n",
       ".source .mb { color: #666666 } /* Literal.Number.Bin */\n",
       ".source .mf { color: #666666 } /* Literal.Number.Float */\n",
       ".source .mh { color: #666666 } /* Literal.Number.Hex */\n",
       ".source .mi { color: #666666 } /* Literal.Number.Integer */\n",
       ".source .mo { color: #666666 } /* Literal.Number.Oct */\n",
       ".source .sa { color: #BA2121 } /* Literal.String.Affix */\n",
       ".source .sb { color: #BA2121 } /* Literal.String.Backtick */\n",
       ".source .sc { color: #BA2121 } /* Literal.String.Char */\n",
       ".source .dl { color: #BA2121 } /* Literal.String.Delimiter */\n",
       ".source .sd { color: #BA2121; font-style: italic } /* Literal.String.Doc */\n",
       ".source .s2 { color: #BA2121 } /* Literal.String.Double */\n",
       ".source .se { color: #BB6622; font-weight: bold } /* Literal.String.Escape */\n",
       ".source .sh { color: #BA2121 } /* Literal.String.Heredoc */\n",
       ".source .si { color: #BB6688; font-weight: bold } /* Literal.String.Interpol */\n",
       ".source .sx { color: #008000 } /* Literal.String.Other */\n",
       ".source .sr { color: #BB6688 } /* Literal.String.Regex */\n",
       ".source .s1 { color: #BA2121 } /* Literal.String.Single */\n",
       ".source .ss { color: #19177C } /* Literal.String.Symbol */\n",
       ".source .bp { color: #008000 } /* Name.Builtin.Pseudo */\n",
       ".source .fm { color: #0000FF } /* Name.Function.Magic */\n",
       ".source .vc { color: #19177C } /* Name.Variable.Class */\n",
       ".source .vg { color: #19177C } /* Name.Variable.Global */\n",
       ".source .vi { color: #19177C } /* Name.Variable.Instance */\n",
       ".source .vm { color: #19177C } /* Name.Variable.Magic */\n",
       ".source .il { color: #666666 } /* Literal.Number.Integer.Long */\n",
       "    </style>\n",
       "    <table class=\"sourcetable\"><tr><td class=\"linenos\"><div class=\"linenodiv\"><pre> 1\n",
       " 2\n",
       " 3\n",
       " 4\n",
       " 5\n",
       " 6\n",
       " 7\n",
       " 8\n",
       " 9\n",
       "10\n",
       "11\n",
       "12\n",
       "13\n",
       "14\n",
       "15\n",
       "16\n",
       "17\n",
       "18\n",
       "19\n",
       "20\n",
       "21\n",
       "22\n",
       "23\n",
       "24\n",
       "25\n",
       "26\n",
       "27\n",
       "28\n",
       "29\n",
       "30\n",
       "31\n",
       "32\n",
       "33\n",
       "34\n",
       "35\n",
       "36\n",
       "37\n",
       "38\n",
       "39\n",
       "40\n",
       "41\n",
       "42\n",
       "43\n",
       "44\n",
       "45\n",
       "46\n",
       "47\n",
       "48\n",
       "49\n",
       "50\n",
       "51\n",
       "52\n",
       "53\n",
       "54\n",
       "55\n",
       "56\n",
       "57\n",
       "58\n",
       "59\n",
       "60\n",
       "61\n",
       "62\n",
       "63\n",
       "64</pre></div></td><td class=\"code\"><div class=\"source\"><pre><span></span><span class=\"c1\"># This file adapts the model described in</span>\n",
       "<span class=\"c1\"># &quot;From Sudden Stops to Fisherian Deflation, Quantitative Theory and Policy&quot;</span>\n",
       "<span class=\"c1\"># by Anton Korinek and Enrique G. Mendoza</span>\n",
       "\n",
       "<span class=\"l l-Scalar l-Scalar-Plain\">name</span><span class=\"p p-Indicator\">:</span> <span class=\"l l-Scalar l-Scalar-Plain\">Sudden Stop (General)</span>\n",
       "\n",
       "<span class=\"l l-Scalar l-Scalar-Plain\">symbols</span><span class=\"p p-Indicator\">:</span>\n",
       "\n",
       "    <span class=\"l l-Scalar l-Scalar-Plain\">exogenous</span><span class=\"p p-Indicator\">:</span> <span class=\"p p-Indicator\">[</span><span class=\"nv\">y</span><span class=\"p p-Indicator\">]</span>\n",
       "    <span class=\"l l-Scalar l-Scalar-Plain\">states</span><span class=\"p p-Indicator\">:</span> <span class=\"p p-Indicator\">[</span><span class=\"nv\">l</span><span class=\"p p-Indicator\">]</span>\n",
       "    <span class=\"l l-Scalar l-Scalar-Plain\">controls</span><span class=\"p p-Indicator\">:</span> <span class=\"p p-Indicator\">[</span><span class=\"nv\">b</span><span class=\"p p-Indicator\">,</span> <span class=\"nv\">lam</span><span class=\"p p-Indicator\">]</span>\n",
       "    <span class=\"l l-Scalar l-Scalar-Plain\">values</span><span class=\"p p-Indicator\">:</span> <span class=\"p p-Indicator\">[</span><span class=\"nv\">V</span><span class=\"p p-Indicator\">,</span> <span class=\"nv\">Vc</span><span class=\"p p-Indicator\">]</span>\n",
       "    <span class=\"l l-Scalar l-Scalar-Plain\">parameters</span><span class=\"p p-Indicator\">:</span> <span class=\"p p-Indicator\">[</span><span class=\"nv\">beta</span><span class=\"p p-Indicator\">,</span> <span class=\"nv\">R</span><span class=\"p p-Indicator\">,</span> <span class=\"nv\">sigma</span><span class=\"p p-Indicator\">,</span> <span class=\"nv\">a</span><span class=\"p p-Indicator\">,</span> <span class=\"nv\">mu</span><span class=\"p p-Indicator\">,</span> <span class=\"nv\">kappa</span><span class=\"p p-Indicator\">,</span> <span class=\"nv\">delta_y</span><span class=\"p p-Indicator\">,</span> <span class=\"nv\">pi</span><span class=\"p p-Indicator\">,</span> <span class=\"nv\">lam_inf</span><span class=\"p p-Indicator\">]</span>\n",
       "\n",
       "\n",
       "<span class=\"l l-Scalar l-Scalar-Plain\">definitions</span><span class=\"p p-Indicator\">:</span>\n",
       "    <span class=\"l l-Scalar l-Scalar-Plain\">c</span><span class=\"p p-Indicator\">:</span> <span class=\"l l-Scalar l-Scalar-Plain\">1 + y + l*R - b</span>\n",
       "\n",
       "<span class=\"l l-Scalar l-Scalar-Plain\">equations</span><span class=\"p p-Indicator\">:</span>\n",
       "\n",
       "    <span class=\"l l-Scalar l-Scalar-Plain\">transition</span><span class=\"p p-Indicator\">:</span>\n",
       "        <span class=\"p p-Indicator\">-</span> <span class=\"l l-Scalar l-Scalar-Plain\">l = b(-1)</span>\n",
       "\n",
       "    <span class=\"l l-Scalar l-Scalar-Plain\">arbitrage</span><span class=\"p p-Indicator\">:</span>\n",
       "        <span class=\"p p-Indicator\">-</span> <span class=\"l l-Scalar l-Scalar-Plain\">lam = b/c</span>\n",
       "        <span class=\"p p-Indicator\">-</span> <span class=\"l l-Scalar l-Scalar-Plain\">1 - beta*(c(1)/c)^(-sigma)*R    |  lam_inf &lt;= lam &lt;= inf</span>\n",
       "\n",
       "    <span class=\"l l-Scalar l-Scalar-Plain\">value</span><span class=\"p p-Indicator\">:</span>\n",
       "        <span class=\"p p-Indicator\">-</span> <span class=\"l l-Scalar l-Scalar-Plain\">V = c^(1.0-sigma)/(1.0-sigma) + beta*V(1)</span>\n",
       "        <span class=\"p p-Indicator\">-</span> <span class=\"l l-Scalar l-Scalar-Plain\">Vc = c^(1.0-sigma)/(1.0-sigma)</span>\n",
       "\n",
       "<span class=\"l l-Scalar l-Scalar-Plain\">calibration</span><span class=\"p p-Indicator\">:</span>\n",
       "\n",
       "    <span class=\"l l-Scalar l-Scalar-Plain\">beta</span><span class=\"p p-Indicator\">:</span> <span class=\"l l-Scalar l-Scalar-Plain\">0.95</span>\n",
       "    <span class=\"l l-Scalar l-Scalar-Plain\">R</span><span class=\"p p-Indicator\">:</span> <span class=\"l l-Scalar l-Scalar-Plain\">1.03</span>\n",
       "    <span class=\"l l-Scalar l-Scalar-Plain\">sigma</span><span class=\"p p-Indicator\">:</span> <span class=\"l l-Scalar l-Scalar-Plain\">2.0</span>\n",
       "    <span class=\"l l-Scalar l-Scalar-Plain\">a</span><span class=\"p p-Indicator\">:</span> <span class=\"l l-Scalar l-Scalar-Plain\">1/3</span>\n",
       "    <span class=\"l l-Scalar l-Scalar-Plain\">mu</span><span class=\"p p-Indicator\">:</span> <span class=\"l l-Scalar l-Scalar-Plain\">0.8</span>\n",
       "    <span class=\"l l-Scalar l-Scalar-Plain\">kappa</span><span class=\"p p-Indicator\">:</span> <span class=\"l l-Scalar l-Scalar-Plain\">1.3</span>\n",
       "    <span class=\"l l-Scalar l-Scalar-Plain\">delta_y</span><span class=\"p p-Indicator\">:</span> <span class=\"l l-Scalar l-Scalar-Plain\">0.03</span>\n",
       "    <span class=\"l l-Scalar l-Scalar-Plain\">pi</span><span class=\"p p-Indicator\">:</span> <span class=\"l l-Scalar l-Scalar-Plain\">0.05</span>\n",
       "    <span class=\"l l-Scalar l-Scalar-Plain\">lam_inf</span><span class=\"p p-Indicator\">:</span> <span class=\"l l-Scalar l-Scalar-Plain\">-0.2</span>\n",
       "    <span class=\"l l-Scalar l-Scalar-Plain\">y</span><span class=\"p p-Indicator\">:</span> <span class=\"l l-Scalar l-Scalar-Plain\">1.0</span>\n",
       "    <span class=\"l l-Scalar l-Scalar-Plain\">c</span><span class=\"p p-Indicator\">:</span> <span class=\"l l-Scalar l-Scalar-Plain\">1.0 + y</span>\n",
       "    <span class=\"l l-Scalar l-Scalar-Plain\">b</span><span class=\"p p-Indicator\">:</span> <span class=\"l l-Scalar l-Scalar-Plain\">0.0</span>\n",
       "    <span class=\"l l-Scalar l-Scalar-Plain\">l</span><span class=\"p p-Indicator\">:</span> <span class=\"l l-Scalar l-Scalar-Plain\">0.0</span>\n",
       "    <span class=\"l l-Scalar l-Scalar-Plain\">lam</span><span class=\"p p-Indicator\">:</span> <span class=\"l l-Scalar l-Scalar-Plain\">0.0</span>\n",
       "\n",
       "    <span class=\"l l-Scalar l-Scalar-Plain\">V</span><span class=\"p p-Indicator\">:</span> <span class=\"l l-Scalar l-Scalar-Plain\">c^(1.0-sigma)/(1.0-sigma)/(1.0-beta)</span>\n",
       "    <span class=\"l l-Scalar l-Scalar-Plain\">Vc</span><span class=\"p p-Indicator\">:</span> <span class=\"l l-Scalar l-Scalar-Plain\">c^(1.0-sigma)/(1.0-sigma)</span>\n",
       "\n",
       "\n",
       "<span class=\"l l-Scalar l-Scalar-Plain\">exogenous</span><span class=\"p p-Indicator\">:</span> <span class=\"kt\">!MarkovChain</span>\n",
       "    <span class=\"l l-Scalar l-Scalar-Plain\">values</span><span class=\"p p-Indicator\">:</span> <span class=\"p p-Indicator\">[[</span> <span class=\"nv\">1.0-delta_y</span> <span class=\"p p-Indicator\">],</span>  <span class=\"c1\"># bad state</span>\n",
       "             <span class=\"p p-Indicator\">[</span> <span class=\"nv\">1.0</span> <span class=\"p p-Indicator\">]]</span>          <span class=\"c1\"># good state</span>\n",
       "    <span class=\"l l-Scalar l-Scalar-Plain\">transitions</span><span class=\"p p-Indicator\">:</span> <span class=\"p p-Indicator\">[[</span> <span class=\"nv\">0.5</span><span class=\"p p-Indicator\">,</span> <span class=\"nv\">1-0.5</span> <span class=\"p p-Indicator\">],</span>   <span class=\"c1\"># probabilities   [p(L|L), p(H|L)]</span>\n",
       "                  <span class=\"p p-Indicator\">[</span> <span class=\"nv\">0.5</span><span class=\"p p-Indicator\">,</span> <span class=\"nv\">0.5</span> <span class=\"p p-Indicator\">]]</span>     <span class=\"c1\"># probabilities   [p(L|H), p(H|H)]</span>\n",
       "\n",
       "<span class=\"l l-Scalar l-Scalar-Plain\">domain</span><span class=\"p p-Indicator\">:</span>\n",
       "    <span class=\"l l-Scalar l-Scalar-Plain\">l</span><span class=\"p p-Indicator\">:</span> <span class=\"p p-Indicator\">[</span><span class=\"nv\">-1</span><span class=\"p p-Indicator\">,</span> <span class=\"nv\">1</span><span class=\"p p-Indicator\">]</span>\n",
       "\n",
       "<span class=\"l l-Scalar l-Scalar-Plain\">options</span><span class=\"p p-Indicator\">:</span>\n",
       "    <span class=\"l l-Scalar l-Scalar-Plain\">grid</span><span class=\"p p-Indicator\">:</span> <span class=\"kt\">!Cartesian</span>\n",
       "        <span class=\"l l-Scalar l-Scalar-Plain\">orders</span><span class=\"p p-Indicator\">:</span> <span class=\"p p-Indicator\">[</span><span class=\"nv\">10</span><span class=\"p p-Indicator\">]</span>\n",
       "</pre></div>\n",
       "</td></tr></table>\n",
       "    "
      ],
      "text/plain": [
       "<IPython.core.display.HTML object>"
      ]
     },
     "execution_count": 10,
     "metadata": {},
     "output_type": "execute_result"
    }
   ],
   "source": [
    "# filename = 'https://raw.githubusercontent.com/EconForge/dolo/master/examples/models/compat/sudden_stop.yaml'\n",
    "filename = '../models/sudden_stop.yaml'\n",
    "# the model file is coded in a separate file called sudden_stop.yaml\n",
    "# note how the borrowing constraint is implemented as complementarity condition\n",
    "pcat(filename)"
   ]
  },
  {
   "cell_type": "markdown",
   "metadata": {},
   "source": [
    "## importing the model\n",
    "\n",
    "Note, that residuals, are not zero at the calibration we supply. This is because the representative agent is impatient\n",
    "and we have $\\beta<1/R$. In this case it doesn't matter.\n",
    "\n",
    "By default, the calibrated value for endogenous variables are used as a (constant) starting point for the decision rules."
   ]
  },
  {
   "cell_type": "code",
   "execution_count": 11,
   "metadata": {
    "collapsed": false
   },
   "outputs": [
    {
     "data": {
      "text/html": [
       "\n",
       "        <table>\n",
       "         <td><b>Model</b></td>\n",
       "        <tr>\n",
       "        <td>name</td>\n",
       "        <td>Sudden Stop (General)</td>\n",
       "        </tr>\n",
       "        <tr>\n",
       "        <td>type</td>\n",
       "        <td>dtcc</td>\n",
       "        </tr>\n",
       "        <tr>\n",
       "        <td>filename</td>\n",
       "        <td>../models/sudden_stop.yaml</td>\n",
       "        </tr>\n",
       "        </table><table><tr><td><b>Type</b></td><td><b>Equation</b></td><td><b>Residual</b></td></tr>\n",
       "<tr><td>transition</td><td>$l_{t} = b_{t-1}$</td><td>0.000</td></tr><tr><td>arbitrage</td><td>$\\lambda_{t} = \\frac{b_{t}}{c_{t}}$</td><td>0.000</td></tr>\n",
       "<tr><td></td><td>$1 - \\beta \\; \\left(\\frac{c_{t+1}}{c_{t}}\\right)^{- \\sigma} \\; R$</td><td><span style=\"color: red;\">0.0215</span></td></tr><tr><td>value</td><td>$V_{t} = \\frac{c_{t}^{1.0 - \\sigma}}{1.0 - \\sigma} + \\beta \\; V_{t+1}$</td><td></td></tr>\n",
       "<tr><td></td><td>$Vc_{t} = \\frac{c_{t}^{1.0 - \\sigma}}{1.0 - \\sigma}$</td><td></td></tr><tr><td>controls_lb</td><td>$- inf$</td><td></td></tr>\n",
       "<tr><td></td><td>$\\lambda_{inf}$</td><td></td></tr><tr><td>controls_ub</td><td>$inf$</td><td></td></tr>\n",
       "<tr><td></td><td>$inf$</td><td></td></tr><tr><td>definitions</td><td>$c_{t} = 1 + y_{t} + l_{t} \\; R - b_{t}$</td><td></td></tr></table>"
      ],
      "text/plain": [
       "\n",
       "        Model:\n",
       "        ------\n",
       "        name: \"Sudden Stop (General)\"\n",
       "        type: \"dtcc\"\n",
       "        file: \"../models/sudden_stop.yaml\n",
       "\n",
       "Equations:\n",
       "----------\n",
       "\n",
       "transition\n",
       " 1  : 0.0000 : l(0) == b(-(1))\n",
       "\n",
       "arbitrage\n",
       " 1  : 0.0000 : lam(0) == (b(0)) / (c(0))\n",
       " 2  : \u001b[31m0.0215\u001b[0m : (1) - (((beta) * (((c(1)) / (c(0))) ** (-(sigma)))) * (R))\n",
       "\n",
       "definitions\n",
       " 1  : c = 1 + y + l*R - b\n"
      ]
     },
     "execution_count": 11,
     "metadata": {},
     "output_type": "execute_result"
    }
   ],
   "source": [
    "model = yaml_import(filename)\n",
    "model"
   ]
  },
  {
   "cell_type": "code",
   "execution_count": 72,
   "metadata": {
    "collapsed": false
   },
   "outputs": [
    {
     "name": "stdout",
     "output_type": "stream",
     "text": [
      "Solving WITH complementarities.\n",
      "------------------------------------------------\n",
      "| N   |  Error     | Gain     | Time     | nit |\n",
      "------------------------------------------------\n",
      "|   1 |  5.133e-01 |      nan |    0.082 |  10 |\n",
      "|   2 |  1.703e-01 |    0.332 |    0.028 |   8 |\n",
      "|   3 |  8.433e-02 |    0.495 |    0.018 |   6 |\n",
      "|   4 |  5.005e-02 |    0.594 |    0.014 |   6 |\n",
      "|   5 |  3.290e-02 |    0.657 |    0.014 |   6 |\n",
      "|   6 |  2.315e-02 |    0.704 |    0.037 |   6 |\n"
     ]
    },
    {
     "name": "stderr",
     "output_type": "stream",
     "text": [
      "\u001b[33mUserWarning\u001b[0m:/home/pablo/Mobilhome/econforge/dolo/dolo/numeric/optimize/newton.py:150\n",
      "    Did not converge\n"
     ]
    },
    {
     "name": "stdout",
     "output_type": "stream",
     "text": [
      "|   7 |  1.705e-02 |    0.737 |    0.029 |   6 |\n",
      "|   8 |  1.298e-02 |    0.761 |    0.021 |   5 |\n",
      "|   9 |  1.013e-02 |    0.780 |    0.013 |   5 |\n",
      "|  10 |  8.050e-03 |    0.795 |    0.012 |   5 |\n",
      "|  11 |  6.493e-03 |    0.807 |    0.011 |   5 |\n",
      "|  12 |  5.297e-03 |    0.816 |    0.046 |   5 |\n",
      "|  13 |  4.359e-03 |    0.823 |    0.010 |   4 |\n",
      "|  14 |  3.770e-03 |    0.865 |    0.032 |   4 |\n",
      "|  15 |  3.917e-03 |    1.039 |    0.015 |   4 |\n",
      "|  16 |  4.054e-03 |    1.035 |    0.010 |   4 |\n",
      "|  17 |  4.072e-03 |    1.004 |    0.019 |   4 |\n",
      "|  18 |  3.947e-03 |    0.969 |    0.020 |   4 |\n",
      "|  19 |  3.675e-03 |    0.931 |    0.012 |   4 |\n",
      "|  20 |  3.269e-03 |    0.890 |    0.007 |   3 |\n",
      "|  21 |  2.861e-03 |    0.875 |    0.008 |   3 |\n",
      "|  22 |  3.028e-03 |    1.058 |    0.007 |   3 |\n",
      "|  23 |  3.084e-03 |    1.018 |    0.007 |   3 |\n",
      "|  24 |  3.088e-03 |    1.001 |    0.007 |   3 |\n",
      "|  25 |  2.973e-03 |    0.963 |    0.007 |   3 |\n",
      "|  26 |  2.690e-03 |    0.905 |    0.007 |   3 |\n",
      "|  27 |  2.469e-03 |    0.918 |    0.007 |   3 |\n",
      "|  28 |  2.592e-03 |    1.050 |    0.007 |   3 |\n",
      "|  29 |  2.585e-03 |    0.997 |    0.034 |   3 |\n",
      "|  30 |  2.505e-03 |    0.969 |    0.007 |   3 |\n",
      "|  31 |  2.252e-03 |    0.899 |    0.010 |   3 |\n",
      "|  32 |  2.174e-03 |    0.965 |    0.008 |   3 |\n",
      "|  33 |  2.234e-03 |    1.028 |    0.008 |   3 |\n",
      "|  34 |  2.196e-03 |    0.983 |    0.007 |   3 |\n",
      "|  35 |  2.030e-03 |    0.924 |    0.007 |   3 |\n",
      "|  36 |  1.833e-03 |    0.903 |    0.007 |   3 |\n",
      "|  37 |  1.893e-03 |    1.032 |    0.007 |   3 |\n",
      "|  38 |  1.847e-03 |    0.976 |    0.007 |   3 |\n",
      "|  39 |  1.699e-03 |    0.920 |    0.007 |   3 |\n",
      "|  40 |  1.614e-03 |    0.950 |    0.007 |   3 |\n",
      "|  41 |  1.575e-03 |    0.976 |    0.043 |   3 |\n",
      "|  42 |  1.466e-03 |    0.931 |    0.010 |   3 |\n",
      "|  43 |  1.255e-03 |    0.856 |    0.035 |   3 |\n",
      "|  44 |  9.810e-04 |    0.781 |    0.006 |   2 |\n",
      "|  45 |  6.903e-04 |    0.704 |    0.009 |   2 |\n",
      "|  46 |  4.233e-04 |    0.613 |    0.006 |   2 |\n",
      "|  47 |  2.052e-04 |    0.485 |    0.012 |   2 |\n",
      "|  48 |  1.959e-04 |    0.955 |    0.005 |   2 |\n",
      "|  49 |  1.641e-04 |    0.838 |    0.005 |   2 |\n",
      "|  50 |  1.233e-04 |    0.751 |    0.005 |   2 |\n",
      "|  51 |  1.236e-04 |    1.002 |    0.005 |   2 |\n",
      "|  52 |  1.088e-04 |    0.880 |    0.005 |   2 |\n",
      "|  53 |  8.405e-05 |    0.773 |    0.005 |   2 |\n",
      "|  54 |  5.452e-05 |    0.649 |    0.005 |   2 |\n",
      "|  55 |  3.427e-05 |    0.629 |    0.005 |   2 |\n",
      "|  56 |  3.296e-05 |    0.962 |    0.005 |   2 |\n",
      "|  57 |  2.793e-05 |    0.847 |    0.006 |   2 |\n",
      "|  58 |  2.201e-05 |    0.788 |    0.005 |   2 |\n",
      "|  59 |  2.172e-05 |    0.987 |    0.005 |   2 |\n",
      "|  60 |  1.889e-05 |    0.869 |    0.005 |   2 |\n",
      "|  61 |  1.407e-05 |    0.745 |    0.005 |   2 |\n",
      "|  62 |  8.404e-06 |    0.597 |    0.003 |   1 |\n",
      "|  63 |  7.505e-06 |    0.893 |    0.003 |   1 |\n",
      "|  64 |  6.914e-06 |    0.921 |    0.003 |   1 |\n",
      "|  65 |  5.351e-06 |    0.774 |    0.003 |   1 |\n",
      "|  66 |  5.067e-06 |    0.947 |    0.003 |   1 |\n",
      "|  67 |  4.602e-06 |    0.908 |    0.022 |   1 |\n",
      "|  68 |  3.667e-06 |    0.797 |    0.015 |   1 |\n",
      "|  69 |  2.667e-06 |    0.727 |    0.007 |   1 |\n",
      "|  70 |  2.749e-06 |    1.031 |    0.013 |   1 |\n",
      "|  71 |  2.663e-06 |    0.969 |    0.010 |   1 |\n",
      "|  72 |  2.344e-06 |    0.880 |    0.003 |   1 |\n",
      "|  73 |  1.979e-06 |    0.844 |    0.004 |   1 |\n",
      "|  74 |  1.942e-06 |    0.981 |    0.004 |   1 |\n",
      "|  75 |  1.718e-06 |    0.885 |    0.005 |   1 |\n",
      "|  76 |  1.325e-06 |    0.772 |    0.003 |   1 |\n",
      "|  77 |  9.115e-07 |    0.688 |    0.003 |   1 |\n",
      "------------------------------------------------\n",
      "Elapsed: 0.9402523040771484 seconds.\n",
      "------------------------------------------------\n"
     ]
    }
   ],
   "source": [
    "# to avoid numerical glitches we choose a relatively high number of grid points\n",
    "mdr = time_iteration(model, verbose=True)"
   ]
  },
  {
   "cell_type": "code",
   "execution_count": 75,
   "metadata": {},
   "outputs": [],
   "source": [
    "# produce the plots\n",
    "n_steps = 100\n",
    "\n",
    "tab0 = tabulate(model, mdr, 'l', i0=0, n_steps=n_steps)\n",
    "tab1 = tabulate(model, mdr, 'l', i0=1, n_steps=n_steps)"
   ]
  },
  {
   "cell_type": "code",
   "execution_count": 76,
   "metadata": {},
   "outputs": [],
   "source": [
    "lam_inf = model.calibration['lam_inf']"
   ]
  },
  {
   "cell_type": "code",
   "execution_count": 77,
   "metadata": {},
   "outputs": [
    {
     "data": {
      "text/plain": [
       "Text(0.5, 0.98, 'Decision Rules')"
      ]
     },
     "execution_count": 77,
     "metadata": {},
     "output_type": "execute_result"
    },
    {
     "data": {
      "image/png": "[encoded data removed]",
      "text/plain": [
       "<Figure size 720x432 with 2 Axes>"
      ]
     },
     "metadata": {},
     "output_type": "display_data"
    }
   ],
   "source": [
    "plt.subplot(121)\n",
    "\n",
    "plt.plot(tab0['l'], tab0['l'], linestyle='--', color='black', label='')\n",
    "plt.plot(tab0['l'], lam_inf*tab0['c'], linestyle='--', color='black', label='')\n",
    "plt.plot(tab0['l'], tab0['b'], label='$b_t$ (bad state)' )\n",
    "plt.plot(tab0['l'], tab1['b'], label='$b_t$ (good state)')\n",
    "# plt.plot(tab0['l'], lam_inf*tab1['c'])\n",
    "plt.grid()\n",
    "xlabel('$l_t$')\n",
    "\n",
    "legend(loc= 'upper left')\n",
    "\n",
    "plt.subplot(122)\n",
    "plt.plot(tab0['l'], tab0['c'], label='$c_t$ (bad state)' )\n",
    "plt.plot(tab0['l'], tab1['c'], label='$c_t$ (good state)' )\n",
    "legend(loc= 'lower right')\n",
    "plt.grid()\n",
    "xlabel('$l_t$')\n",
    "\n",
    "plt.suptitle(\"Decision Rules\")"
   ]
  },
  {
   "cell_type": "code",
   "execution_count": 84,
   "metadata": {},
   "outputs": [],
   "source": [
    "# if we want we can use altair/vega-lite instead"
   ]
  },
  {
   "cell_type": "code",
   "execution_count": 86,
   "metadata": {},
   "outputs": [],
   "source": [
    "import altair as alt\n",
    "import pandas"
   ]
  },
  {
   "cell_type": "code",
   "execution_count": 166,
   "metadata": {},
   "outputs": [],
   "source": [
    "# first we need to convert data into flat format\n",
    "df = pandas.concat([tab0, tab1], keys=['bad','good'], names=['experiment'])\n",
    "df = df.reset_index().drop(columns=['level_1']) # maybe there is a more elegant option here"
   ]
  },
  {
   "cell_type": "code",
   "execution_count": 176,
   "metadata": {},
   "outputs": [],
   "source": [
    "lam_inf = model.calibration['lam_inf']"
   ]
  },
  {
   "cell_type": "code",
   "execution_count": 208,
   "metadata": {},
   "outputs": [
    {
     "data": {
      "application/vnd.vegalite.v2+json": {
       "$schema": "https://vega.github.io/schema/vega-lite/v2.6.0.json",
       "config": {
        "view": {
         "height": 300,
         "width": 400
        }
       },
       "datasets": {
        "data-1c127afe96680b91933efa80a9111443": [
         {
          "b": -0.235,
          "c": 1.1749999999999998,
          "experiment": "bad",
          "l": -1,
          "lam": -0.19999999999999998,
          "y": 0.97
         },
         {
          "b": -0.240094347181473,
          "c": 1.2009024279895537,
          "experiment": "bad",
          "l": -0.9797979797979798,
          "lam": -0.1999513084124451,
          "y": 0.97
         },
         {
          "b": -0.24519407801397336,
          "c": 1.226810239630135,
          "experiment": "bad",
          "l": -0.9595959595959596,
          "lam": -0.19990505140426795,
          "y": 0.97
         },
         {
          "b": -0.2503045761485284,
          "c": 1.2527288185727707,
          "experiment": "bad",
          "l": -0.9393939393939394,
          "lam": -0.19986366355484625,
          "y": 0.97
         },
         {
          "b": -0.25543122523616557,
          "c": 1.2786635484684887,
          "experiment": "bad",
          "l": -0.9191919191919192,
          "lam": -0.19982957944355784,
          "y": 0.97
         },
         {
          "b": -0.2605794089279122,
          "c": 1.3046198129683164,
          "experiment": "bad",
          "l": -0.898989898989899,
          "lam": -0.19980523364978037,
          "y": 0.97
         },
         {
          "b": -0.26575451087479557,
          "c": 1.3306029957232806,
          "experiment": "bad",
          "l": -0.8787878787878788,
          "lam": -0.19979306075289166,
          "y": 0.97
         },
         {
          "b": -0.27096191472784315,
          "c": 1.3566184803844088,
          "experiment": "bad",
          "l": -0.8585858585858586,
          "lam": -0.19979549533226942,
          "y": 0.97
         },
         {
          "b": -0.27620700413808225,
          "c": 1.3826716506027288,
          "experiment": "bad",
          "l": -0.8383838383838383,
          "lam": -0.19981497196729137,
          "y": 0.97
         },
         {
          "b": -0.28149516275654024,
          "c": 1.4087678900292677,
          "experiment": "bad",
          "l": -0.8181818181818181,
          "lam": -0.1998539252373353,
          "y": 0.97
         },
         {
          "b": -0.2868317742342444,
          "c": 1.4349125823150524,
          "experiment": "bad",
          "l": -0.797979797979798,
          "lam": -0.19991478972177895,
          "y": 0.97
         },
         {
          "b": -0.29222222222222227,
          "c": 1.4611111111111112,
          "experiment": "bad",
          "l": -0.7777777777777778,
          "lam": -0.2,
          "y": 0.97
         },
         {
          "b": -0.2976665067204737,
          "c": 1.4873634764174435,
          "experiment": "bad",
          "l": -0.7575757575757576,
          "lam": -0.20010955607199857,
          "y": 0.97
         },
         {
          "b": -0.30314309312488924,
          "c": 1.5136481436299398,
          "experiment": "bad",
          "l": -0.7373737373737373,
          "lam": -0.2002337196202636,
          "y": 0.97
         },
         {
          "b": -0.3086250631803323,
          "c": 1.5399381944934636,
          "experiment": "bad",
          "l": -0.7171717171717171,
          "lam": -0.2003603177479064,
          "y": 0.97
         },
         {
          "b": -0.31408549863166574,
          "c": 1.5662067107528777,
          "experiment": "bad",
          "l": -0.696969696969697,
          "lam": -0.20047717755803818,
          "y": 0.97
         },
         {
          "b": -0.31949748122375304,
          "c": 1.592426774153046,
          "experiment": "bad",
          "l": -0.6767676767676767,
          "lam": -0.20057212615377024,
          "y": 0.97
         },
         {
          "b": -0.3248340927014572,
          "c": 1.6185714664388309,
          "experiment": "bad",
          "l": -0.6565656565656566,
          "lam": -0.20063299063821385,
          "y": 0.97
         },
         {
          "b": -0.3300684148096416,
          "c": 1.644613869355096,
          "experiment": "bad",
          "l": -0.6363636363636364,
          "lam": -0.20064759811448032,
          "y": 0.97
         },
         {
          "b": -0.3351735292931693,
          "c": 1.6705270646467045,
          "experiment": "bad",
          "l": -0.6161616161616161,
          "lam": -0.20060377568568094,
          "y": 0.97
         },
         {
          "b": -0.3401225178969035,
          "c": 1.6962841340585197,
          "experiment": "bad",
          "l": -0.5959595959595959,
          "lam": -0.20048935045492688,
          "y": 0.97
         },
         {
          "b": -0.3448884623657075,
          "c": 1.7218581593354045,
          "experiment": "bad",
          "l": -0.5757575757575757,
          "lam": -0.20029214952532948,
          "y": 0.97
         },
         {
          "b": -0.34944444444444445,
          "c": 1.7472222222222222,
          "experiment": "bad",
          "l": -0.5555555555555556,
          "lam": -0.19999999999999996,
          "y": 0.97
         },
         {
          "b": -0.3537401028676337,
          "c": 1.7723259614534923,
          "experiment": "bad",
          "l": -0.5353535353535352,
          "lam": -0.19959223437700013,
          "y": 0.97
         },
         {
          "b": -0.35763130432841933,
          "c": 1.7970252437223588,
          "experiment": "bad",
          "l": -0.5151515151515151,
          "lam": -0.19901420673419326,
          "y": 0.97
         },
         {
          "b": -0.36095047250960177,
          "c": 1.821152492711622,
          "experiment": "bad",
          "l": -0.4949494949494949,
          "lam": -0.19820277654439317,
          "y": 0.97
         },
         {
          "b": -0.36353003109398135,
          "c": 1.8445401321040824,
          "experiment": "bad",
          "l": -0.4747474747474747,
          "lam": -0.19709480328041368,
          "y": 0.97
         },
         {
          "b": -0.36520240376435825,
          "c": 1.8670205855825401,
          "experiment": "bad",
          "l": -0.4545454545454545,
          "lam": -0.19562714641506854,
          "y": 0.97
         },
         {
          "b": -0.3658000142035329,
          "c": 1.8884262768297957,
          "experiment": "bad",
          "l": -0.43434343434343425,
          "lam": -0.1937366654211716,
          "y": 0.97
         },
         {
          "b": -0.36515528609430553,
          "c": 1.9085896295286489,
          "experiment": "bad",
          "l": -0.41414141414141414,
          "lam": -0.19136021977153664,
          "y": 0.97
         },
         {
          "b": -0.36310064311947654,
          "c": 1.9273430673619008,
          "experiment": "bad",
          "l": -0.3939393939393939,
          "lam": -0.18843466893897748,
          "y": 0.97
         },
         {
          "b": -0.3594685089618462,
          "c": 1.9445190140123512,
          "experiment": "bad",
          "l": -0.3737373737373737,
          "lam": -0.18489687239630784,
          "y": 0.97
         },
         {
          "b": -0.35409130730421484,
          "c": 1.9599498931628008,
          "experiment": "bad",
          "l": -0.3535353535353535,
          "lam": -0.1806836896163416,
          "y": 0.97
         },
         {
          "b": -0.3468014618293827,
          "c": 1.9734681284960494,
          "experiment": "bad",
          "l": -0.33333333333333326,
          "lam": -0.17573198007189247,
          "y": 0.97
         },
         {
          "b": -0.33749091278689936,
          "c": 1.984965660261647,
          "experiment": "bad",
          "l": -0.31313131313131304,
          "lam": -0.17000130744027633,
          "y": 0.97
         },
         {
          "b": -0.32628966669330994,
          "c": 1.9945724949761383,
          "experiment": "bad",
          "l": -0.2929292929292928,
          "lam": -0.16354205221681678,
          "y": 0.97
         },
         {
          "b": -0.3133872466319093,
          "c": 2.002478155722818,
          "experiment": "bad",
          "l": -0.2727272727272727,
          "lam": -0.1564272991013396,
          "y": 0.97
         },
         {
          "b": -0.29897317568599163,
          "c": 2.0088721655849815,
          "experiment": "bad",
          "l": -0.2525252525252525,
          "lam": -0.1487301327936703,
          "y": 0.97
         },
         {
          "b": -0.2832369769388515,
          "c": 2.0139440476459223,
          "experiment": "bad",
          "l": -0.23232323232323226,
          "lam": -0.14052363799363457,
          "y": 0.97
         },
         {
          "b": -0.2663681734737835,
          "c": 2.0178833249889347,
          "experiment": "bad",
          "l": -0.21212121212121204,
          "lam": -0.13188089940105813,
          "y": 0.97
         },
         {
          "b": -0.24855628837408203,
          "c": 2.0208795206973145,
          "experiment": "bad",
          "l": -0.19191919191919182,
          "lam": -0.12287500171576661,
          "y": 0.97
         },
         {
          "b": -0.2299908447230415,
          "c": 2.023122157854355,
          "experiment": "bad",
          "l": -0.1717171717171716,
          "lam": -0.11357902963758561,
          "y": 0.97
         },
         {
          "b": -0.21086136560395669,
          "c": 2.024800759543351,
          "experiment": "bad",
          "l": -0.1515151515151515,
          "lam": -0.10406606786634097,
          "y": 0.97
         },
         {
          "b": -0.1913573741001218,
          "c": 2.026104848847597,
          "experiment": "bad",
          "l": -0.13131313131313127,
          "lam": -0.09440920110185817,
          "y": 0.97
         },
         {
          "b": -0.1716683932948314,
          "c": 2.027223948850387,
          "experiment": "bad",
          "l": -0.11111111111111105,
          "lam": -0.08468151404396293,
          "y": 0.97
         },
         {
          "b": -0.15195217642505052,
          "c": 2.028315812788687,
          "experiment": "bad",
          "l": -0.09090909090909083,
          "lam": -0.07494401701835561,
          "y": 0.97
         },
         {
          "b": -0.1322393973424272,
          "c": 2.0294111145141445,
          "experiment": "bad",
          "l": -0.07070707070707061,
          "lam": -0.06520942285423614,
          "y": 0.97
         },
         {
          "b": -0.1125289600522798,
          "c": 2.0305087580320778,
          "experiment": "bad",
          "l": -0.050505050505050386,
          "lam": -0.0554783700066789,
          "y": 0.97
         },
         {
          "b": -0.09281976855992687,
          "c": 2.0316076473478057,
          "experiment": "bad",
          "l": -0.030303030303030276,
          "lam": -0.04575149693075853,
          "y": 0.97
         },
         {
          "b": -0.07311072687068634,
          "c": 2.032706686466646,
          "experiment": "bad",
          "l": -0.010101010101010055,
          "lam": -0.036029442081549234,
          "y": 0.97
         },
         {
          "b": -0.053400738989877176,
          "c": 2.0338047793939174,
          "experiment": "bad",
          "l": 0.010101010101010166,
          "lam": -0.026312843914125812,
          "y": 0.97
         },
         {
          "b": -0.03368870892281747,
          "c": 2.034900830134939,
          "experiment": "bad",
          "l": 0.030303030303030498,
          "lam": -0.016602340883562626,
          "y": 0.97
         },
         {
          "b": -0.01397354067482623,
          "c": 2.0359937426950285,
          "experiment": "bad",
          "l": 0.05050505050505061,
          "lam": -0.006898571444934434,
          "y": 0.97
         },
         {
          "b": 0.005745861748778686,
          "c": 2.037082421079504,
          "experiment": "bad",
          "l": 0.07070707070707072,
          "lam": 0.002797825946684516,
          "y": 0.97
         },
         {
          "b": 0.025470594342678836,
          "c": 2.038165769293685,
          "experiment": "bad",
          "l": 0.09090909090909105,
          "lam": 0.012486212836219708,
          "y": 0.97
         },
         {
          "b": 0.04520175310155518,
          "c": 2.039242691342889,
          "experiment": "bad",
          "l": 0.11111111111111116,
          "lam": 0.022165950768596343,
          "y": 0.97
         },
         {
          "b": 0.0649402427684687,
          "c": 2.0403122824840567,
          "experiment": "bad",
          "l": 0.1313131313131315,
          "lam": 0.03183657579470185,
          "y": 0.97
         },
         {
          "b": 0.08468620307999364,
          "c": 2.0413744029806122,
          "experiment": "bad",
          "l": 0.1515151515151516,
          "lam": 0.04149832198926921,
          "y": 0.97
         },
         {
          "b": 0.1044395825210833,
          "c": 2.0424291043476037,
          "experiment": "bad",
          "l": 0.1717171717171717,
          "lam": 0.051151597932993266,
          "y": 0.97
         },
         {
          "b": 0.12420032957669178,
          "c": 2.043476438100076,
          "experiment": "bad",
          "l": 0.19191919191919204,
          "lam": 0.06079681220656913,
          "y": 0.97
         },
         {
          "b": 0.14396839273177184,
          "c": 2.044516455753077,
          "experiment": "bad",
          "l": 0.21212121212121215,
          "lam": 0.07043437339069133,
          "y": 0.97
         },
         {
          "b": 0.16374372047127714,
          "c": 2.0455492088216523,
          "experiment": "bad",
          "l": 0.2323232323232325,
          "lam": 0.08006469006605481,
          "y": 0.97
         },
         {
          "b": 0.18352626128016106,
          "c": 2.046574748820849,
          "experiment": "bad",
          "l": 0.2525252525252526,
          "lam": 0.0896881708133544,
          "y": 0.97
         },
         {
          "b": 0.20331596364337715,
          "c": 2.047593127265714,
          "experiment": "bad",
          "l": 0.27272727272727293,
          "lam": 0.09930522421328501,
          "y": 0.97
         },
         {
          "b": 0.22311277604587834,
          "c": 2.0486043956712936,
          "experiment": "bad",
          "l": 0.29292929292929304,
          "lam": 0.10891625884654121,
          "y": 0.97
         },
         {
          "b": 0.24291664697261856,
          "c": 2.049608605552634,
          "experiment": "bad",
          "l": 0.31313131313131315,
          "lam": 0.1185216832938181,
          "y": 0.97
         },
         {
          "b": 0.2627275249085512,
          "c": 2.0506058084247822,
          "experiment": "bad",
          "l": 0.3333333333333335,
          "lam": 0.1281219061358105,
          "y": 0.97
         },
         {
          "b": 0.28254531536022837,
          "c": 2.051596098781186,
          "experiment": "bad",
          "l": 0.3535353535353536,
          "lam": 0.13771724680958317,
          "y": 0.97
         },
         {
          "b": 0.3023697519205999,
          "c": 2.052579743028895,
          "experiment": "bad",
          "l": 0.3737373737373739,
          "lam": 0.14730766817768226,
          "y": 0.97
         },
         {
          "b": 0.3222005252042138,
          "c": 2.053557050553362,
          "experiment": "bad",
          "l": 0.39393939393939403,
          "lam": 0.1568930439590234,
          "y": 0.97
         },
         {
          "b": 0.34203732582561847,
          "c": 2.0545283307400384,
          "experiment": "bad",
          "l": 0.41414141414141437,
          "lam": 0.16647324787252277,
          "y": 0.97
         },
         {
          "b": 0.361879844399362,
          "c": 2.0554938929743756,
          "experiment": "bad",
          "l": 0.4343434343434345,
          "lam": 0.176048153637096,
          "y": 0.97
         },
         {
          "b": 0.38172777153999327,
          "c": 2.056454046641825,
          "experiment": "bad",
          "l": 0.4545454545454546,
          "lam": 0.1856176349716594,
          "y": 0.97
         },
         {
          "b": 0.4015807978620604,
          "c": 2.057409101127839,
          "experiment": "bad",
          "l": 0.4747474747474749,
          "lam": 0.19518156559512875,
          "y": 0.97
         },
         {
          "b": 0.4214386139801118,
          "c": 2.0583593658178683,
          "experiment": "bad",
          "l": 0.49494949494949503,
          "lam": 0.2047398192264201,
          "y": 0.97
         },
         {
          "b": 0.441300910508696,
          "c": 2.059305150097365,
          "experiment": "bad",
          "l": 0.5151515151515154,
          "lam": 0.21429226958444939,
          "y": 0.97
         },
         {
          "b": 0.4611673780623611,
          "c": 2.0602467633517807,
          "experiment": "bad",
          "l": 0.5353535353535355,
          "lam": 0.22383879038813242,
          "y": 0.97
         },
         {
          "b": 0.48103770725565526,
          "c": 2.061184514966567,
          "experiment": "bad",
          "l": 0.5555555555555556,
          "lam": 0.2333792553563852,
          "y": 0.97
         },
         {
          "b": 0.5009116637015225,
          "c": 2.062118639328781,
          "experiment": "bad",
          "l": 0.5757575757575759,
          "lam": 0.242913549593478,
          "y": 0.97
         },
         {
          "b": 0.5207893130064851,
          "c": 2.063049070831899,
          "experiment": "bad",
          "l": 0.595959595959596,
          "lam": 0.2524416037450968,
          "y": 0.97
         },
         {
          "b": 0.5406707957754616,
          "c": 2.0639756688710036,
          "experiment": "bad",
          "l": 0.6161616161616164,
          "lam": 0.26196335984228253,
          "y": 0.97
         },
         {
          "b": 0.5605562526133692,
          "c": 2.0648982928411765,
          "experiment": "bad",
          "l": 0.6363636363636365,
          "lam": 0.2714787599160752,
          "y": 0.97
         },
         {
          "b": 0.5804458241251264,
          "c": 2.0658168021375003,
          "experiment": "bad",
          "l": 0.6565656565656568,
          "lam": 0.2809877459975156,
          "y": 0.97
         },
         {
          "b": 0.6003396509156501,
          "c": 2.066731056155057,
          "experiment": "bad",
          "l": 0.6767676767676769,
          "lam": 0.29049026011764373,
          "y": 0.97
         },
         {
          "b": 0.6202378735898592,
          "c": 2.067640914288929,
          "experiment": "bad",
          "l": 0.696969696969697,
          "lam": 0.2999862443075005,
          "y": 0.97
         },
         {
          "b": 0.6401406327526713,
          "c": 2.0685462359341975,
          "experiment": "bad",
          "l": 0.7171717171717173,
          "lam": 0.3094756405981262,
          "y": 0.97
         },
         {
          "b": 0.660048069009004,
          "c": 2.0694468804859456,
          "experiment": "bad",
          "l": 0.7373737373737375,
          "lam": 0.3189583910205612,
          "y": 0.97
         },
         {
          "b": 0.6799603229637757,
          "c": 2.070342707339255,
          "experiment": "bad",
          "l": 0.7575757575757578,
          "lam": 0.3284344376058462,
          "y": 0.97
         },
         {
          "b": 0.6998775352219034,
          "c": 2.0712335758892078,
          "experiment": "bad",
          "l": 0.7777777777777779,
          "lam": 0.3379037223850212,
          "y": 0.97
         },
         {
          "b": 0.7197997456979671,
          "c": 2.072119446221225,
          "experiment": "bad",
          "l": 0.7979797979797982,
          "lam": 0.3473663003805457,
          "y": 0.97
         },
         {
          "b": 0.7397265915451895,
          "c": 2.0730006811820836,
          "experiment": "bad",
          "l": 0.8181818181818183,
          "lam": 0.3568226785805528,
          "y": 0.97
         },
         {
          "b": 0.7596576092264541,
          "c": 2.0738777443088994,
          "experiment": "bad",
          "l": 0.8383838383838385,
          "lam": 0.3662734769645938,
          "y": 0.97
         },
         {
          "b": 0.779592335204646,
          "c": 2.0747510991387887,
          "experiment": "bad",
          "l": 0.8585858585858588,
          "lam": 0.375719315512221,
          "y": 0.97
         },
         {
          "b": 0.7995303059426485,
          "c": 2.0756212092088666,
          "experiment": "bad",
          "l": 0.8787878787878789,
          "lam": 0.38516081420298576,
          "y": 0.97
         },
         {
          "b": 0.8194710579033465,
          "c": 2.0764885380562497,
          "experiment": "bad",
          "l": 0.8989898989898992,
          "lam": 0.3945985930164402,
          "y": 0.97
         },
         {
          "b": 0.8394141275496235,
          "c": 2.0773535492180533,
          "experiment": "bad",
          "l": 0.9191919191919193,
          "lam": 0.4040332719321357,
          "y": 0.97
         },
         {
          "b": 0.859359051344364,
          "c": 2.0782167062313937,
          "experiment": "bad",
          "l": 0.9393939393939394,
          "lam": 0.41346547092962416,
          "y": 0.97
         },
         {
          "b": 0.8793053657504523,
          "c": 2.079078472633386,
          "experiment": "bad",
          "l": 0.9595959595959598,
          "lam": 0.42289580998845766,
          "y": 0.97
         },
         {
          "b": 0.8992526072307724,
          "c": 2.0799393119611467,
          "experiment": "bad",
          "l": 0.9797979797979799,
          "lam": 0.43232490908818755,
          "y": 0.97
         },
         {
          "b": 0.9192003122482079,
          "c": 2.0807996877517922,
          "experiment": "bad",
          "l": 1,
          "lam": 0.44175338820836546,
          "y": 0.97
         },
         {
          "b": -0.24249999999999997,
          "c": 1.2125,
          "experiment": "good",
          "l": -1,
          "lam": -0.19999999999999998,
          "y": 1
         },
         {
          "b": -0.2473977948509632,
          "c": 1.238205875659044,
          "experiment": "good",
          "l": -0.9797979797979798,
          "lam": -0.19987261381415092,
          "y": 1
         },
         {
          "b": -0.25231080096947933,
          "c": 1.263926962585641,
          "experiment": "good",
          "l": -0.9595959595959596,
          "lam": -0.19975159693759428,
          "y": 1
         },
         {
          "b": -0.25725422962310107,
          "c": 1.2896784720473433,
          "experiment": "good",
          "l": -0.9393939393939394,
          "lam": -0.1996433186796225,
          "y": 1
         },
         {
          "b": -0.2622432920793814,
          "c": 1.3154756153117044,
          "experiment": "good",
          "l": -0.9191919191919192,
          "lam": -0.1995541483495282,
          "y": 1
         },
         {
          "b": -0.2672931996058731,
          "c": 1.341333603646277,
          "experiment": "good",
          "l": -0.898989898989899,
          "lam": -0.19949045525660364,
          "y": 1
         },
         {
          "b": -0.27241916347012907,
          "c": 1.367267648318614,
          "experiment": "good",
          "l": -0.8787878787878788,
          "lam": -0.19945860871014137,
          "y": 1
         },
         {
          "b": -0.2776363949397021,
          "c": 1.3932929605962676,
          "experiment": "good",
          "l": -0.8585858585858586,
          "lam": -0.1994649780194338,
          "y": 1
         },
         {
          "b": -0.2829601052821451,
          "c": 1.4194247517467915,
          "experiment": "good",
          "l": -0.8383838383838383,
          "lam": -0.19951593249377345,
          "y": 1
         },
         {
          "b": -0.2884055057650109,
          "c": 1.445678233037738,
          "experiment": "good",
          "l": -0.8181818181818181,
          "lam": -0.19961784144245273,
          "y": 1
         },
         {
          "b": -0.29398780765585225,
          "c": 1.4720686157366603,
          "experiment": "good",
          "l": -0.797979797979798,
          "lam": -0.19977707417476412,
          "y": 1
         },
         {
          "b": -0.2997222222222222,
          "c": 1.4986111111111111,
          "experiment": "good",
          "l": -0.7777777777777778,
          "lam": -0.2,
          "y": 1
         },
         {
          "b": -0.3056087494641206,
          "c": 1.5253057191610904,
          "experiment": "good",
          "l": -0.7575757575757576,
          "lam": -0.2002866189181605,
          "y": 1
         },
         {
          "b": -0.3115865443113361,
          "c": 1.5520915948163867,
          "experiment": "good",
          "l": -0.7373737373737373,
          "lam": -0.2006114536920757,
          "y": 1
         },
         {
          "b": -0.3175795504261045,
          "c": 1.578892681739236,
          "experiment": "good",
          "l": -0.7171717171717171,
          "lam": -0.20094265777528336,
          "y": 1
         },
         {
          "b": -0.3235117114706613,
          "c": 1.6056329235918736,
          "experiment": "good",
          "l": -0.696969696969697,
          "lam": -0.20124838462132122,
          "y": 1
         },
         {
          "b": -0.3293069711072428,
          "c": 1.6322362640365358,
          "experiment": "good",
          "l": -0.6767676767676767,
          "lam": -0.20149678768372692,
          "y": 1
         },
         {
          "b": -0.3348892729980841,
          "c": 1.6586266467354578,
          "experiment": "good",
          "l": -0.6565656565656566,
          "lam": -0.2016560204160383,
          "y": 1
         },
         {
          "b": -0.3401825608054214,
          "c": 1.684728015350876,
          "experiment": "good",
          "l": -0.6363636363636364,
          "lam": -0.20169423627179303,
          "y": 1
         },
         {
          "b": -0.34511077819149033,
          "c": 1.7104643135450257,
          "experiment": "good",
          "l": -0.6161616161616161,
          "lam": -0.20157958870452883,
          "y": 1
         },
         {
          "b": -0.34959786881852656,
          "c": 1.7357594849801428,
          "experiment": "good",
          "l": -0.5959595959595959,
          "lam": -0.20128023116778343,
          "y": 1
         },
         {
          "b": -0.353567776348766,
          "c": 1.7605374733184629,
          "experiment": "good",
          "l": -0.5757575757575757,
          "lam": -0.20076431711509457,
          "y": 1
         },
         {
          "b": -0.3569444444444444,
          "c": 1.7847222222222219,
          "experiment": "good",
          "l": -0.5555555555555556,
          "lam": -0.19999999999999996,
          "y": 1
         },
         {
          "b": -0.3596478807717478,
          "c": 1.8082337393576065,
          "experiment": "good",
          "l": -0.5353535353535352,
          "lam": -0.19895479714083114,
          "y": 1
         },
         {
          "b": -0.3615823490126647,
          "c": 1.830976288406604,
          "experiment": "good",
          "l": -0.5151515151515151,
          "lam": -0.1975936813150947,
          "y": 1
         },
         {
          "b": -0.36264817685313405,
          "c": 1.852850197055154,
          "experiment": "good",
          "l": -0.4949494949494949,
          "lam": -0.1958809891650911,
          "y": 1
         },
         {
          "b": -0.3627456919790944,
          "c": 1.8737557929891953,
          "experiment": "good",
          "l": -0.4747474747474747,
          "lam": -0.19378105733312073,
          "y": 1
         },
         {
          "b": -0.36177522207648455,
          "c": 1.8935934038946662,
          "experiment": "good",
          "l": -0.4545454545454545,
          "lam": -0.19125822246148405,
          "y": 1
         },
         {
          "b": -0.3596370948312437,
          "c": 1.9122633574575063,
          "experiment": "good",
          "l": -0.43434343434343425,
          "lam": -0.18827682119248149,
          "y": 1
         },
         {
          "b": -0.3562316379293103,
          "c": 1.9296659813636536,
          "experiment": "good",
          "l": -0.41414141414141414,
          "lam": -0.18480119016841345,
          "y": 1
         },
         {
          "b": -0.35145917905662327,
          "c": 1.9457016032990475,
          "experiment": "good",
          "l": -0.3939393939393939,
          "lam": -0.18079566603158032,
          "y": 1
         },
         {
          "b": -0.3452200458991216,
          "c": 1.9602705509496268,
          "experiment": "good",
          "l": -0.3737373737373737,
          "lam": -0.1762245854242826,
          "y": 1
         },
         {
          "b": -0.33741456614274384,
          "c": 1.9732731520013298,
          "experiment": "good",
          "l": -0.3535353535353535,
          "lam": -0.17105228498882064,
          "y": 1
         },
         {
          "b": -0.3279430674734289,
          "c": 1.9846097341400957,
          "experiment": "good",
          "l": -0.33333333333333326,
          "lam": -0.1652431013674949,
          "y": 1
         },
         {
          "b": -0.31674975188451104,
          "c": 1.9942244993592586,
          "experiment": "good",
          "l": -0.31313131313131304,
          "lam": -0.15877767577387822,
          "y": 1
         },
         {
          "b": -0.3039543185989056,
          "c": 2.002237146881734,
          "experiment": "good",
          "l": -0.2929292929292928,
          "lam": -0.15170186770663305,
          "y": 1
         },
         {
          "b": -0.28972034114692347,
          "c": 2.008811250237833,
          "experiment": "good",
          "l": -0.2727272727272727,
          "lam": -0.14407784123569445,
          "y": 1
         },
         {
          "b": -0.2742113930588753,
          "c": 2.0141103829578655,
          "experiment": "good",
          "l": -0.2525252525252525,
          "lam": -0.13596776043099718,
          "y": 1
         },
         {
          "b": -0.2575910478650717,
          "c": 2.0182981185721425,
          "experiment": "good",
          "l": -0.23232323232323226,
          "lam": -0.1274337893624761,
          "y": 1
         },
         {
          "b": -0.2400228790958238,
          "c": 2.021538030610975,
          "experiment": "good",
          "l": -0.21212121212121204,
          "lam": -0.11853809210006631,
          "y": 1
         },
         {
          "b": -0.22167046028144208,
          "c": 2.0239936926046744,
          "experiment": "good",
          "l": -0.19191919191919182,
          "lam": -0.1093428327137026,
          "y": 1
         },
         {
          "b": -0.20269736495223734,
          "c": 2.0258286780835504,
          "experiment": "good",
          "l": -0.1717171717171716,
          "lam": -0.09991017527331983,
          "y": 1
         },
         {
          "b": -0.18326716663852063,
          "c": 2.027206560577915,
          "experiment": "good",
          "l": -0.1515151515151515,
          "lam": -0.09030228384885312,
          "y": 1
         },
         {
          "b": -0.16354343887060238,
          "c": 2.0282909136180773,
          "experiment": "good",
          "l": -0.13131313131313127,
          "lam": -0.08058132251023718,
          "y": 1
         },
         {
          "b": -0.14368975517879348,
          "c": 2.0292453107343493,
          "experiment": "good",
          "l": -0.11111111111111105,
          "lam": -0.07080945532740698,
          "y": 1
         },
         {
          "b": -0.12384176105990595,
          "c": 2.0302053974235426,
          "experiment": "good",
          "l": -0.09090909090909083,
          "lam": -0.06103845110358012,
          "y": 1
         },
         {
          "b": -0.10402338987675844,
          "c": 2.0311951070484757,
          "experiment": "good",
          "l": -0.07070707070707061,
          "lam": -0.05127849757510559,
          "y": 1
         },
         {
          "b": -0.0842306469586705,
          "c": 2.032210444938469,
          "experiment": "good",
          "l": -0.050505050505050386,
          "lam": -0.04152938721161488,
          "y": 1
         },
         {
          "b": -0.06445953763496202,
          "c": 2.033247416422841,
          "experiment": "good",
          "l": -0.030303030303030276,
          "lam": -0.03179091248273967,
          "y": 1
         },
         {
          "b": -0.0447060672349522,
          "c": 2.034302026830912,
          "experiment": "good",
          "l": -0.010101010101010055,
          "lam": -0.02206286585811126,
          "y": 1
         },
         {
          "b": -0.02496624108796128,
          "c": 2.0353702814920016,
          "experiment": "good",
          "l": 0.010101010101010166,
          "lam": -0.012345039807361513,
          "y": 1
         },
         {
          "b": -0.005236064523308678,
          "c": 2.0364481857354297,
          "experiment": "good",
          "l": 0.030303030303030498,
          "lam": -0.0026372268001218424,
          "y": 1
         },
         {
          "b": 0.014488457129685352,
          "c": 2.037531744890517,
          "experiment": "good",
          "l": 0.05050505050505061,
          "lam": 0.007060780693975914,
          "y": 1
         },
         {
          "b": 0.034211318541701646,
          "c": 2.0386169642865815,
          "experiment": "good",
          "l": 0.07070707070707072,
          "lam": 0.016749190205300434,
          "y": 1
         },
         {
          "b": 0.05393651438342046,
          "c": 2.0396998492529432,
          "experiment": "good",
          "l": 0.09090909090909105,
          "lam": 0.02642820926422014,
          "y": 1
         },
         {
          "b": 0.07366803932552148,
          "c": 2.040776405118923,
          "experiment": "good",
          "l": 0.11111111111111116,
          "lam": 0.03609804540110316,
          "y": 1
         },
         {
          "b": 0.09340915640504482,
          "c": 2.0418433688474806,
          "experiment": "good",
          "l": 0.1313131313131315,
          "lam": 0.04575893462535749,
          "y": 1
         },
         {
          "b": 0.11316020212446536,
          "c": 2.042900403936141,
          "experiment": "good",
          "l": 0.1515151515151516,
          "lam": 0.055411226862547236,
          "y": 1
         },
         {
          "b": 0.13292078135261753,
          "c": 2.0439479055160694,
          "experiment": "good",
          "l": 0.1717171717171717,
          "lam": 0.06505530051727597,
          "y": 1
         },
         {
          "b": 0.15269049895833656,
          "c": 2.0449862687184313,
          "experiment": "good",
          "l": 0.19191919191919204,
          "lam": 0.0746915339941476,
          "y": 1
         },
         {
          "b": 0.17246895981045623,
          "c": 2.0460158886743924,
          "experiment": "good",
          "l": 0.21212121212121215,
          "lam": 0.0843203056977654,
          "y": 1
         },
         {
          "b": 0.19225576877781134,
          "c": 2.047037160515118,
          "experiment": "good",
          "l": 0.2323232323232325,
          "lam": 0.09394199403273307,
          "y": 1
         },
         {
          "b": 0.21205053072923638,
          "c": 2.048050479371774,
          "experiment": "good",
          "l": 0.2525252525252526,
          "lam": 0.10355697740365416,
          "y": 1
         },
         {
          "b": 0.23185285053356602,
          "c": 2.049056240375525,
          "experiment": "good",
          "l": 0.27272727272727293,
          "lam": 0.1131656342151324,
          "y": 1
         },
         {
          "b": 0.2516623330596342,
          "c": 2.050054838657538,
          "experiment": "good",
          "l": 0.29292929292929304,
          "lam": 0.12276834287177107,
          "y": 1
         },
         {
          "b": 0.271478583176276,
          "c": 2.0510466693489766,
          "experiment": "good",
          "l": 0.31313131313131315,
          "lam": 0.13236548177817403,
          "y": 1
         },
         {
          "b": 0.29130120575232593,
          "c": 2.0520321275810076,
          "experiment": "good",
          "l": 0.3333333333333335,
          "lam": 0.1419574293389449,
          "y": 1
         },
         {
          "b": 0.31112983408135836,
          "c": 2.0530115800600557,
          "experiment": "good",
          "l": 0.3535353535353536,
          "lam": 0.1515444793748314,
          "y": 1
         },
         {
          "b": 0.3309642151559108,
          "c": 2.0539852797935847,
          "experiment": "good",
          "l": 0.3737373737373739,
          "lam": 0.1611265873711599,
          "y": 1
         },
         {
          "b": 0.35080412439325964,
          "c": 2.054953451364316,
          "experiment": "good",
          "l": 0.39393939393939403,
          "lam": 0.17070362422940044,
          "y": 1
         },
         {
          "b": 0.37064933721068244,
          "c": 2.0559163193549748,
          "experiment": "good",
          "l": 0.41414141414141437,
          "lam": 0.18027546085102367,
          "y": 1
         },
         {
          "b": 0.390499629025456,
          "c": 2.0568741083482815,
          "experiment": "good",
          "l": 0.4343434343434345,
          "lam": 0.18984196813749962,
          "y": 1
         },
         {
          "b": 0.4103547752548577,
          "c": 2.0578270429269607,
          "experiment": "good",
          "l": 0.4545454545454546,
          "lam": 0.19940301699029903,
          "y": 1
         },
         {
          "b": 0.4302145513161646,
          "c": 2.0587753476737345,
          "experiment": "good",
          "l": 0.4747474747474749,
          "lam": 0.20895847831089218,
          "y": 1
         },
         {
          "b": 0.4500787326266538,
          "c": 2.059719247171326,
          "experiment": "good",
          "l": 0.49494949494949503,
          "lam": 0.21850822300074946,
          "y": 1
         },
         {
          "b": 0.46994709460360273,
          "c": 2.060658966002458,
          "experiment": "good",
          "l": 0.5151515151515154,
          "lam": 0.22805212196134134,
          "y": 1
         },
         {
          "b": 0.489819412664288,
          "c": 2.0615947287498537,
          "experiment": "good",
          "l": 0.5353535353535355,
          "lam": 0.23759004609413803,
          "y": 1
         },
         {
          "b": 0.5096954622259868,
          "c": 2.062526759996236,
          "experiment": "good",
          "l": 0.5555555555555556,
          "lam": 0.24712186630060995,
          "y": 1
         },
         {
          "b": 0.5295750796228267,
          "c": 2.063455223407477,
          "experiment": "good",
          "l": 0.5757575757575759,
          "lam": 0.25664746770295355,
          "y": 1
         },
         {
          "b": 0.5494583448563335,
          "c": 2.0643800389820504,
          "experiment": "good",
          "l": 0.595959595959596,
          "lam": 0.26616679230626805,
          "y": 1
         },
         {
          "b": 0.5693453988448848,
          "c": 2.06530106580158,
          "experiment": "good",
          "l": 0.6161616161616164,
          "lam": 0.27567979633637923,
          "y": 1
         },
         {
          "b": 0.5892363825068564,
          "c": 2.0662181629476892,
          "experiment": "good",
          "l": 0.6363636363636365,
          "lam": 0.2851864360191121,
          "y": 1
         },
         {
          "b": 0.6091314367606253,
          "c": 2.0671311895020015,
          "experiment": "good",
          "l": 0.6565656565656568,
          "lam": 0.2946866675802924,
          "y": 1
         },
         {
          "b": 0.6290307025245676,
          "c": 2.06804000454614,
          "experiment": "good",
          "l": 0.6767676767676769,
          "lam": 0.304180447245745,
          "y": 1
         },
         {
          "b": 0.6489343207170603,
          "c": 2.0689444671617276,
          "experiment": "good",
          "l": 0.696969696969697,
          "lam": 0.3136677312412957,
          "y": 1
         },
         {
          "b": 0.66884243225648,
          "c": 2.0698444364303885,
          "experiment": "good",
          "l": 0.7171717171717173,
          "lam": 0.3231484757927699,
          "y": 1
         },
         {
          "b": 0.6887551780612027,
          "c": 2.0707397714337468,
          "experiment": "good",
          "l": 0.7373737373737375,
          "lam": 0.3326226371259927,
          "y": 1
         },
         {
          "b": 0.7086726990496058,
          "c": 2.0716303312534246,
          "experiment": "good",
          "l": 0.7575757575757578,
          "lam": 0.34209017146678977,
          "y": 1
         },
         {
          "b": 0.7285951361400651,
          "c": 2.0725159749710462,
          "experiment": "good",
          "l": 0.7777777777777779,
          "lam": 0.3515510350409861,
          "y": 1
         },
         {
          "b": 0.74852253014304,
          "c": 2.073396661776152,
          "experiment": "good",
          "l": 0.7979797979797982,
          "lam": 0.36100529310556967,
          "y": 1
         },
         {
          "b": 0.768454521437318,
          "c": 2.074272751289955,
          "experiment": "good",
          "l": 0.8181818181818183,
          "lam": 0.3704534470421758,
          "y": 1
         },
         {
          "b": 0.788390650293768,
          "c": 2.0751447032415857,
          "experiment": "good",
          "l": 0.8383838383838385,
          "lam": 0.37989610726360223,
          "y": 1
         },
         {
          "b": 0.8083304569832606,
          "c": 2.0760129773601737,
          "experiment": "good",
          "l": 0.8585858585858588,
          "lam": 0.38933388418264675,
          "y": 1
         },
         {
          "b": 0.8282734817766647,
          "c": 2.0768780333748507,
          "experiment": "good",
          "l": 0.8787878787878789,
          "lam": 0.39876738821210705,
          "y": 1
         },
         {
          "b": 0.8482192649448511,
          "c": 2.077740331014745,
          "experiment": "good",
          "l": 0.8989898989898992,
          "lam": 0.4081972297647811,
          "y": 1
         },
         {
          "b": 0.8681673467586886,
          "c": 2.0786003300089884,
          "experiment": "good",
          "l": 0.9191919191919193,
          "lam": 0.4176240192534663,
          "y": 1
         },
         {
          "b": 0.8881172674890472,
          "c": 2.0794584900867106,
          "experiment": "good",
          "l": 0.9393939393939394,
          "lam": 0.4270483670909605,
          "y": 1
         },
         {
          "b": 0.9080685674067969,
          "c": 2.080315270977042,
          "experiment": "good",
          "l": 0.9595959595959598,
          "lam": 0.43647088369006176,
          "y": 1
         },
         {
          "b": 0.9280207867828072,
          "c": 2.0811711324091124,
          "experiment": "good",
          "l": 0.9797979797979799,
          "lam": 0.4458921794635675,
          "y": 1
         },
         {
          "b": 0.9479734658879474,
          "c": 2.0820265341120527,
          "experiment": "good",
          "l": 1,
          "lam": 0.45531286482427535,
          "y": 1
         }
        ]
       },
       "hconcat": [
        {
         "layer": [
          {
           "data": {
            "name": "data-1c127afe96680b91933efa80a9111443"
           },
           "encoding": {
            "x": {
             "field": "l",
             "type": "quantitative"
            },
            "y": {
             "aggregate": "min",
             "field": "minc",
             "type": "quantitative"
            }
           },
           "mark": {
            "color": "grey",
            "type": "line"
           },
           "transform": [
            {
             "as": "minc",
             "calculate": "-0.2*datum.c"
            }
           ]
          },
          {
           "data": {
            "name": "data-1c127afe96680b91933efa80a9111443"
           },
           "encoding": {
            "x": {
             "field": "l",
             "type": "quantitative"
            },
            "y": {
             "field": "l",
             "type": "quantitative"
            }
           },
           "mark": {
            "color": "grey",
            "type": "line"
           }
          },
          {
           "data": {
            "name": "data-1c127afe96680b91933efa80a9111443"
           },
           "encoding": {
            "color": {
             "field": "experiment",
             "type": "nominal"
            },
            "x": {
             "field": "l",
             "type": "quantitative"
            },
            "y": {
             "field": "b",
             "type": "quantitative"
            }
           },
           "mark": "line",
           "selection": {
            "selector018": {
             "bind": "scales",
             "encodings": [
              "x",
              "y"
             ],
             "mark": {
              "fill": "#333",
              "fillOpacity": 0.125,
              "stroke": "white"
             },
             "on": "[mousedown, window:mouseup] > window:mousemove!",
             "resolve": "global",
             "translate": "[mousedown, window:mouseup] > window:mousemove!",
             "type": "interval",
             "zoom": "wheel!"
            }
           }
          }
         ]
        },
        {
         "data": {
          "name": "data-1c127afe96680b91933efa80a9111443"
         },
         "encoding": {
          "color": {
           "field": "experiment",
           "type": "nominal"
          },
          "x": {
           "field": "l",
           "type": "quantitative"
          },
          "y": {
           "field": "c",
           "type": "quantitative"
          }
         },
         "mark": "line"
        }
       ]
      },
      "image/png": "[encoded data removed]",
      "text/plain": [
       "<VegaLite 2 object>\n",
       "\n",
       "If you see this message, it means the renderer has not been properly enabled\n",
       "for the frontend that you are using. For more information, see\n",
       "https://altair-viz.github.io/user_guide/troubleshooting.html\n"
      ]
     },
     "execution_count": 208,
     "metadata": {},
     "output_type": "execute_result"
    }
   ],
   "source": [
    "# then we can play\n",
    "base = alt.Chart(df).mark_line()\n",
    "ch1 = base.encode(x='l', y='b', color='experiment').interactive()\n",
    "ch1_min = base.mark_line(color='grey').transform_calculate(minc=f'{lam_inf}*datum.c').encode(x='l',y=alt.Y('minc:Q', aggregate='min'))\n",
    "ch1_max = base.mark_line(color='grey').encode(x='l',y='l')\n",
    "ch2 = base.encode(x='l', y='c', color='experiment')\n",
    "\n",
    "(ch1_min+ch1_max+ch1|ch2)"
   ]
  },
  {
   "cell_type": "markdown",
   "metadata": {},
   "source": [
    "## stochastic simulations"
   ]
  },
  {
   "cell_type": "code",
   "execution_count": 78,
   "metadata": {
    "collapsed": false
   },
   "outputs": [
    {
     "data": {
      "text/plain": [
       "<xarray.DataArray (T: 100, N: 1, V: 5)>\n",
       "array([[[ 1.      ,  0.5     , ...,  0.220895,  2.059955]],\n",
       "\n",
       "       [[ 0.97    ,  0.455045, ...,  0.185854,  2.056478]],\n",
       "\n",
       "       ...,\n",
       "\n",
       "       [[ 0.97    , -0.332575, ..., -0.175531,  1.973936]],\n",
       "\n",
       "       [[ 0.97    , -0.346488, ..., -0.179044,  1.964891]]])\n",
       "Coordinates:\n",
       "  * T        (T) int64 0 1 2 3 4 5 6 7 8 9 10 11 12 13 14 15 16 17 18 19 20 ...\n",
       "  * N        (N) int64 0\n",
       "  * V        (V) <U3 'y' 'l' 'b' 'lam' 'c'"
      ]
     },
     "execution_count": 78,
     "metadata": {},
     "output_type": "execute_result"
    }
   ],
   "source": [
    "i_0 = 1 # we start from the good state\n",
    "sim = simulate(model, mdr, i0=i_0, s0=np.array([0.5]), N=1, T=100) # markov_indices=markov_indices)\n",
    "sim # result is an xarray object"
   ]
  },
  {
   "cell_type": "code",
   "execution_count": 79,
   "metadata": {
    "collapsed": false
   },
   "outputs": [
    {
     "data": {
      "text/plain": [
       "[<matplotlib.lines.Line2D at 0x7ff4eb5e7c50>]"
      ]
     },
     "execution_count": 79,
     "metadata": {},
     "output_type": "execute_result"
    },
    {
     "data": {
      "image/png": "[encoded data removed]",
      "text/plain": [
       "<Figure size 720x432 with 2 Axes>"
      ]
     },
     "metadata": {},
     "output_type": "display_data"
    }
   ],
   "source": [
    "plt.subplot(211)\n",
    "plt.plot(sim.sel(V='y'))\n",
    "plt.subplot(212)\n",
    "plt.plot(sim.sel(V='b'))"
   ]
  },
  {
   "cell_type": "markdown",
   "metadata": {},
   "source": [
    "## Sensitivity analysis\n",
    "\n",
    "Here we want to compare the saving behaviour as a function of risk aversion $\\sigma$.\n",
    "We contrast the baseline $\\sigma=2$ with the high aversion scenario $\\sigma=16$."
   ]
  },
  {
   "cell_type": "code",
   "execution_count": 80,
   "metadata": {
    "collapsed": false
   },
   "outputs": [
    {
     "name": "stdout",
     "output_type": "stream",
     "text": [
      "Solving WITH complementarities.\n",
      "------------------------------------------------\n",
      "| N   |  Error     | Gain     | Time     | nit |\n",
      "------------------------------------------------\n",
      "|   1 |  5.133e-01 |      nan |    0.036 |  10 |\n",
      "|   2 |  1.703e-01 |    0.332 |    0.021 |   8 |\n",
      "|   3 |  8.433e-02 |    0.495 |    0.014 |   6 |\n",
      "|   4 |  5.005e-02 |    0.594 |    0.014 |   6 |\n",
      "|   5 |  3.290e-02 |    0.657 |    0.014 |   6 |\n",
      "|   6 |  2.315e-02 |    0.704 |    0.014 |   6 |\n",
      "|   7 |  1.705e-02 |    0.737 |    0.014 |   6 |\n",
      "|   8 |  1.298e-02 |    0.761 |    0.012 |   5 |\n",
      "|   9 |  1.013e-02 |    0.780 |    0.012 |   5 |\n",
      "|  10 |  8.050e-03 |    0.795 |    0.012 |   5 |\n",
      "|  11 |  6.493e-03 |    0.807 |    0.011 |   5 |\n",
      "|  12 |  5.297e-03 |    0.816 |    0.011 |   5 |\n"
     ]
    },
    {
     "name": "stderr",
     "output_type": "stream",
     "text": [
      "\u001b[33mUserWarning\u001b[0m:/home/pablo/Mobilhome/econforge/dolo/dolo/numeric/optimize/newton.py:150\n",
      "    Did not converge\n"
     ]
    },
    {
     "name": "stdout",
     "output_type": "stream",
     "text": [
      "|  13 |  4.359e-03 |    0.823 |    0.014 |   4 |\n",
      "|  14 |  3.770e-03 |    0.865 |    0.044 |   4 |\n",
      "|  15 |  3.917e-03 |    1.039 |    0.015 |   4 |\n",
      "|  16 |  4.054e-03 |    1.035 |    0.010 |   4 |\n",
      "|  17 |  4.072e-03 |    1.004 |    0.010 |   4 |\n",
      "|  18 |  3.947e-03 |    0.969 |    0.013 |   4 |\n",
      "|  19 |  3.675e-03 |    0.931 |    0.010 |   4 |\n",
      "|  20 |  3.269e-03 |    0.890 |    0.008 |   3 |\n",
      "|  21 |  2.861e-03 |    0.875 |    0.007 |   3 |\n",
      "|  22 |  3.028e-03 |    1.058 |    0.007 |   3 |\n",
      "|  23 |  3.084e-03 |    1.018 |    0.007 |   3 |\n",
      "|  24 |  3.088e-03 |    1.001 |    0.007 |   3 |\n",
      "|  25 |  2.973e-03 |    0.963 |    0.007 |   3 |\n",
      "|  26 |  2.690e-03 |    0.905 |    0.007 |   3 |\n",
      "|  27 |  2.469e-03 |    0.918 |    0.007 |   3 |\n",
      "|  28 |  2.592e-03 |    1.050 |    0.007 |   3 |\n",
      "|  29 |  2.585e-03 |    0.997 |    0.007 |   3 |\n",
      "|  30 |  2.505e-03 |    0.969 |    0.007 |   3 |\n",
      "|  31 |  2.252e-03 |    0.899 |    0.007 |   3 |\n",
      "|  32 |  2.174e-03 |    0.965 |    0.007 |   3 |\n",
      "|  33 |  2.234e-03 |    1.028 |    0.015 |   3 |\n",
      "|  34 |  2.196e-03 |    0.983 |    0.008 |   3 |\n",
      "|  35 |  2.030e-03 |    0.924 |    0.009 |   3 |\n",
      "|  36 |  1.833e-03 |    0.903 |    0.007 |   3 |\n",
      "|  37 |  1.893e-03 |    1.032 |    0.008 |   3 |\n",
      "|  38 |  1.847e-03 |    0.976 |    0.008 |   3 |\n",
      "|  39 |  1.699e-03 |    0.920 |    0.007 |   3 |\n",
      "|  40 |  1.614e-03 |    0.950 |    0.007 |   3 |\n",
      "|  41 |  1.575e-03 |    0.976 |    0.007 |   3 |\n",
      "|  42 |  1.466e-03 |    0.931 |    0.007 |   3 |\n",
      "|  43 |  1.255e-03 |    0.856 |    0.007 |   3 |\n",
      "|  44 |  9.810e-04 |    0.781 |    0.005 |   2 |\n",
      "|  45 |  6.903e-04 |    0.704 |    0.005 |   2 |\n",
      "|  46 |  4.233e-04 |    0.613 |    0.005 |   2 |\n",
      "|  47 |  2.052e-04 |    0.485 |    0.005 |   2 |\n",
      "|  48 |  1.959e-04 |    0.955 |    0.005 |   2 |\n",
      "|  49 |  1.641e-04 |    0.838 |    0.005 |   2 |\n",
      "|  50 |  1.233e-04 |    0.751 |    0.005 |   2 |\n",
      "|  51 |  1.236e-04 |    1.002 |    0.005 |   2 |\n",
      "|  52 |  1.088e-04 |    0.880 |    0.005 |   2 |\n",
      "|  53 |  8.405e-05 |    0.773 |    0.005 |   2 |\n",
      "|  54 |  5.452e-05 |    0.649 |    0.005 |   2 |\n",
      "|  55 |  3.427e-05 |    0.629 |    0.005 |   2 |\n",
      "|  56 |  3.296e-05 |    0.962 |    0.005 |   2 |\n",
      "|  57 |  2.793e-05 |    0.847 |    0.005 |   2 |\n",
      "|  58 |  2.201e-05 |    0.788 |    0.005 |   2 |\n",
      "|  59 |  2.172e-05 |    0.987 |    0.005 |   2 |\n",
      "|  60 |  1.889e-05 |    0.869 |    0.005 |   2 |\n",
      "|  61 |  1.407e-05 |    0.745 |    0.005 |   2 |\n",
      "|  62 |  8.404e-06 |    0.597 |    0.003 |   1 |\n",
      "|  63 |  7.505e-06 |    0.893 |    0.003 |   1 |\n",
      "|  64 |  6.914e-06 |    0.921 |    0.003 |   1 |\n",
      "|  65 |  5.351e-06 |    0.774 |    0.012 |   1 |\n",
      "|  66 |  5.067e-06 |    0.947 |    0.003 |   1 |\n",
      "|  67 |  4.602e-06 |    0.908 |    0.003 |   1 |\n",
      "|  68 |  3.667e-06 |    0.797 |    0.003 |   1 |\n",
      "|  69 |  2.667e-06 |    0.727 |    0.005 |   1 |\n",
      "|  70 |  2.749e-06 |    1.031 |    0.004 |   1 |\n",
      "|  71 |  2.663e-06 |    0.969 |    0.003 |   1 |\n",
      "|  72 |  2.344e-06 |    0.880 |    0.003 |   1 |\n",
      "|  73 |  1.979e-06 |    0.844 |    0.003 |   1 |\n",
      "|  74 |  1.942e-06 |    0.981 |    0.003 |   1 |\n",
      "|  75 |  1.718e-06 |    0.885 |    0.003 |   1 |\n",
      "|  76 |  1.325e-06 |    0.772 |    0.003 |   1 |\n",
      "|  77 |  9.115e-07 |    0.688 |    0.003 |   1 |\n",
      "------------------------------------------------\n",
      "Elapsed: 0.6573052406311035 seconds.\n",
      "------------------------------------------------\n"
     ]
    }
   ],
   "source": [
    "# we solve the model with sigma=16\n",
    "model.set_calibration(sigma=16.0)\n",
    "mdr_high_gamma = time_iteration(model, verbose=True)"
   ]
  },
  {
   "cell_type": "code",
   "execution_count": 81,
   "metadata": {},
   "outputs": [],
   "source": [
    "# now we compare the decision rules with low and high risk aversion"
   ]
  },
  {
   "cell_type": "code",
   "execution_count": 82,
   "metadata": {
    "collapsed": false
   },
   "outputs": [],
   "source": [
    "tab0 = tabulate(model, mdr, 'l', i0=0)\n",
    "tab1 = tabulate(model, mdr, 'l', i0=1)\n",
    "tab0_hg = tabulate(model, mdr_high_gamma, 'l', i0=0)\n",
    "tab1_hg = tabulate(model, mdr_high_gamma, 'l', i0=1)"
   ]
  },
  {
   "cell_type": "code",
   "execution_count": 83,
   "metadata": {},
   "outputs": [
    {
     "data": {
      "image/png": "[encoded data removed]",
      "text/plain": [
       "<Figure size 720x432 with 1 Axes>"
      ]
     },
     "metadata": {},
     "output_type": "display_data"
    }
   ],
   "source": [
    "plt.plot(tab0['l'], tab0['b'], label='$b_t$ (bad)' )\n",
    "plt.plot(tab0['l'], tab1['b'],  label='$b_t$ (good)' )\n",
    "\n",
    "plt.plot(tab0['l'], tab0_hg['b'], label='$b_t$ (bad) [high gamma]' )\n",
    "plt.plot(tab0['l'], tab1_hg['b'], label='$b_t$ (good) [high gamma]' )\n",
    "plot(tab0['l'], tab0['l'], linestyle='--', color='black', label='')\n",
    "plot(tab0['l'], -0.2*tab0['c'], linestyle='--', color='black', label='')\n",
    "legend(loc= 'upper left')\n",
    "plt.grid()"
   ]
  }
 ],
 "metadata": {
  "kernelspec": {
   "display_name": "Python 3",
   "language": "python",
   "name": "python3"
  },
  "language_info": {
   "codemirror_mode": {
    "name": "ipython",
    "version": 3
   },
   "file_extension": ".py",
   "mimetype": "text/x-python",
   "name": "python",
   "nbconvert_exporter": "python",
   "pygments_lexer": "ipython3",
   "version": "3.6.8"
  }
 },
 "nbformat": 4,
 "nbformat_minor": 2
}
