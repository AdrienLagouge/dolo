{
 "cells": [
  {
   "cell_type": "code",
   "execution_count": 1,
   "metadata": {},
   "outputs": [],
   "source": [
    "import numpy as np\n",
    "from matplotlib import pyplot as plt"
   ]
  },
  {
   "cell_type": "markdown",
   "metadata": {},
   "source": [
    "# Solving the rbc model\n",
    "\n",
    "This worksheet demonstrates how to solve the RBC model with the [dolo](http://econforge.github.io/dolo/) library \n",
    "and how to generates impulse responses and stochastic simulations from the solution.\n",
    "\n",
    "- This notebook is distributed with dolo in : ``examples\\notebooks\\``. The notebook was opened and run from that directory.\n",
    "- The model file is in : ``examples\\global_models\\``\n",
    "\n",
    "First we import the dolo library."
   ]
  },
  {
   "cell_type": "code",
   "execution_count": 2,
   "metadata": {},
   "outputs": [],
   "source": [
    "from dolo import *"
   ]
  },
  {
   "cell_type": "markdown",
   "metadata": {
    "run_control": {
     "breakpoint": false
    }
   },
   "source": [
    "The RBC model is defined in a [YAML](http://www.yaml.org/spec/1.2/spec.html#Introduction) file which we can read locally or pull off the web."
   ]
  },
  {
   "cell_type": "code",
   "execution_count": 3,
   "metadata": {
    "run_control": {
     "breakpoint": false
    }
   },
   "outputs": [
    {
     "name": "stdout",
     "output_type": "stream",
     "text": [
      "name: Real Business Cycle\n",
      "\n",
      "symbols:\n",
      "\n",
      "   exogenous: [e_z]\n",
      "   states: [z, k]\n",
      "   controls: [n, i]\n",
      "   expectations: [m]\n",
      "   values: [V]\n",
      "   parameters: [beta, sigma, eta, chi, delta, alpha, rho, zbar, sig_z]\n",
      "   rewards: [u]\n",
      "\n",
      "definitions:\n",
      "    y: exp(z)*k^alpha*n^(1-alpha)\n",
      "    c: y - i\n",
      "    rk: alpha*y/k\n",
      "    w: (1-alpha)*y/n\n",
      "\n",
      "equations:\n",
      "\n",
      "    arbitrage:\n",
      "        - chi*n^eta*c^sigma - w                     | 0.0 <= n <= inf\n",
      "        - 1 - beta*(c/c(1))^(sigma)*(1-delta+rk(1))  | 0.0 <= i <= inf\n",
      "\n",
      "\n",
      "    transition:\n",
      "        - z = rho*z(-1) + e_z\n",
      "        - k = (1-delta)*k(-1) + i(-1)\n",
      "\n",
      "    value:\n",
      "        - V = c^(1-sigma)/(1-sigma) - chi*n^(1+eta)/(1+eta) + beta*V(1)\n",
      "\n",
      "    felicity:\n",
      "        - u =  c^(1-sigma)/(1-sigma) - chi*n^(1+eta)/(1+eta)\n",
      "\n",
      "    expectation:\n",
      "        - m = beta/c(1)^sigma*(1-delta+rk(1))\n",
      "\n",
      "    direct_response:\n",
      "        - n = ((1-alpha)*exp(z)*k^alpha*m/chi)^(1/(eta+alpha))\n",
      "        - i = exp(z)*k^alpha*n^(1-alpha) - (m)^(-1/sigma)\n",
      "\n",
      "calibration:\n",
      "\n",
      "    # parameters\n",
      "    beta : 0.99\n",
      "    phi: 1\n",
      "    delta : 0.025\n",
      "    alpha : 0.33\n",
      "    rho : 0.8\n",
      "    sigma: 5\n",
      "    eta: 1\n",
      "    sig_z: 0.016\n",
      "    zbar: 0\n",
      "    chi : w/c^sigma/n^eta\n",
      "    c_i: 1.5\n",
      "    c_y: 0.5\n",
      "    e_z: 0.0\n",
      "\n",
      "    # endogenous variables\n",
      "    n: 0.33\n",
      "    z: zbar\n",
      "    rk: 1/beta-1+delta\n",
      "    w: (1-alpha)*exp(z)*(k/n)^(alpha)\n",
      "    k: n/(rk/alpha)^(1/(1-alpha))\n",
      "    y: exp(z)*k^alpha*n^(1-alpha)\n",
      "    i: delta*k\n",
      "    c: y - i\n",
      "    V: log(c)/(1-beta)\n",
      "    u: c^(1-sigma)/(1-sigma) - chi*n^(1+eta)/(1+eta)\n",
      "    m: beta/c^sigma*(1-delta+rk)\n",
      "\n",
      "exogenous: !Normal\n",
      "    Sigma: [[sig_z**2]]\n",
      "\n",
      "domain:\n",
      "    z: [-2*sig_z/(1-rho^2)^0.5,  2*sig_z/(1-rho^2)^0.5]\n",
      "    k: [ k*0.5, k*1.5]\n",
      "\n",
      "options:\n",
      "    grid: !Cartesian\n",
      "        n: [20, 20]\n",
      "# options:\n",
      "#     grid: !Smolyak\n",
      "#         mu: 3\n",
      "#         # orders: [5, 50]\n"
     ]
    }
   ],
   "source": [
    "# filename = ('https://raw.githubusercontent.com/EconForge/dolo'\n",
    "#             '/master/examples/models/compat/rbc.yaml')\n",
    "\n",
    "filename='../models/rbc.yaml'\n",
    "\n",
    "%cat $filename"
   ]
  },
  {
   "cell_type": "markdown",
   "metadata": {
    "run_control": {
     "breakpoint": false
    }
   },
   "source": [
    "`yaml_import(filename)` reads the YAML file and generates a model object. "
   ]
  },
  {
   "cell_type": "code",
   "execution_count": 4,
   "metadata": {},
   "outputs": [],
   "source": [
    "model = yaml_import(filename)"
   ]
  },
  {
   "cell_type": "markdown",
   "metadata": {
    "run_control": {
     "breakpoint": false
    }
   },
   "source": [
    "The model file already has values for steady-state variables stated in the calibration section so we can go ahead and check that they are correct by computing the model equations at the steady state."
   ]
  },
  {
   "cell_type": "code",
   "execution_count": 5,
   "metadata": {},
   "outputs": [
    {
     "data": {
      "text/plain": [
       "{'transition': array([0., 0.]),\n",
       " 'arbitrage': array([-4.4408921e-16,  0.0000000e+00])}"
      ]
     },
     "execution_count": 5,
     "metadata": {},
     "output_type": "execute_result"
    }
   ],
   "source": [
    "model.residuals()"
   ]
  },
  {
   "cell_type": "markdown",
   "metadata": {
    "run_control": {
     "breakpoint": false
    }
   },
   "source": [
    "Printing the model also lets us have a look at all the model equations and check that all residual errors are 0 at the steady-state, but with less display prescision."
   ]
  },
  {
   "cell_type": "code",
   "execution_count": 6,
   "metadata": {},
   "outputs": [
    {
     "name": "stdout",
     "output_type": "stream",
     "text": [
      "\n",
      "        Model:\n",
      "        ------\n",
      "        name: \"Real Business Cycle\"\n",
      "        type: \"dtcc\"\n",
      "        file: \"../models/rbc.yaml\n",
      "\n",
      "Equations:\n",
      "----------\n",
      "\n",
      "transition\n",
      " 1  : 0.0000 : z(0) == (rho) * (z(-(1))) + e_z(0)\n",
      " 2  : 0.0000 : k(0) == ((1) - (delta)) * (k(-(1))) + i(-(1))\n",
      "\n",
      "arbitrage\n",
      " 1  : 0.0000 : (((chi) * ((n(0)) ** (eta))) * ((c(0)) ** (sigma))) - (w(0))\n",
      " 2  : 0.0000 : (1) - (((beta) * (((c(0)) / (c(1))) ** (sigma))) * ((1) - (delta) + rk(1)))\n",
      "\n",
      "definitions\n",
      " 1  : y = exp(z)*k**alpha*n**(1-alpha)\n",
      " 2  : c = y - i\n",
      " 3  : rk = alpha*y/k\n",
      " 4  : w = (1-alpha)*y/n\n",
      "\n",
      "\n"
     ]
    }
   ],
   "source": [
    "print( model ) "
   ]
  },
  {
   "cell_type": "markdown",
   "metadata": {
    "run_control": {
     "breakpoint": false
    }
   },
   "source": [
    "Next we compute a solution to the model using a first order perturbation method (see the source for the [approximate_controls](https://github.com/EconForge/dolo/blob/master/dolo/algos/perturbation.py) function). The result is a decsion rule object. By decision rule we refer to any object that is callable and maps states to decisions. This particular decision rule object is a TaylorExpansion (see the source for the [TaylorExpansion](https://github.com/EconForge/dolo/blob/master/dolo/numeric/taylor_expansion.py)  class)."
   ]
  },
  {
   "cell_type": "code",
   "execution_count": 8,
   "metadata": {
    "run_control": {
     "breakpoint": false
    }
   },
   "outputs": [],
   "source": [
    "dr_pert = perturb(model)"
   ]
  },
  {
   "cell_type": "markdown",
   "metadata": {},
   "source": [
    "We now compute the global solution (see the source for the [time_iteration](https://github.com/EconForge/dolo/blob/master/dolo/algos/time_iteration.py) function). It returns a decision rule object of type SmolyakGrid (see the source for the [SmolyakGrid](https://github.com/EconForge/dolo/blob/master/dolo/numeric/interpolation/smolyak.py) class)."
   ]
  },
  {
   "cell_type": "code",
   "execution_count": 9,
   "metadata": {},
   "outputs": [
    {
     "name": "stdout",
     "output_type": "stream",
     "text": [
      "Solving WITH complementarities.\n",
      "------------------------------------------------\n",
      "| N   |  Error     | Gain     | Time     | nit |\n",
      "------------------------------------------------\n",
      "|   1 |  6.178e-01 |      nan |    1.744 |   8 |\n",
      "|   2 |  1.571e-01 |    0.254 |    0.052 |   5 |\n",
      "|   3 |  1.019e-01 |    0.649 |    0.053 |   5 |\n",
      "|   4 |  7.094e-02 |    0.696 |    0.042 |   4 |\n",
      "|   5 |  5.213e-02 |    0.735 |    0.044 |   4 |\n",
      "|   6 |  3.972e-02 |    0.762 |    0.050 |   4 |\n",
      "|   7 |  3.108e-02 |    0.783 |    0.043 |   4 |\n",
      "|   8 |  2.484e-02 |    0.799 |    0.044 |   4 |\n",
      "|   9 |  2.019e-02 |    0.813 |    0.043 |   4 |\n",
      "|  10 |  1.664e-02 |    0.824 |    0.044 |   4 |\n",
      "|  11 |  1.387e-02 |    0.834 |    0.035 |   3 |\n",
      "|  12 |  1.169e-02 |    0.842 |    0.035 |   3 |\n",
      "|  13 |  9.931e-03 |    0.850 |    0.034 |   3 |\n",
      "|  14 |  8.692e-03 |    0.875 |    0.033 |   3 |\n",
      "|  15 |  7.784e-03 |    0.896 |    0.032 |   3 |\n",
      "|  16 |  6.989e-03 |    0.898 |    0.033 |   3 |\n",
      "|  17 |  6.293e-03 |    0.900 |    0.033 |   3 |\n",
      "|  18 |  5.682e-03 |    0.903 |    0.036 |   3 |\n",
      "|  19 |  5.144e-03 |    0.905 |    0.035 |   3 |\n",
      "|  20 |  4.669e-03 |    0.908 |    0.031 |   3 |\n",
      "|  21 |  4.247e-03 |    0.910 |    0.033 |   3 |\n",
      "|  22 |  3.870e-03 |    0.911 |    0.031 |   3 |\n",
      "|  23 |  3.534e-03 |    0.913 |    0.032 |   3 |\n",
      "|  24 |  3.231e-03 |    0.914 |    0.040 |   3 |\n",
      "|  25 |  2.958e-03 |    0.916 |    0.032 |   3 |\n",
      "|  26 |  2.711e-03 |    0.917 |    0.034 |   3 |\n",
      "|  27 |  2.488e-03 |    0.918 |    0.033 |   3 |\n",
      "|  28 |  2.285e-03 |    0.918 |    0.024 |   2 |\n",
      "|  29 |  2.100e-03 |    0.919 |    0.028 |   2 |\n",
      "|  30 |  1.931e-03 |    0.920 |    0.023 |   2 |\n",
      "|  31 |  1.777e-03 |    0.920 |    0.022 |   2 |\n",
      "|  32 |  1.636e-03 |    0.921 |    0.029 |   2 |\n",
      "|  33 |  1.507e-03 |    0.921 |    0.023 |   2 |\n",
      "|  34 |  1.388e-03 |    0.921 |    0.023 |   2 |\n",
      "|  35 |  1.280e-03 |    0.922 |    0.024 |   2 |\n",
      "|  36 |  1.180e-03 |    0.922 |    0.031 |   2 |\n",
      "|  37 |  1.088e-03 |    0.922 |    0.031 |   2 |\n",
      "|  38 |  1.003e-03 |    0.922 |    0.023 |   2 |\n",
      "|  39 |  9.249e-04 |    0.922 |    0.026 |   2 |\n",
      "|  40 |  8.531e-04 |    0.922 |    0.030 |   2 |\n",
      "|  41 |  7.868e-04 |    0.922 |    0.026 |   2 |\n",
      "|  42 |  7.257e-04 |    0.922 |    0.023 |   2 |\n",
      "|  43 |  6.694e-04 |    0.922 |    0.022 |   2 |\n",
      "|  44 |  6.174e-04 |    0.922 |    0.025 |   2 |\n",
      "|  45 |  5.693e-04 |    0.922 |    0.023 |   2 |\n",
      "|  46 |  5.250e-04 |    0.922 |    0.022 |   2 |\n",
      "|  47 |  4.841e-04 |    0.922 |    0.022 |   2 |\n",
      "|  48 |  4.463e-04 |    0.922 |    0.021 |   2 |\n",
      "|  49 |  4.114e-04 |    0.922 |    0.033 |   2 |\n",
      "|  50 |  3.792e-04 |    0.922 |    0.025 |   2 |\n",
      "|  51 |  3.494e-04 |    0.922 |    0.021 |   2 |\n",
      "|  52 |  3.219e-04 |    0.921 |    0.023 |   2 |\n",
      "|  53 |  2.966e-04 |    0.921 |    0.026 |   2 |\n",
      "|  54 |  2.731e-04 |    0.921 |    0.024 |   2 |\n",
      "|  55 |  2.515e-04 |    0.921 |    0.025 |   2 |\n",
      "|  56 |  2.315e-04 |    0.920 |    0.022 |   2 |\n",
      "|  57 |  2.130e-04 |    0.920 |    0.022 |   2 |\n",
      "|  58 |  1.959e-04 |    0.920 |    0.030 |   2 |\n",
      "|  59 |  1.802e-04 |    0.920 |    0.024 |   2 |\n",
      "|  60 |  1.657e-04 |    0.919 |    0.025 |   2 |\n",
      "|  61 |  1.523e-04 |    0.919 |    0.022 |   2 |\n",
      "|  62 |  1.399e-04 |    0.919 |    0.024 |   2 |\n",
      "|  63 |  1.285e-04 |    0.918 |    0.026 |   2 |\n",
      "|  64 |  1.180e-04 |    0.918 |    0.021 |   2 |\n",
      "|  65 |  1.083e-04 |    0.918 |    0.029 |   2 |\n",
      "|  66 |  9.932e-05 |    0.917 |    0.035 |   2 |\n",
      "|  67 |  9.107e-05 |    0.917 |    0.027 |   2 |\n",
      "|  68 |  8.347e-05 |    0.917 |    0.024 |   2 |\n",
      "|  69 |  7.647e-05 |    0.916 |    0.026 |   2 |\n",
      "|  70 |  7.002e-05 |    0.916 |    0.023 |   2 |\n",
      "|  71 |  6.408e-05 |    0.915 |    0.024 |   2 |\n",
      "|  72 |  5.862e-05 |    0.915 |    0.024 |   2 |\n",
      "|  73 |  5.359e-05 |    0.914 |    0.022 |   2 |\n",
      "|  74 |  4.896e-05 |    0.914 |    0.022 |   2 |\n",
      "|  75 |  4.471e-05 |    0.913 |    0.031 |   2 |\n",
      "|  76 |  4.079e-05 |    0.912 |    0.016 |   1 |\n",
      "|  77 |  3.720e-05 |    0.912 |    0.016 |   1 |\n",
      "|  78 |  3.390e-05 |    0.911 |    0.028 |   1 |\n",
      "|  79 |  3.087e-05 |    0.911 |    0.018 |   1 |\n",
      "|  80 |  2.809e-05 |    0.910 |    0.027 |   1 |\n",
      "|  81 |  2.554e-05 |    0.909 |    0.013 |   1 |\n",
      "|  82 |  2.319e-05 |    0.908 |    0.017 |   1 |\n",
      "|  83 |  2.105e-05 |    0.907 |    0.014 |   1 |\n",
      "|  84 |  1.908e-05 |    0.907 |    0.016 |   1 |\n",
      "|  85 |  1.728e-05 |    0.906 |    0.015 |   1 |\n",
      "|  86 |  1.563e-05 |    0.904 |    0.014 |   1 |\n",
      "|  87 |  1.412e-05 |    0.903 |    0.021 |   1 |\n",
      "|  88 |  1.274e-05 |    0.902 |    0.023 |   1 |\n",
      "|  89 |  1.147e-05 |    0.901 |    0.025 |   1 |\n",
      "|  90 |  1.032e-05 |    0.899 |    0.015 |   1 |\n",
      "|  91 |  9.266e-06 |    0.898 |    0.015 |   1 |\n",
      "|  92 |  8.305e-06 |    0.896 |    0.013 |   1 |\n",
      "|  93 |  7.428e-06 |    0.894 |    0.014 |   1 |\n",
      "|  94 |  6.629e-06 |    0.892 |    0.016 |   1 |\n",
      "|  95 |  5.902e-06 |    0.890 |    0.013 |   1 |\n",
      "|  96 |  5.268e-06 |    0.893 |    0.015 |   1 |\n",
      "|  97 |  4.926e-06 |    0.935 |    0.014 |   1 |\n",
      "|  98 |  4.607e-06 |    0.935 |    0.014 |   1 |\n",
      "|  99 |  4.311e-06 |    0.936 |    0.015 |   1 |\n",
      "| 100 |  4.035e-06 |    0.936 |    0.016 |   1 |\n",
      "| 101 |  3.779e-06 |    0.936 |    0.018 |   1 |\n",
      "| 102 |  3.545e-06 |    0.938 |    0.016 |   1 |\n",
      "| 103 |  3.327e-06 |    0.939 |    0.014 |   1 |\n",
      "| 104 |  3.124e-06 |    0.939 |    0.016 |   1 |\n",
      "| 105 |  2.933e-06 |    0.939 |    0.014 |   1 |\n",
      "| 106 |  2.756e-06 |    0.940 |    0.013 |   1 |\n",
      "| 107 |  2.595e-06 |    0.941 |    0.017 |   1 |\n",
      "| 108 |  2.444e-06 |    0.942 |    0.014 |   1 |\n",
      "| 109 |  2.302e-06 |    0.942 |    0.014 |   1 |\n",
      "| 110 |  2.170e-06 |    0.942 |    0.013 |   1 |\n",
      "| 111 |  2.045e-06 |    0.943 |    0.013 |   1 |\n",
      "| 112 |  1.929e-06 |    0.943 |    0.018 |   1 |\n",
      "| 113 |  1.819e-06 |    0.943 |    0.015 |   1 |\n",
      "| 114 |  1.720e-06 |    0.945 |    0.019 |   1 |\n",
      "| 115 |  1.626e-06 |    0.946 |    0.017 |   1 |\n",
      "| 116 |  1.538e-06 |    0.946 |    0.013 |   1 |\n",
      "| 117 |  1.456e-06 |    0.946 |    0.014 |   1 |\n",
      "| 118 |  1.380e-06 |    0.948 |    0.013 |   1 |\n",
      "| 119 |  1.309e-06 |    0.948 |    0.014 |   1 |\n",
      "| 120 |  1.241e-06 |    0.948 |    0.015 |   1 |\n",
      "| 121 |  1.178e-06 |    0.949 |    0.015 |   1 |\n",
      "| 122 |  1.119e-06 |    0.950 |    0.014 |   1 |\n",
      "| 123 |  1.064e-06 |    0.951 |    0.015 |   1 |\n",
      "| 124 |  1.012e-06 |    0.951 |    0.014 |   1 |\n",
      "| 125 |  9.631e-07 |    0.952 |    0.013 |   1 |\n",
      "------------------------------------------------\n",
      "Elapsed: 4.7361907958984375 seconds.\n",
      "------------------------------------------------\n"
     ]
    }
   ],
   "source": [
    "dr_global = time_iteration(model)"
   ]
  },
  {
   "cell_type": "markdown",
   "metadata": {},
   "source": [
    "# Decision rule\n",
    "\n",
    "Here we plot optimal investment and labour for different levels of capital (see the source for the [plot_decision_rule](https://github.com/EconForge/dolo/blob/master/dolo/algos/simulations.py) function)."
   ]
  },
  {
   "cell_type": "code",
   "execution_count": 10,
   "metadata": {},
   "outputs": [],
   "source": [
    "tab_global = tabulate(model, dr_global, 'k')\n",
    "tab_pert = tabulate(model, dr_pert, 'k')"
   ]
  },
  {
   "cell_type": "code",
   "execution_count": 11,
   "metadata": {},
   "outputs": [
    {
     "data": {
      "image/png": "[encoded data removed]",
      "text/plain": [
       "<Figure size 576x252 with 2 Axes>"
      ]
     },
     "metadata": {
      "needs_background": "light"
     },
     "output_type": "display_data"
    }
   ],
   "source": [
    "from matplotlib import pyplot as plt\n",
    "\n",
    "plt.figure(figsize=(8,3.5))\n",
    "\n",
    "plt.subplot(121)\n",
    "plt.plot(tab_global['k'], tab_global['i'], label='Global')\n",
    "plt.plot(tab_pert['k'], tab_pert['i'], label='Perturbation')\n",
    "plt.ylabel('i')\n",
    "plt.title('Investment')\n",
    "plt.legend()\n",
    "\n",
    "plt.subplot(122)\n",
    "plt.plot(tab_global['k'], tab_global['n'], label='Global')\n",
    "plt.plot(tab_pert['k'], tab_pert['n'], label='Perturbation')\n",
    "plt.ylabel('n')\n",
    "plt.title('Labour')\n",
    "plt.legend()\n",
    "\n",
    "plt.tight_layout()"
   ]
  },
  {
   "cell_type": "markdown",
   "metadata": {},
   "source": [
    "It would seem, according to this, that second order perturbation does very well for the RBC model. We will revisit this issue more rigorously when we explore the deviations from the model's arbitrage section equations.\n",
    "\n",
    "Let us repeat the calculation of investment decisions for various values of the depreciation rate, $\\delta$. Note that this is a comparative statics exercise, even though the models compared are dynamic."
   ]
  },
  {
   "cell_type": "code",
   "execution_count": 13,
   "metadata": {},
   "outputs": [
    {
     "data": {
      "image/png": "[encoded data removed]",
      "text/plain": [
       "<Figure size 360x216 with 1 Axes>"
      ]
     },
     "metadata": {
      "needs_background": "light"
     },
     "output_type": "display_data"
    }
   ],
   "source": [
    "original_delta = model.calibration['delta'] \n",
    "\n",
    "drs = []\n",
    "delta_values = np.linspace(0.01, 0.04,5)\n",
    "for val in delta_values:\n",
    "    model.set_calibration(delta=val)\n",
    "    drs.append(perturb(model))\n",
    "\n",
    "    \n",
    "plt.figure(figsize=(5,3))\n",
    "\n",
    "for i,dr in enumerate(drs):\n",
    "    sim = tabulate(model, dr,'k')\n",
    "    plt.plot(sim['k'],sim['i'], label='$\\delta={}$'.format(delta_values[i]))\n",
    "plt.ylabel('i')\n",
    "plt.title('Investment')\n",
    "plt.legend(bbox_to_anchor=(1.05, 1), loc=2, borderaxespad=0.)\n",
    "\n",
    "model.set_calibration(delta=original_delta)"
   ]
  },
  {
   "cell_type": "markdown",
   "metadata": {
    "run_control": {
     "breakpoint": false
    }
   },
   "source": [
    "We find that more durable capital leads to higher steady state investment and slows the rate of convergence for capital (the slopes are roughly the same, which implies that relative to steady state capital investment responds stronger at higher $\\delta$; this is in addition to the direct effect of depreciation)."
   ]
  },
  {
   "cell_type": "markdown",
   "metadata": {},
   "source": [
    "# Use the model to simulate"
   ]
  },
  {
   "cell_type": "markdown",
   "metadata": {
    "run_control": {
     "breakpoint": false
    }
   },
   "source": [
    "We will use the deterministic steady-state as a starting point."
   ]
  },
  {
   "cell_type": "code",
   "execution_count": 14,
   "metadata": {
    "run_control": {
     "breakpoint": false
    }
   },
   "outputs": [
    {
     "name": "stdout",
     "output_type": "stream",
     "text": [
      "['z', 'k']=[ 0.         21.49753444]\n"
     ]
    }
   ],
   "source": [
    "s0 = model.calibration['states']\n",
    "print(str(model.symbols['states'])+'='+str(s0))"
   ]
  },
  {
   "cell_type": "markdown",
   "metadata": {
    "run_control": {
     "breakpoint": false
    }
   },
   "source": [
    "We also get the covariance matrix just in case. This is a one shock model so all we have is the variance of $e_z$."
   ]
  },
  {
   "cell_type": "code",
   "execution_count": 15,
   "metadata": {},
   "outputs": [
    {
     "data": {
      "text/plain": [
       "array([[0.000256]])"
      ]
     },
     "execution_count": 15,
     "metadata": {},
     "output_type": "execute_result"
    }
   ],
   "source": [
    "sigma2_ez = model.exogenous.Sigma\n",
    "sigma2_ez"
   ]
  },
  {
   "cell_type": "markdown",
   "metadata": {},
   "source": [
    "## Impulse response functions\n",
    "\n",
    "Consider a 10% shock to productivity."
   ]
  },
  {
   "cell_type": "code",
   "execution_count": 16,
   "metadata": {},
   "outputs": [
    {
     "name": "stdout",
     "output_type": "stream",
     "text": [
      "['z', 'k']=[ 0.         21.49753444]\n"
     ]
    }
   ],
   "source": [
    "s1 = s0.copy()\n",
    "s1[0] *= 1.1\n",
    "print(str(model.symbols['states'])+'='+str(s1))"
   ]
  },
  {
   "cell_type": "markdown",
   "metadata": {
    "run_control": {
     "breakpoint": false
    }
   },
   "source": [
    "The `simulate` function is used both to trace impulse response functions and to compute stochastic simulations. Choosing `n_exp>=1`, will result in that many \"stochastic\" simulations. With `n_exp = 0`, we get one single simulation without any stochastic shock (see the source for the [simulate](https://github.com/EconForge/dolo/blob/master/dolo/algos/simulations.py) function). \n",
    "The output is a panda table of size $H \\times n_v$ where $n_v$ is the number of variables in the model and $H$ the number of dates."
   ]
  },
  {
   "cell_type": "code",
   "execution_count": 17,
   "metadata": {},
   "outputs": [
    {
     "data": {
      "text/plain": [
       "<xarray.DataArray (T: 40, N: 10, V: 9)>\n",
       "array([[[-8.215569e-03,  0.000000e+00, ...,           nan,           nan],\n",
       "        [-3.052676e-02,  0.000000e+00, ...,           nan,           nan],\n",
       "        ...,\n",
       "        [ 5.492295e-03,  0.000000e+00, ...,           nan,           nan],\n",
       "        [-1.727065e-03,  0.000000e+00, ...,           nan,           nan]],\n",
       "\n",
       "       [[ 3.441022e-02, -8.215569e-03, ...,           nan,           nan],\n",
       "        [-2.093615e-02, -3.052676e-02, ...,           nan,           nan],\n",
       "        ...,\n",
       "        [-7.392879e-03,  5.492295e-03, ...,           nan,           nan],\n",
       "        [ 2.368904e-02, -1.727065e-03, ...,           nan,           nan]],\n",
       "\n",
       "       ...,\n",
       "\n",
       "       [[-1.266916e-02,  1.287402e-02, ...,  5.953791e-03,  4.934772e+00],\n",
       "        [ 2.485331e-02, -5.501611e-02, ...,  6.720710e-03,  4.200902e+00],\n",
       "        ...,\n",
       "        [-2.854673e-02, -4.841336e-02, ...,  6.531119e-03,  4.302724e+00],\n",
       "        [-1.180261e-02,  8.695070e-03, ...,  6.717241e-03,  4.621156e+00]],\n",
       "\n",
       "       [[ 2.503607e-03, -2.369939e-03, ...,  5.881041e-03,  4.853061e+00],\n",
       "        [-1.042596e-02, -1.915958e-02, ...,  7.586131e-03,  4.175176e+00],\n",
       "        ...,\n",
       "        [ 8.016865e-03, -6.727741e-02, ...,  6.498920e-03,  4.193465e+00],\n",
       "        [-4.248650e-03, -4.846552e-03, ...,  6.656005e-03,  4.549168e+00]]])\n",
       "Coordinates:\n",
       "  * T        (T) int64 0 1 2 3 4 5 6 7 8 9 10 ... 30 31 32 33 34 35 36 37 38 39\n",
       "  * N        (N) int64 0 1 2 3 4 5 6 7 8 9\n",
       "  * V        (V) <U3 'e_z' 'z' 'k' 'n' 'i' 'y' 'c' 'rk' 'w'"
      ]
     },
     "execution_count": 17,
     "metadata": {},
     "output_type": "execute_result"
    }
   ],
   "source": [
    "simulate(model, dr, N=10, T=40)"
   ]
  },
  {
   "cell_type": "code",
   "execution_count": 18,
   "metadata": {},
   "outputs": [],
   "source": [
    "from dolo.algos.simulations import response"
   ]
  },
  {
   "cell_type": "code",
   "execution_count": 19,
   "metadata": {},
   "outputs": [],
   "source": [
    "m0 = model.calibration[\"exogenous\"]"
   ]
  },
  {
   "cell_type": "code",
   "execution_count": 20,
   "metadata": {},
   "outputs": [],
   "source": [
    "s0 = model.calibration[\"states\"]"
   ]
  },
  {
   "cell_type": "code",
   "execution_count": 21,
   "metadata": {},
   "outputs": [
    {
     "data": {
      "text/plain": [
       "array([0.20526859, 0.1103993 ])"
      ]
     },
     "execution_count": 21,
     "metadata": {},
     "output_type": "execute_result"
    }
   ],
   "source": [
    "dr_global.eval_ms(m0, s0)"
   ]
  },
  {
   "cell_type": "code",
   "execution_count": 22,
   "metadata": {},
   "outputs": [],
   "source": [
    "irf = response(model,dr_global, 'e_z')\n"
   ]
  },
  {
   "cell_type": "markdown",
   "metadata": {
    "run_control": {
     "breakpoint": false
    }
   },
   "source": [
    "Let us plot the response of consumption and investment."
   ]
  },
  {
   "cell_type": "code",
   "execution_count": 23,
   "metadata": {},
   "outputs": [
    {
     "data": {
      "image/png": "[encoded data removed]",
      "text/plain": [
       "<Figure size 576x288 with 4 Axes>"
      ]
     },
     "metadata": {
      "needs_background": "light"
     },
     "output_type": "display_data"
    }
   ],
   "source": [
    "plt.figure(figsize=(8,4))\n",
    "plt.subplot(221)\n",
    "plt.plot(irf.sel(V='z'))\n",
    "plt.title('Productivity')\n",
    "plt.grid()\n",
    "plt.subplot(222)\n",
    "plt.plot(irf.sel(V='i'))\n",
    "plt.title('Investment')\n",
    "plt.grid()\n",
    "plt.subplot(223)\n",
    "plt.plot(irf.sel(V='n'))\n",
    "plt.grid()\n",
    "plt.title('Labour')\n",
    "plt.subplot(224)\n",
    "plt.plot(irf.sel(V='c'))\n",
    "plt.title('Consumption')\n",
    "plt.grid()\n",
    "plt.tight_layout()"
   ]
  },
  {
   "cell_type": "markdown",
   "metadata": {},
   "source": [
    "Note that the plotting is made using the wonderful [matplotlib](http://matplotlib.org/users/pyplot_tutorial.html) library. Read the online [tutorials](http://matplotlib.org/users/beginner.html) to learn how to customize the plots to your needs (e.g., using [latex](http://matplotlib.org/users/usetex.html) in annotations). If instead you would like to produce charts in Matlab, you can easily export the impulse response functions, or any other matrix, to a `.mat` file."
   ]
  },
  {
   "cell_type": "code",
   "execution_count": 24,
   "metadata": {},
   "outputs": [
    {
     "name": "stderr",
     "output_type": "stream",
     "text": [
      "\u001b[33mFutureWarning\u001b[0m:/opt/pablo/anaconda3/lib/python3.6/site-packages/altair/utils/core.py:294\n",
      "    A future version of pandas will default to `skipna=True`. To silence this warning, pass `skipna=True|False` explicitly.\n"
     ]
    },
    {
     "data": {
      "application/vnd.vegalite.v2+json": {
       "$schema": "https://vega.github.io/schema/vega-lite/v2.6.0.json",
       "config": {
        "view": {
         "height": 300,
         "width": 400
        }
       },
       "datasets": {
        "data-75732e9ef17ffb9f4ae7edc81e4321a1": [
         {
          "T": 0,
          "c": 0.8422747356706476,
          "e_z": 0,
          "i": 0.11039930202861871,
          "k": 21.49753444140151,
          "n": 0.20526858994876307,
          "rk": 0.014624115770006508,
          "w": 3.109543478706761,
          "y": 0.9526740376992663,
          "z": 0
         },
         {
          "T": 1,
          "c": 0.8427134496262819,
          "e_z": 0.016,
          "i": 0.11146248809214863,
          "k": 21.392958399016113,
          "n": 0.20624654783812896,
          "rk": 0.014718771175732464,
          "w": 3.0996779581159175,
          "y": 0.9541759377184306,
          "z": 0
         },
         {
          "T": 2,
          "c": 0.8427866813439518,
          "e_z": 0,
          "i": 0.13425870442216656,
          "k": 21.2904913031181,
          "n": 0.20911979788132457,
          "rk": 0.01514408346488455,
          "w": 3.130360755392448,
          "y": 0.9770453857661184,
          "z": 0.016
         },
         {
          "T": 3,
          "c": 0.843175290096964,
          "e_z": 0,
          "i": 0.130665160206569,
          "k": 21.211845094509084,
          "n": 0.2094745533657565,
          "rk": 0.015150372217424657,
          "w": 3.1148084157224845,
          "y": 0.973840450303533,
          "z": 0.0128
         },
         {
          "T": 4,
          "c": 0.8435424817256114,
          "e_z": 0,
          "i": 0.12799263272000233,
          "k": 21.13039180377056,
          "n": 0.20993138248193274,
          "rk": 0.015172770611373268,
          "w": 3.1006727959531335,
          "y": 0.9715351144456137,
          "z": 0.01024
         },
         {
          "T": 5,
          "c": 0.8438882435386519,
          "e_z": 0,
          "i": 0.12604823499763512,
          "k": 21.047080518452855,
          "n": 0.21046624120235802,
          "rk": 0.015207764213965356,
          "w": 3.0877039325014155,
          "y": 0.9699364785362871,
          "z": 0.008192000000000001
         },
         {
          "T": 6,
          "c": 0.8442128821676949,
          "e_z": 0,
          "i": 0.1246794603350132,
          "k": 20.962657948265964,
          "n": 0.21106004407028092,
          "rk": 0.01525257311429547,
          "w": 3.0757023307578346,
          "y": 0.9688923425027081,
          "z": 0.0065536000000000014
         },
         {
          "T": 7,
          "c": 0.8445168908472745,
          "e_z": 0,
          "i": 0.1237654876073455,
          "k": 20.877710829118318,
          "n": 0.21169763535932212,
          "rk": 0.015304991409516461,
          "w": 3.064508455483925,
          "y": 0.9682823784546201,
          "z": 0.005242880000000002
         },
         {
          "T": 8,
          "c": 0.8448008749470003,
          "e_z": 0,
          "i": 0.12321043485116376,
          "k": 20.79269920843448,
          "n": 0.2123669777052206,
          "rk": 0.01536326424150901,
          "w": 3.0539944796173755,
          "y": 0.9680113097981641,
          "z": 0.004194304000000002
         },
         {
          "T": 9,
          "c": 0.8450655029764693,
          "e_z": 0,
          "i": 0.12293812329075367,
          "k": 20.7079826512013,
          "n": 0.21305851656437874,
          "rk": 0.015425993060200502,
          "w": 3.0440577549176107,
          "y": 0.968003626267223,
          "z": 0.003355443200000002
         },
         {
          "T": 10,
          "c": 0.845311476394666,
          "e_z": 0,
          "i": 0.1228879782014003,
          "k": 20.62384094798004,
          "n": 0.2137646768491321,
          "rk": 0.015492061872596783,
          "w": 3.0346156537227635,
          "y": 0.9681994545960663,
          "z": 0.0026843545600000016
         },
         {
          "T": 11,
          "c": 0.8455395111622932,
          "e_z": 0,
          "i": 0.12301180474638941,
          "k": 20.540490516701638,
          "n": 0.21447946271141913,
          "rk": 0.015560579431634221,
          "w": 3.0256014886234026,
          "y": 0.9685513159086826,
          "z": 0.0021474836480000013
         },
         {
          "T": 12,
          "c": 0.8457503261244008,
          "e_z": 0,
          "i": 0.12327124444946656,
          "k": 20.458097416281014,
          "n": 0.21519813889749725,
          "rk": 0.01563083368812637,
          "w": 3.0169612786183895,
          "y": 0.9690215705738674,
          "z": 0.0017179869184000011
         },
         {
          "T": 13,
          "c": 0.8459446354150822,
          "e_z": 0,
          "i": 0.12363576369471886,
          "k": 20.37678768656767,
          "n": 0.21591697677154872,
          "rk": 0.01570225575433326,
          "w": 3.008651182120324,
          "y": 0.9695803991098011,
          "z": 0.001374389534720001
         },
         {
          "T": 14,
          "c": 0.8461231435787279,
          "e_z": 0,
          "i": 0.124081058860591,
          "k": 20.296655573396713,
          "n": 0.2166330515039561,
          "rk": 0.015774391285657226,
          "w": 3.000635457616091,
          "y": 0.9702042024393188,
          "z": 0.001099511627776001
         },
         {
          "T": 15,
          "c": 0.8462865422256926,
          "e_z": 0,
          "i": 0.1245877901485815,
          "k": 20.217770076523333,
          "n": 0.21734408010557082,
          "rk": 0.015846877695752527,
          "w": 2.992884841283932,
          "y": 0.970874332374274,
          "z": 0.0008796093022208008
         },
         {
          "T": 16,
          "c": 0.8464355076696172,
          "e_z": 0,
          "i": 0.1251405750247884,
          "k": 20.14018016590668,
          "n": 0.218048292014009,
          "rk": 0.015919425975736798,
          "w": 2.9853752551449912,
          "y": 0.9715760826944055,
          "z": 0.0007036874417766407
         },
         {
          "T": 17,
          "c": 0.8465706992345035,
          "e_z": 0,
          "i": 0.1257271871485779,
          "k": 20.0639189392724,
          "n": 0.21874432564115318,
          "rk": 0.015991806160977864,
          "w": 2.978086777644424,
          "y": 0.9722978863830813,
          "z": 0.0005629499534213126
         },
         {
          "T": 18,
          "c": 0.8466927580409017,
          "e_z": 0,
          "i": 0.1263379182676365,
          "k": 19.989006937028254,
          "n": 0.21943114564593344,
          "rk": 0.016063835696960106,
          "w": 2.971002822811003,
          "y": 0.9730306763085382,
          "z": 0.0004503599627370501
         },
         {
          "T": 19,
          "c": 0.8468023061512462,
          "e_z": 0,
          "i": 0.1269650695623065,
          "k": 19.915454785925608,
          "n": 0.2201079767648871,
          "rk": 0.016135370115302007,
          "w": 2.964109485341281,
          "y": 0.9737673757135527,
          "z": 0.0003602879701896401
         },
         {
          "T": 20,
          "c": 0.8468999459954245,
          "e_z": 0,
          "i": 0.1276025459466847,
          "k": 19.84326530762866,
          "n": 0.22077425087857352,
          "rk": 0.01620629555445513,
          "w": 2.9573950177746005,
          "y": 0.9745024919421091,
          "z": 0.0002882303761517121
         },
         {
          "T": 21,
          "c": 0.8469862600216461,
          "e_z": 0,
          "i": 0.12824553233979522,
          "k": 19.772435200499057,
          "n": 0.22142956466299543,
          "rk": 0.016276522755839035,
          "w": 2.9508494128894456,
          "y": 0.9752317923614413,
          "z": 0.00023058430092136968
         },
         {
          "T": 22,
          "c": 0.8470618105319041,
          "e_z": 0,
          "i": 0.1288902352518795,
          "k": 19.702956380833864,
          "n": 0.2220736457088853,
          "rk": 0.016345982241626332,
          "w": 2.9444640699613305,
          "y": 0.9759520457837836,
          "z": 0.00018446744073709575
         },
         {
          "T": 23,
          "c": 0.8471271396700654,
          "e_z": 0,
          "i": 0.12953367644936065,
          "k": 19.634817052277405,
          "n": 0.2227063254168587,
          "rk": 0.016414620439869482,
          "w": 2.938231527888523,
          "y": 0.976660816119426,
          "z": 0.00014757395258967662
         },
         {
          "T": 24,
          "c": 0.8471827695363354,
          "e_z": 0,
          "i": 0.1301735281665972,
          "k": 19.56800255820399,
          "n": 0.22332751731552683,
          "rk": 0.016482396569738097,
          "w": 2.932145251656536,
          "y": 0.9773562977029326,
          "z": 0.0001180591620717413
         },
         {
          "T": 25,
          "c": 0.8472292024058732,
          "e_z": 0,
          "i": 0.13080798147661638,
          "k": 19.50249606078855,
          "n": 0.22393719972037163,
          "rk": 0.016549280137025273,
          "w": 2.9261994613646873,
          "y": 0.9780371838824895,
          "z": 9.444732965739304e-05
         },
         {
          "T": 26,
          "c": 0.847266921032436,
          "e_z": 0,
          "i": 0.1314356411355276,
          "k": 19.43827908165728,
          "n": 0.2245354018674737,
          "rk": 0.01661524891985921,
          "w": 2.920388995226525,
          "y": 0.9787025621679636,
          "z": 7.555786372591443e-05
         },
         {
          "T": 27,
          "c": 0.8472963890204868,
          "e_z": 0,
          "i": 0.13205544156902246,
          "k": 19.375331931976238,
          "n": 0.22512219282907908,
          "rk": 0.016680287348324867,
          "w": 2.9147091996974104,
          "y": 0.9793518305895093,
          "z": 6.044629098073155e-05
         },
         {
          "T": 28,
          "c": 0.8473180512514299,
          "e_z": 0,
          "i": 0.13266657974685922,
          "k": 19.3136340542255,
          "n": 0.22569767265627608,
          "rk": 0.016744385200706546,
          "w": 2.9091558412691305,
          "y": 0.9799846309982891,
          "z": 4.8357032784585246e-05
         },
         {
          "T": 29,
          "c": 0.8473323343516009,
          "e_z": 0,
          "i": 0.13326846154962915,
          "k": 19.253164293430103,
          "n": 0.22626196530467807,
          "rk": 0.01680753655428109,
          "w": 2.903725035576009,
          "y": 0.9806007959012301,
          "z": 3.86856262276682e-05
         },
         {
          "T": 30,
          "c": 0.8473396471914286,
          "e_z": 0,
          "i": 0.13386065891641427,
          "k": 19.19390111204543,
          "n": 0.2268152129875444,
          "rk": 0.016869738940792234,
          "w": 2.8984131903372647,
          "y": 0.9812003061078429,
          "z": 3.094850098213456e-05
         },
         {
          "T": 31,
          "c": 0.8473403814067516,
          "e_z": 0,
          "i": 0.13444287560780332,
          "k": 19.135822759841393,
          "n": 0.22735757167163007,
          "rk": 0.01693099266652533,
          "w": 2.893216959362133,
          "y": 0.9817832570145549,
          "z": 2.4758800785707648e-05
         },
         {
          "T": 32,
          "c": 0.8473349119347265,
          "e_z": 0,
          "i": 0.1350149198543317,
          "k": 19.07890740785078,
          "n": 0.22788920748779412,
          "rk": 0.016991300264762237,
          "w": 2.8881332054038635,
          "y": 0.9823498317890582,
          "z": 1.980704062856612e-05
         },
         {
          "T": 33,
          "c": 0.847323597557974,
          "e_z": 0,
          "i": 0.1355766825081541,
          "k": 19.023133253626604,
          "n": 0.22841029387380118,
          "rk": 0.017050666054709274,
          "w": 2.8831589700950917,
          "y": 0.9829002800661282,
          "z": 1.5845632502852897e-05
         },
         {
          "T": 34,
          "c": 0.8473067814517548,
          "e_z": 0,
          "i": 0.1361281195934525,
          "k": 18.96847860359849,
          "n": 0.22892100930313736,
          "rk": 0.017109095786066442,
          "w": 2.878291449553113,
          "y": 0.9834349010452073,
          "z": 1.2676506002282318e-05
         },
         {
          "T": 35,
          "c": 0.847284791729886,
          "e_z": 0,
          "i": 0.13666923837288056,
          "k": 18.914921937155956,
          "n": 0.22942153548277064,
          "rk": 0.01716659635248463,
          "w": 2.873527974527756,
          "y": 0.9839540301027666,
          "z": 1.0141204801825855e-05
         },
         {
          "T": 36,
          "c": 0.8472579419859427,
          "e_z": 0,
          "i": 0.13720008622454594,
          "k": 18.862441956157276,
          "n": 0.2299120559261123,
          "rk": 0.017223175560437624,
          "w": 2.86886599419128,
          "y": 0.9844580282104887,
          "z": 8.112963841460684e-06
         },
         {
          "T": 37,
          "c": 0.8472265318269963,
          "e_z": 0,
          "i": 0.13772074176561336,
          "k": 18.81101762282025,
          "n": 0.23039275482611618,
          "rk": 0.01727884194267373,
          "w": 2.8643030628506714,
          "y": 0.9849472735926096,
          "z": 6.490371073168548e-06
         },
         {
          "T": 38,
          "c": 0.8471908473977174,
          "e_z": 0,
          "i": 0.13823130777175238,
          "k": 18.760628188357657,
          "n": 0.23086381616840287,
          "rk": 0.017333604607532752,
          "w": 2.8598368290071927,
          "y": 0.9854221551694698,
          "z": 5.192296858534838e-06
         },
         {
          "T": 39,
          "c": 0.8471511618931823,
          "e_z": 0,
          "i": 0.13873190553208206,
          "k": 18.711253214245833,
          "n": 0.23132542303627934,
          "rk": 0.017387473117120675,
          "w": 2.8554650263033676,
          "y": 0.9858830674252643,
          "z": 4.153837486827871e-06
         }
        ]
       },
       "vconcat": [
        {
         "hconcat": [
          {
           "data": {
            "name": "data-75732e9ef17ffb9f4ae7edc81e4321a1"
           },
           "encoding": {
            "x": {
             "field": "T",
             "type": "quantitative"
            },
            "y": {
             "field": "z",
             "type": "quantitative"
            }
           },
           "mark": "line"
          },
          {
           "data": {
            "name": "data-75732e9ef17ffb9f4ae7edc81e4321a1"
           },
           "encoding": {
            "x": {
             "field": "T",
             "type": "quantitative"
            },
            "y": {
             "field": "i",
             "type": "quantitative"
            }
           },
           "mark": "line"
          }
         ]
        },
        {
         "hconcat": [
          {
           "data": {
            "name": "data-75732e9ef17ffb9f4ae7edc81e4321a1"
           },
           "encoding": {
            "x": {
             "field": "T",
             "type": "quantitative"
            },
            "y": {
             "field": "n",
             "type": "quantitative"
            }
           },
           "mark": "line"
          },
          {
           "data": {
            "name": "data-75732e9ef17ffb9f4ae7edc81e4321a1"
           },
           "encoding": {
            "x": {
             "field": "T",
             "type": "quantitative"
            },
            "y": {
             "field": "c",
             "type": "quantitative"
            }
           },
           "mark": "line"
          }
         ]
        }
       ]
      },
      "image/png": "[encoded data removed]",
      "text/plain": [
       "<VegaLite 2 object>\n",
       "\n",
       "If you see this message, it means the renderer has not been properly enabled\n",
       "for the frontend that you are using. For more information, see\n",
       "https://altair-viz.github.io/user_guide/troubleshooting.html\n"
      ]
     },
     "execution_count": 24,
     "metadata": {},
     "output_type": "execute_result"
    }
   ],
   "source": [
    "# it is also possible (and fun) to use the graph visualization altair lib instead:\n",
    "# it is not part of dolo dependencies. To install `conda install -c conda-forge altair`\n",
    "import altair as alt\n",
    "df = irf.drop('N').to_pandas().reset_index() # convert to flat database\n",
    "base = alt.Chart(df).mark_line()\n",
    "ch1 = base.encode(x='T', y='z')\n",
    "ch2 = base.encode(x='T', y='i')\n",
    "ch3 = base.encode(x='T', y='n')\n",
    "ch4 = base.encode(x='T', y='c')\n",
    "(ch1|ch2)& \\\n",
    "(ch3|ch4)"
   ]
  },
  {
   "cell_type": "code",
   "execution_count": 25,
   "metadata": {},
   "outputs": [],
   "source": [
    "irf_array = np.array( irf )\n",
    "import scipy.io\n",
    "scipy.io.savemat(\"export.mat\", {'table': irf_array} )"
   ]
  },
  {
   "cell_type": "markdown",
   "metadata": {},
   "source": [
    "## Stochastic simulations\n",
    "\n",
    "Now we run 1000 random simulations.  The result is an array of size $T\\times N \\times n_v$ where \n",
    "- $T$ the number of dates\n",
    "- $N$ the number of simulations\n",
    "- $n_v$ is the number of variables\n"
   ]
  },
  {
   "cell_type": "code",
   "execution_count": 26,
   "metadata": {},
   "outputs": [
    {
     "name": "stdout",
     "output_type": "stream",
     "text": [
      "(40, 1000, 9)\n"
     ]
    }
   ],
   "source": [
    "sim = simulate(model, dr_global, N=1000, T=40 )\n",
    "print(sim.shape)"
   ]
  },
  {
   "cell_type": "markdown",
   "metadata": {
    "run_control": {
     "breakpoint": false
    }
   },
   "source": [
    "We plot the responses of consumption, investment and labour to the stochastic path of productivity."
   ]
  },
  {
   "cell_type": "code",
   "execution_count": 27,
   "metadata": {},
   "outputs": [
    {
     "name": "stderr",
     "output_type": "stream",
     "text": [
      "\u001b[33mMatplotlibDeprecationWarning\u001b[0m:/opt/pablo/anaconda3/lib/python3.6/site-packages/matplotlib/figure.py:98\n",
      "    \n",
      "Adding an axes using the same arguments as a previous axes currently reuses the earlier instance.  In a future version, a new instance will always be created and returned.  Meanwhile, this warning can be suppressed, and the future behavior ensured, by passing a unique label to each axes instance.\n"
     ]
    },
    {
     "data": {
      "image/png": "[encoded data removed]",
      "text/plain": [
       "<Figure size 576x288 with 4 Axes>"
      ]
     },
     "metadata": {
      "needs_background": "light"
     },
     "output_type": "display_data"
    }
   ],
   "source": [
    "plt.figure(figsize=(8,4))\n",
    "for i in range(1000):\n",
    "    plt.subplot(221)\n",
    "    plt.plot(sim.sel(N=i,V='z'), color='red', alpha=0.1)\n",
    "    plt.subplot(222)\n",
    "    plt.plot(sim.sel(N=i,V='i'), color='red', alpha=0.1)\n",
    "    plt.subplot(223)\n",
    "    plt.plot(sim.sel(N=i,V='n'), color='red', alpha=0.1)\n",
    "    plt.subplot(224)\n",
    "    plt.plot(sim.sel(N=i,V='c'), color='red', alpha=0.1)\n",
    "\n",
    "plt.subplot(221)\n",
    "plt.title('Productivity')\n",
    "plt.subplot(222)\n",
    "plt.title('Investment')\n",
    "plt.subplot(223)\n",
    "plt.title('Labour')\n",
    "plt.subplot(224)\n",
    "plt.title('Consumption')\n",
    "\n",
    "plt.tight_layout()"
   ]
  },
  {
   "cell_type": "markdown",
   "metadata": {
    "run_control": {
     "breakpoint": false
    }
   },
   "source": [
    "We find that while the distribution of investment and labour converges quickly to the ergodic distribution, that of consumption takes noticeably longer. This is indicative of higher persistence in consumption, which in turn could be explained by permanent income considerations."
   ]
  },
  {
   "cell_type": "markdown",
   "metadata": {
    "run_control": {
     "breakpoint": false
    }
   },
   "source": [
    "# Descriptive statistics\n",
    "A common way to evaluate the success of the RBC model is in its ability to mimic patterns in the descriptive statistics of the real economy. Let us compute some of these descriptive statistics from our sample of stochastic simulations. First we compute growth rates:"
   ]
  },
  {
   "cell_type": "code",
   "execution_count": 28,
   "metadata": {
    "run_control": {
     "breakpoint": false
    }
   },
   "outputs": [],
   "source": [
    "dsim = sim / sim.shift(T=1)"
   ]
  },
  {
   "cell_type": "markdown",
   "metadata": {
    "run_control": {
     "breakpoint": false
    }
   },
   "source": [
    "Then we compute the volatility of growth rates for each simulation:"
   ]
  },
  {
   "cell_type": "code",
   "execution_count": 29,
   "metadata": {
    "run_control": {
     "breakpoint": false
    }
   },
   "outputs": [
    {
     "name": "stdout",
     "output_type": "stream",
     "text": [
      "(40, 9)\n"
     ]
    }
   ],
   "source": [
    "volat = dsim.std(axis=1)\n",
    "print(volat.shape)"
   ]
  },
  {
   "cell_type": "code",
   "execution_count": 30,
   "metadata": {},
   "outputs": [
    {
     "data": {
      "text/plain": [
       "<xarray.DataArray (T: 40, V: 9)>\n",
       "array([[         nan,          nan,          nan, ...,          nan,\n",
       "                 nan,          nan],\n",
       "       [1.610460e+01,          nan, 7.216450e-15, ..., 4.263814e-04,\n",
       "        2.191723e-02, 1.264240e-02],\n",
       "       [1.618588e+01, 1.610460e+01, 9.880539e-04, ..., 4.002167e-04,\n",
       "        2.324016e-02, 1.308931e-02],\n",
       "       ...,\n",
       "       [1.354310e+01, 3.780695e+01, 1.826828e-03, ..., 3.710962e-04,\n",
       "        2.382253e-02, 1.339413e-02],\n",
       "       [3.541631e+01, 1.094721e+01, 1.790904e-03, ..., 3.681102e-04,\n",
       "        2.234791e-02, 1.265644e-02],\n",
       "       [7.612170e+01, 6.075938e+01, 1.784252e-03, ..., 3.928456e-04,\n",
       "        2.346935e-02, 1.335695e-02]])\n",
       "Coordinates:\n",
       "  * T        (T) int64 0 1 2 3 4 5 6 7 8 9 10 ... 30 31 32 33 34 35 36 37 38 39\n",
       "  * V        (V) <U3 'e_z' 'z' 'k' 'n' 'i' 'y' 'c' 'rk' 'w'"
      ]
     },
     "execution_count": 30,
     "metadata": {},
     "output_type": "execute_result"
    }
   ],
   "source": [
    "volat"
   ]
  },
  {
   "cell_type": "markdown",
   "metadata": {
    "run_control": {
     "breakpoint": false
    }
   },
   "source": [
    "Then we compute the mean and a confidence interval for each variable. In the generated table the first column contains the standard deviations of growth rates. The second and third columns contain the lower and upper bounds of the 95% confidence intervals, respectively."
   ]
  },
  {
   "cell_type": "code",
   "execution_count": 31,
   "metadata": {},
   "outputs": [
    {
     "data": {
      "text/plain": [
       "array([[ 6.00442420e+01, -5.53075009e+01,  1.75395985e+02],\n",
       "       [ 1.02137895e+02, -3.76106170e+02,  5.80381961e+02],\n",
       "       [ 1.62456810e-03,  1.02685580e-03,  2.22228040e-03],\n",
       "       [ 9.94873045e-03,  9.34263387e-03,  1.05548270e-02],\n",
       "       [ 2.87402526e-01, -3.10015665e-01,  8.84820717e-01],\n",
       "       [ 2.32474744e-02,  2.20662616e-02,  2.44286872e-02],\n",
       "       [ 2.57640173e-04,  8.12910401e-05,  4.33989306e-04],\n",
       "       [ 2.39133107e-02,  2.26207937e-02,  2.52058278e-02],\n",
       "       [ 1.33947836e-02,  1.27143133e-02,  1.40752539e-02]])"
      ]
     },
     "execution_count": 31,
     "metadata": {},
     "output_type": "execute_result"
    }
   ],
   "source": [
    "table = np.column_stack([\n",
    "    volat.mean(axis=0),\n",
    "    volat.mean(axis=0)-1.96*volat.std(axis=0),\n",
    "    volat.mean(axis=0)+1.96*volat.std(axis=0)  ])\n",
    "table"
   ]
  },
  {
   "cell_type": "markdown",
   "metadata": {},
   "source": [
    "We can use the [pandas](http://pandas.pydata.org/pandas-docs/stable/10min.html) library to present the results in a nice table."
   ]
  },
  {
   "cell_type": "code",
   "execution_count": 32,
   "metadata": {},
   "outputs": [
    {
     "data": {
      "text/html": [
       "<div>\n",
       "<style scoped>\n",
       "    .dataframe tbody tr th:only-of-type {\n",
       "        vertical-align: middle;\n",
       "    }\n",
       "\n",
       "    .dataframe tbody tr th {\n",
       "        vertical-align: top;\n",
       "    }\n",
       "\n",
       "    .dataframe thead th {\n",
       "        text-align: right;\n",
       "    }\n",
       "</style>\n",
       "<table border=\"1\" class=\"dataframe\">\n",
       "  <thead>\n",
       "    <tr style=\"text-align: right;\">\n",
       "      <th></th>\n",
       "      <th>Growth rate std.</th>\n",
       "      <th>Lower 95% bound</th>\n",
       "      <th>Upper 95% bound</th>\n",
       "    </tr>\n",
       "    <tr>\n",
       "      <th>V</th>\n",
       "      <th></th>\n",
       "      <th></th>\n",
       "      <th></th>\n",
       "    </tr>\n",
       "  </thead>\n",
       "  <tbody>\n",
       "    <tr>\n",
       "      <th>e_z</th>\n",
       "      <td>60.0442</td>\n",
       "      <td>-5.5308e+01</td>\n",
       "      <td>175.3960</td>\n",
       "    </tr>\n",
       "    <tr>\n",
       "      <th>z</th>\n",
       "      <td>102.1379</td>\n",
       "      <td>-3.7611e+02</td>\n",
       "      <td>580.3820</td>\n",
       "    </tr>\n",
       "    <tr>\n",
       "      <th>k</th>\n",
       "      <td>0.0016</td>\n",
       "      <td>1.0269e-03</td>\n",
       "      <td>0.0022</td>\n",
       "    </tr>\n",
       "    <tr>\n",
       "      <th>n</th>\n",
       "      <td>0.0099</td>\n",
       "      <td>9.3426e-03</td>\n",
       "      <td>0.0106</td>\n",
       "    </tr>\n",
       "    <tr>\n",
       "      <th>i</th>\n",
       "      <td>0.2874</td>\n",
       "      <td>-3.1002e-01</td>\n",
       "      <td>0.8848</td>\n",
       "    </tr>\n",
       "    <tr>\n",
       "      <th>y</th>\n",
       "      <td>0.0232</td>\n",
       "      <td>2.2066e-02</td>\n",
       "      <td>0.0244</td>\n",
       "    </tr>\n",
       "    <tr>\n",
       "      <th>c</th>\n",
       "      <td>0.0003</td>\n",
       "      <td>8.1291e-05</td>\n",
       "      <td>0.0004</td>\n",
       "    </tr>\n",
       "    <tr>\n",
       "      <th>rk</th>\n",
       "      <td>0.0239</td>\n",
       "      <td>2.2621e-02</td>\n",
       "      <td>0.0252</td>\n",
       "    </tr>\n",
       "    <tr>\n",
       "      <th>w</th>\n",
       "      <td>0.0134</td>\n",
       "      <td>1.2714e-02</td>\n",
       "      <td>0.0141</td>\n",
       "    </tr>\n",
       "  </tbody>\n",
       "</table>\n",
       "</div>"
      ],
      "text/plain": [
       "     Growth rate std.  Lower 95% bound  Upper 95% bound\n",
       "V                                                      \n",
       "e_z           60.0442      -5.5308e+01         175.3960\n",
       "z            102.1379      -3.7611e+02         580.3820\n",
       "k              0.0016       1.0269e-03           0.0022\n",
       "n              0.0099       9.3426e-03           0.0106\n",
       "i              0.2874      -3.1002e-01           0.8848\n",
       "y              0.0232       2.2066e-02           0.0244\n",
       "c              0.0003       8.1291e-05           0.0004\n",
       "rk             0.0239       2.2621e-02           0.0252\n",
       "w              0.0134       1.2714e-02           0.0141"
      ]
     },
     "execution_count": 32,
     "metadata": {},
     "output_type": "execute_result"
    }
   ],
   "source": [
    "import pandas\n",
    "df = pandas.DataFrame(table, index=sim.V, \n",
    "                      columns=['Growth rate std.',\n",
    "                               'Lower 95% bound',\n",
    "                               'Upper 95% bound' ])\n",
    "pandas.set_option('precision', 4)\n",
    "df"
   ]
  },
  {
   "cell_type": "markdown",
   "metadata": {},
   "source": [
    "# Error measures\n",
    "<mark>Marked text</mark>\n",
    "\n",
    "\n",
    "It is always important to get a handle on the accuracy of the solution. The `omega` function computes and aggregates the errors for the model's arbitrage section equations. For the RBC model these are the investment demand and labor supply equations. For each equation it reports the maximum error over the domain and the mean error using ergodic distribution weights (see the source for the [omega](https://github.com/EconForge/dolo/blob/master/dolo/algos/fg/accuracy.py) function)."
   ]
  },
  {
   "cell_type": "code",
   "execution_count": 33,
   "metadata": {},
   "outputs": [
    {
     "ename": "ModuleNotFoundError",
     "evalue": "No module named 'dolo.algos.accuracy'",
     "output_type": "error",
     "traceback": [
      "\u001b[0;31m----------------------------------------------------\u001b[0m",
      "\u001b[0;31mModuleNotFoundError\u001b[0mTraceback (most recent call last)",
      "\u001b[0;32m<ipython-input-33-16046267e6b5>\u001b[0m in \u001b[0;36m<module>\u001b[0;34m\u001b[0m\n\u001b[0;32m----> 1\u001b[0;31m \u001b[0;32mfrom\u001b[0m \u001b[0mdolo\u001b[0m\u001b[0;34m.\u001b[0m\u001b[0malgos\u001b[0m\u001b[0;34m.\u001b[0m\u001b[0maccuracy\u001b[0m \u001b[0;32mimport\u001b[0m \u001b[0momega\u001b[0m\u001b[0;34m\u001b[0m\u001b[0;34m\u001b[0m\u001b[0m\n\u001b[0m\u001b[1;32m      2\u001b[0m \u001b[0;34m\u001b[0m\u001b[0m\n\u001b[1;32m      3\u001b[0m \u001b[0mprint\u001b[0m\u001b[0;34m(\u001b[0m\u001b[0;34m\"Perturbation solution\"\u001b[0m\u001b[0;34m)\u001b[0m\u001b[0;34m\u001b[0m\u001b[0;34m\u001b[0m\u001b[0m\n\u001b[1;32m      4\u001b[0m \u001b[0merr_pert\u001b[0m \u001b[0;34m=\u001b[0m \u001b[0momega\u001b[0m\u001b[0;34m(\u001b[0m\u001b[0mmodel\u001b[0m\u001b[0;34m,\u001b[0m \u001b[0mdr_pert\u001b[0m\u001b[0;34m)\u001b[0m\u001b[0;34m\u001b[0m\u001b[0;34m\u001b[0m\u001b[0m\n\u001b[1;32m      5\u001b[0m \u001b[0merr_pert\u001b[0m\u001b[0;34m\u001b[0m\u001b[0;34m\u001b[0m\u001b[0m\n",
      "\u001b[0;31mModuleNotFoundError\u001b[0m: No module named 'dolo.algos.accuracy'"
     ]
    }
   ],
   "source": [
    "from dolo.algos.accuracy import omega\n",
    "\n",
    "print(\"Perturbation solution\")\n",
    "err_pert = omega(model, dr_pert)\n",
    "err_pert"
   ]
  },
  {
   "cell_type": "code",
   "execution_count": 34,
   "metadata": {},
   "outputs": [
    {
     "name": "stdout",
     "output_type": "stream",
     "text": [
      "Global solution\n"
     ]
    },
    {
     "ename": "NameError",
     "evalue": "name 'omega' is not defined",
     "output_type": "error",
     "traceback": [
      "\u001b[0;31m----------------------------------------------------\u001b[0m",
      "\u001b[0;31mNameError\u001b[0m          Traceback (most recent call last)",
      "\u001b[0;32m<ipython-input-34-42385002718f>\u001b[0m in \u001b[0;36m<module>\u001b[0;34m\u001b[0m\n\u001b[1;32m      1\u001b[0m \u001b[0mprint\u001b[0m\u001b[0;34m(\u001b[0m\u001b[0;34m\"Global solution\"\u001b[0m\u001b[0;34m)\u001b[0m\u001b[0;34m\u001b[0m\u001b[0;34m\u001b[0m\u001b[0m\n\u001b[0;32m----> 2\u001b[0;31m \u001b[0merr_global\u001b[0m\u001b[0;34m=\u001b[0m\u001b[0momega\u001b[0m\u001b[0;34m(\u001b[0m\u001b[0mmodel\u001b[0m\u001b[0;34m,\u001b[0m \u001b[0mdr_global\u001b[0m\u001b[0;34m)\u001b[0m\u001b[0;34m\u001b[0m\u001b[0;34m\u001b[0m\u001b[0m\n\u001b[0m\u001b[1;32m      3\u001b[0m \u001b[0merr_global\u001b[0m\u001b[0;34m\u001b[0m\u001b[0;34m\u001b[0m\u001b[0m\n",
      "\u001b[0;31mNameError\u001b[0m: name 'omega' is not defined"
     ]
    }
   ],
   "source": [
    "print(\"Global solution\")\n",
    "err_global=omega(model, dr_global)\n",
    "err_global"
   ]
  },
  {
   "cell_type": "markdown",
   "metadata": {
    "run_control": {
     "breakpoint": false
    }
   },
   "source": [
    "The result of `omega` is a subclass of `dict`. `omega` fills that dict with some useful information that the default print does not reveal:"
   ]
  },
  {
   "cell_type": "code",
   "execution_count": null,
   "metadata": {},
   "outputs": [],
   "source": [
    "err_pert.keys()"
   ]
  },
  {
   "cell_type": "markdown",
   "metadata": {
    "run_control": {
     "breakpoint": false
    }
   },
   "source": [
    "In particular the domain field  contains information, like bounds and shape, that we can use to plot the spatial pattern of errors."
   ]
  },
  {
   "cell_type": "code",
   "execution_count": null,
   "metadata": {
    "run_control": {
     "breakpoint": false
    }
   },
   "outputs": [],
   "source": [
    "a = err_pert['domain'].a\n",
    "b = err_pert['domain'].b\n",
    "orders = err_pert['domain'].orders\n",
    "errors = concatenate((err_pert['errors'].reshape( orders.tolist()+[-1] ),\n",
    "                      err_global['errors'].reshape( orders.tolist()+[-1] )),\n",
    "                     2)\n",
    "\n",
    "figure(figsize=(8,6))\n",
    "\n",
    "titles=[\"Investment demand pertubation errors\",\n",
    "        \"Labor supply pertubation errors\",\n",
    "        \"Investment demand global errors\",\n",
    "        \"Labor supply global errors\"]\n",
    "\n",
    "for i in range(4):\n",
    "\n",
    "    subplot(2,2,i+1)\n",
    "    imgplot = imshow(errors[:,:,i], origin='lower', \n",
    "                     extent=( a[0], b[0], a[1], b[1]), aspect='auto')\n",
    "    imgplot.set_clim(0,3e-4)\n",
    "    colorbar()\n",
    "    xlabel('z')\n",
    "    ylabel('k')\n",
    "    title(titles[i])\n",
    "\n",
    "tight_layout()"
   ]
  }
 ],
 "metadata": {
  "jupytext": {
   "formats": "ipynb,py:light",
   "text_representation": {
    "extension": ".py",
    "format_name": "light",
    "format_version": "1.3",
    "jupytext_version": "0.8.3"
   }
  },
  "kernelspec": {
   "display_name": "Python 3",
   "language": "python",
   "name": "python3"
  },
  "language_info": {
   "codemirror_mode": {
    "name": "ipython",
    "version": 3
   },
   "file_extension": ".py",
   "mimetype": "text/x-python",
   "name": "python",
   "nbconvert_exporter": "python",
   "pygments_lexer": "ipython3",
   "version": "3.6.8"
  },
  "varInspector": {
   "cols": {
    "lenName": 16,
    "lenType": 16,
    "lenVar": 40
   },
   "kernels_config": {
    "python": {
     "delete_cmd_postfix": "",
     "delete_cmd_prefix": "del ",
     "library": "var_list.py",
     "varRefreshCmd": "print(var_dic_list())"
    },
    "r": {
     "delete_cmd_postfix": ") ",
     "delete_cmd_prefix": "rm(",
     "library": "var_list.r",
     "varRefreshCmd": "cat(var_dic_list()) "
    }
   },
   "types_to_exclude": [
    "module",
    "function",
    "builtin_function_or_method",
    "instance",
    "_Feature"
   ],
   "window_display": false
  }
 },
 "nbformat": 4,
 "nbformat_minor": 2
}
