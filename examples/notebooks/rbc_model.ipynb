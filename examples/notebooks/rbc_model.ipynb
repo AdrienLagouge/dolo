{
 "cells": [
  {
   "cell_type": "code",
   "execution_count": 1,
   "metadata": {
    "collapsed": false
   },
   "outputs": [
    {
     "name": "stdout",
     "output_type": "stream",
     "text": [
      "Populating the interactive namespace from numpy and matplotlib\n"
     ]
    }
   ],
   "source": [
    "%pylab inline"
   ]
  },
  {
   "cell_type": "markdown",
   "metadata": {},
   "source": [
    "# Solving the rbc model\n",
    "\n",
    "This worksheet demonstrates how to solve the RBC model with the [dolo](http://econforge.github.io/dolo/) library \n",
    "and how to generates impulse responses and stochastic simulations from the solution.\n",
    "\n",
    "- This notebook is distributed with dolo in : ``examples\\notebooks\\``. The notebook was opened and run from that directory.\n",
    "- The model file is in : ``examples\\global_models\\``\n",
    "\n",
    "First we import the dolo library."
   ]
  },
  {
   "cell_type": "code",
   "execution_count": 2,
   "metadata": {
    "collapsed": true
   },
   "outputs": [],
   "source": [
    "from dolo import *"
   ]
  },
  {
   "cell_type": "markdown",
   "metadata": {
    "run_control": {
     "breakpoint": false
    }
   },
   "source": [
    "The RBC model is defined in a [YAML](http://www.yaml.org/spec/1.2/spec.html#Introduction) file which we can read locally or pull off the web."
   ]
  },
  {
   "cell_type": "code",
   "execution_count": 3,
   "metadata": {
    "collapsed": false,
    "run_control": {
     "breakpoint": false
    }
   },
   "outputs": [
    {
     "data": {
      "text/html": [
       "<style>\n",
       "    .source .hll { background-color: #ffffcc }\n",
       ".source  { background: #f8f8f8; }\n",
       ".source .c { color: #408080; font-style: italic } /* Comment */\n",
       ".source .err { border: 1px solid #FF0000 } /* Error */\n",
       ".source .k { color: #008000; font-weight: bold } /* Keyword */\n",
       ".source .o { color: #666666 } /* Operator */\n",
       ".source .ch { color: #408080; font-style: italic } /* Comment.Hashbang */\n",
       ".source .cm { color: #408080; font-style: italic } /* Comment.Multiline */\n",
       ".source .cp { color: #BC7A00 } /* Comment.Preproc */\n",
       ".source .cpf { color: #408080; font-style: italic } /* Comment.PreprocFile */\n",
       ".source .c1 { color: #408080; font-style: italic } /* Comment.Single */\n",
       ".source .cs { color: #408080; font-style: italic } /* Comment.Special */\n",
       ".source .gd { color: #A00000 } /* Generic.Deleted */\n",
       ".source .ge { font-style: italic } /* Generic.Emph */\n",
       ".source .gr { color: #FF0000 } /* Generic.Error */\n",
       ".source .gh { color: #000080; font-weight: bold } /* Generic.Heading */\n",
       ".source .gi { color: #00A000 } /* Generic.Inserted */\n",
       ".source .go { color: #888888 } /* Generic.Output */\n",
       ".source .gp { color: #000080; font-weight: bold } /* Generic.Prompt */\n",
       ".source .gs { font-weight: bold } /* Generic.Strong */\n",
       ".source .gu { color: #800080; font-weight: bold } /* Generic.Subheading */\n",
       ".source .gt { color: #0044DD } /* Generic.Traceback */\n",
       ".source .kc { color: #008000; font-weight: bold } /* Keyword.Constant */\n",
       ".source .kd { color: #008000; font-weight: bold } /* Keyword.Declaration */\n",
       ".source .kn { color: #008000; font-weight: bold } /* Keyword.Namespace */\n",
       ".source .kp { color: #008000 } /* Keyword.Pseudo */\n",
       ".source .kr { color: #008000; font-weight: bold } /* Keyword.Reserved */\n",
       ".source .kt { color: #B00040 } /* Keyword.Type */\n",
       ".source .m { color: #666666 } /* Literal.Number */\n",
       ".source .s { color: #BA2121 } /* Literal.String */\n",
       ".source .na { color: #7D9029 } /* Name.Attribute */\n",
       ".source .nb { color: #008000 } /* Name.Builtin */\n",
       ".source .nc { color: #0000FF; font-weight: bold } /* Name.Class */\n",
       ".source .no { color: #880000 } /* Name.Constant */\n",
       ".source .nd { color: #AA22FF } /* Name.Decorator */\n",
       ".source .ni { color: #999999; font-weight: bold } /* Name.Entity */\n",
       ".source .ne { color: #D2413A; font-weight: bold } /* Name.Exception */\n",
       ".source .nf { color: #0000FF } /* Name.Function */\n",
       ".source .nl { color: #A0A000 } /* Name.Label */\n",
       ".source .nn { color: #0000FF; font-weight: bold } /* Name.Namespace */\n",
       ".source .nt { color: #008000; font-weight: bold } /* Name.Tag */\n",
       ".source .nv { color: #19177C } /* Name.Variable */\n",
       ".source .ow { color: #AA22FF; font-weight: bold } /* Operator.Word */\n",
       ".source .w { color: #bbbbbb } /* Text.Whitespace */\n",
       ".source .mb { color: #666666 } /* Literal.Number.Bin */\n",
       ".source .mf { color: #666666 } /* Literal.Number.Float */\n",
       ".source .mh { color: #666666 } /* Literal.Number.Hex */\n",
       ".source .mi { color: #666666 } /* Literal.Number.Integer */\n",
       ".source .mo { color: #666666 } /* Literal.Number.Oct */\n",
       ".source .sb { color: #BA2121 } /* Literal.String.Backtick */\n",
       ".source .sc { color: #BA2121 } /* Literal.String.Char */\n",
       ".source .sd { color: #BA2121; font-style: italic } /* Literal.String.Doc */\n",
       ".source .s2 { color: #BA2121 } /* Literal.String.Double */\n",
       ".source .se { color: #BB6622; font-weight: bold } /* Literal.String.Escape */\n",
       ".source .sh { color: #BA2121 } /* Literal.String.Heredoc */\n",
       ".source .si { color: #BB6688; font-weight: bold } /* Literal.String.Interpol */\n",
       ".source .sx { color: #008000 } /* Literal.String.Other */\n",
       ".source .sr { color: #BB6688 } /* Literal.String.Regex */\n",
       ".source .s1 { color: #BA2121 } /* Literal.String.Single */\n",
       ".source .ss { color: #19177C } /* Literal.String.Symbol */\n",
       ".source .bp { color: #008000 } /* Name.Builtin.Pseudo */\n",
       ".source .vc { color: #19177C } /* Name.Variable.Class */\n",
       ".source .vg { color: #19177C } /* Name.Variable.Global */\n",
       ".source .vi { color: #19177C } /* Name.Variable.Instance */\n",
       ".source .il { color: #666666 } /* Literal.Number.Integer.Long */\n",
       "    </style>\n",
       "    <table class=\"sourcetable\"><tr><td class=\"linenos\"><div class=\"linenodiv\"><pre> 1\n",
       " 2\n",
       " 3\n",
       " 4\n",
       " 5\n",
       " 6\n",
       " 7\n",
       " 8\n",
       " 9\n",
       "10\n",
       "11\n",
       "12\n",
       "13\n",
       "14\n",
       "15\n",
       "16\n",
       "17\n",
       "18\n",
       "19\n",
       "20\n",
       "21\n",
       "22\n",
       "23\n",
       "24\n",
       "25\n",
       "26\n",
       "27\n",
       "28\n",
       "29\n",
       "30\n",
       "31\n",
       "32\n",
       "33\n",
       "34\n",
       "35\n",
       "36\n",
       "37\n",
       "38\n",
       "39\n",
       "40\n",
       "41\n",
       "42\n",
       "43\n",
       "44\n",
       "45\n",
       "46\n",
       "47\n",
       "48\n",
       "49\n",
       "50\n",
       "51\n",
       "52\n",
       "53\n",
       "54\n",
       "55\n",
       "56\n",
       "57\n",
       "58\n",
       "59\n",
       "60\n",
       "61\n",
       "62\n",
       "63\n",
       "64\n",
       "65\n",
       "66\n",
       "67\n",
       "68\n",
       "69\n",
       "70\n",
       "71\n",
       "72\n",
       "73\n",
       "74\n",
       "75\n",
       "76\n",
       "77\n",
       "78\n",
       "79\n",
       "80\n",
       "81\n",
       "82</pre></div></td><td class=\"code\"><div class=\"source\"><pre><span></span><span class=\"l l-Scalar l-Scalar-Plain\">name</span><span class=\"p p-Indicator\">:</span> <span class=\"l l-Scalar l-Scalar-Plain\">Real Business Cycle</span>\n",
       "\n",
       "<span class=\"l l-Scalar l-Scalar-Plain\">symbols</span><span class=\"p p-Indicator\">:</span>\n",
       "\n",
       "   <span class=\"l l-Scalar l-Scalar-Plain\">exogenous</span><span class=\"p p-Indicator\">:</span> <span class=\"p p-Indicator\">[</span><span class=\"nv\">e_z</span><span class=\"p p-Indicator\">]</span>\n",
       "   <span class=\"l l-Scalar l-Scalar-Plain\">states</span><span class=\"p p-Indicator\">:</span> <span class=\"p p-Indicator\">[</span><span class=\"nv\">z</span><span class=\"p p-Indicator\">,</span> <span class=\"nv\">k</span><span class=\"p p-Indicator\">]</span>\n",
       "   <span class=\"l l-Scalar l-Scalar-Plain\">controls</span><span class=\"p p-Indicator\">:</span> <span class=\"p p-Indicator\">[</span><span class=\"nv\">n</span><span class=\"p p-Indicator\">,</span> <span class=\"nv\">i</span><span class=\"p p-Indicator\">]</span>\n",
       "   <span class=\"l l-Scalar l-Scalar-Plain\">expectations</span><span class=\"p p-Indicator\">:</span> <span class=\"p p-Indicator\">[</span><span class=\"nv\">m</span><span class=\"p p-Indicator\">]</span>\n",
       "   <span class=\"l l-Scalar l-Scalar-Plain\">values</span><span class=\"p p-Indicator\">:</span> <span class=\"p p-Indicator\">[</span><span class=\"nv\">V</span><span class=\"p p-Indicator\">]</span>\n",
       "   <span class=\"l l-Scalar l-Scalar-Plain\">parameters</span><span class=\"p p-Indicator\">:</span> <span class=\"p p-Indicator\">[</span><span class=\"nv\">beta</span><span class=\"p p-Indicator\">,</span> <span class=\"nv\">sigma</span><span class=\"p p-Indicator\">,</span> <span class=\"nv\">eta</span><span class=\"p p-Indicator\">,</span> <span class=\"nv\">chi</span><span class=\"p p-Indicator\">,</span> <span class=\"nv\">delta</span><span class=\"p p-Indicator\">,</span> <span class=\"nv\">alpha</span><span class=\"p p-Indicator\">,</span> <span class=\"nv\">rho</span><span class=\"p p-Indicator\">,</span> <span class=\"nv\">zbar</span><span class=\"p p-Indicator\">,</span> <span class=\"nv\">sig_z</span><span class=\"p p-Indicator\">]</span>\n",
       "   <span class=\"l l-Scalar l-Scalar-Plain\">rewards</span><span class=\"p p-Indicator\">:</span> <span class=\"p p-Indicator\">[</span><span class=\"nv\">u</span><span class=\"p p-Indicator\">]</span>\n",
       "\n",
       "<span class=\"l l-Scalar l-Scalar-Plain\">definitions</span><span class=\"p p-Indicator\">:</span>\n",
       "    <span class=\"l l-Scalar l-Scalar-Plain\">y</span><span class=\"p p-Indicator\">:</span> <span class=\"l l-Scalar l-Scalar-Plain\">exp(z)*k^alpha*n^(1-alpha)</span>\n",
       "    <span class=\"l l-Scalar l-Scalar-Plain\">c</span><span class=\"p p-Indicator\">:</span> <span class=\"l l-Scalar l-Scalar-Plain\">y - i</span>\n",
       "    <span class=\"l l-Scalar l-Scalar-Plain\">rk</span><span class=\"p p-Indicator\">:</span> <span class=\"l l-Scalar l-Scalar-Plain\">alpha*y/k</span>\n",
       "    <span class=\"l l-Scalar l-Scalar-Plain\">w</span><span class=\"p p-Indicator\">:</span> <span class=\"l l-Scalar l-Scalar-Plain\">(1-alpha)*y/n</span>\n",
       "\n",
       "<span class=\"l l-Scalar l-Scalar-Plain\">equations</span><span class=\"p p-Indicator\">:</span>\n",
       "\n",
       "    <span class=\"l l-Scalar l-Scalar-Plain\">arbitrage</span><span class=\"p p-Indicator\">:</span>\n",
       "        <span class=\"p p-Indicator\">-</span> <span class=\"l l-Scalar l-Scalar-Plain\">chi*n^eta*c^sigma - w                     | 0.0 &lt;= n &lt;= inf</span>\n",
       "        <span class=\"p p-Indicator\">-</span> <span class=\"l l-Scalar l-Scalar-Plain\">1 - beta*(c/c(1))^(sigma)*(1-delta+rk(1))  | 0.0 &lt;= i &lt;= inf</span>\n",
       "\n",
       "\n",
       "    <span class=\"l l-Scalar l-Scalar-Plain\">transition</span><span class=\"p p-Indicator\">:</span>\n",
       "        <span class=\"p p-Indicator\">-</span> <span class=\"l l-Scalar l-Scalar-Plain\">z = rho*z(-1) + e_z</span>\n",
       "        <span class=\"p p-Indicator\">-</span> <span class=\"l l-Scalar l-Scalar-Plain\">k = (1-delta)*k(-1) + i(-1)</span>\n",
       "\n",
       "    <span class=\"l l-Scalar l-Scalar-Plain\">value</span><span class=\"p p-Indicator\">:</span>\n",
       "        <span class=\"p p-Indicator\">-</span> <span class=\"l l-Scalar l-Scalar-Plain\">V = c^(1-sigma)/(1-sigma) - chi*n^(1+eta)/(1+eta) + beta*V(1)</span>\n",
       "\n",
       "    <span class=\"l l-Scalar l-Scalar-Plain\">felicity</span><span class=\"p p-Indicator\">:</span>\n",
       "        <span class=\"p p-Indicator\">-</span> <span class=\"l l-Scalar l-Scalar-Plain\">u =  c^(1-sigma)/(1-sigma) - chi*n^(1+eta)/(1+eta)</span>\n",
       "\n",
       "    <span class=\"l l-Scalar l-Scalar-Plain\">expectation</span><span class=\"p p-Indicator\">:</span>\n",
       "        <span class=\"p p-Indicator\">-</span> <span class=\"l l-Scalar l-Scalar-Plain\">m = beta/c(1)^sigma*(1-delta+rk(1))</span>\n",
       "\n",
       "    <span class=\"l l-Scalar l-Scalar-Plain\">direct_response</span><span class=\"p p-Indicator\">:</span>\n",
       "        <span class=\"p p-Indicator\">-</span> <span class=\"l l-Scalar l-Scalar-Plain\">n = ((1-alpha)*exp(z)*k^alpha*m/chi)^(1/(eta+alpha))</span>\n",
       "        <span class=\"p p-Indicator\">-</span> <span class=\"l l-Scalar l-Scalar-Plain\">i = exp(z)*k^alpha*n^(1-alpha) - (m)^(-1/sigma)</span>\n",
       "\n",
       "<span class=\"l l-Scalar l-Scalar-Plain\">calibration</span><span class=\"p p-Indicator\">:</span>\n",
       "\n",
       "    <span class=\"c1\"># parameters</span>\n",
       "    <span class=\"l l-Scalar l-Scalar-Plain\">beta</span> <span class=\"p p-Indicator\">:</span> <span class=\"l l-Scalar l-Scalar-Plain\">0.99</span>\n",
       "    <span class=\"l l-Scalar l-Scalar-Plain\">phi</span><span class=\"p p-Indicator\">:</span> <span class=\"l l-Scalar l-Scalar-Plain\">1</span>\n",
       "    <span class=\"l l-Scalar l-Scalar-Plain\">delta</span> <span class=\"p p-Indicator\">:</span> <span class=\"l l-Scalar l-Scalar-Plain\">0.025</span>\n",
       "    <span class=\"l l-Scalar l-Scalar-Plain\">alpha</span> <span class=\"p p-Indicator\">:</span> <span class=\"l l-Scalar l-Scalar-Plain\">0.33</span>\n",
       "    <span class=\"l l-Scalar l-Scalar-Plain\">rho</span> <span class=\"p p-Indicator\">:</span> <span class=\"l l-Scalar l-Scalar-Plain\">0.8</span>\n",
       "    <span class=\"l l-Scalar l-Scalar-Plain\">sigma</span><span class=\"p p-Indicator\">:</span> <span class=\"l l-Scalar l-Scalar-Plain\">5</span>\n",
       "    <span class=\"l l-Scalar l-Scalar-Plain\">eta</span><span class=\"p p-Indicator\">:</span> <span class=\"l l-Scalar l-Scalar-Plain\">1</span>\n",
       "    <span class=\"l l-Scalar l-Scalar-Plain\">sig_z</span><span class=\"p p-Indicator\">:</span> <span class=\"l l-Scalar l-Scalar-Plain\">0.016</span>\n",
       "    <span class=\"l l-Scalar l-Scalar-Plain\">zbar</span><span class=\"p p-Indicator\">:</span> <span class=\"l l-Scalar l-Scalar-Plain\">0</span>\n",
       "    <span class=\"l l-Scalar l-Scalar-Plain\">chi</span> <span class=\"p p-Indicator\">:</span> <span class=\"l l-Scalar l-Scalar-Plain\">w/c^sigma/n^eta</span>\n",
       "    <span class=\"l l-Scalar l-Scalar-Plain\">c_i</span><span class=\"p p-Indicator\">:</span> <span class=\"l l-Scalar l-Scalar-Plain\">1.5</span>\n",
       "    <span class=\"l l-Scalar l-Scalar-Plain\">c_y</span><span class=\"p p-Indicator\">:</span> <span class=\"l l-Scalar l-Scalar-Plain\">0.5</span>\n",
       "    <span class=\"l l-Scalar l-Scalar-Plain\">e_z</span><span class=\"p p-Indicator\">:</span> <span class=\"l l-Scalar l-Scalar-Plain\">0.0</span>\n",
       "\n",
       "    <span class=\"c1\"># endogenous variables</span>\n",
       "    <span class=\"l l-Scalar l-Scalar-Plain\">n</span><span class=\"p p-Indicator\">:</span> <span class=\"l l-Scalar l-Scalar-Plain\">0.33</span>\n",
       "    <span class=\"l l-Scalar l-Scalar-Plain\">z</span><span class=\"p p-Indicator\">:</span> <span class=\"l l-Scalar l-Scalar-Plain\">zbar</span>\n",
       "    <span class=\"l l-Scalar l-Scalar-Plain\">rk</span><span class=\"p p-Indicator\">:</span> <span class=\"l l-Scalar l-Scalar-Plain\">1/beta-1+delta</span>\n",
       "    <span class=\"l l-Scalar l-Scalar-Plain\">w</span><span class=\"p p-Indicator\">:</span> <span class=\"l l-Scalar l-Scalar-Plain\">(1-alpha)*exp(z)*(k/n)^(alpha)</span>\n",
       "    <span class=\"l l-Scalar l-Scalar-Plain\">k</span><span class=\"p p-Indicator\">:</span> <span class=\"l l-Scalar l-Scalar-Plain\">n/(rk/alpha)^(1/(1-alpha))</span>\n",
       "    <span class=\"l l-Scalar l-Scalar-Plain\">y</span><span class=\"p p-Indicator\">:</span> <span class=\"l l-Scalar l-Scalar-Plain\">exp(z)*k^alpha*n^(1-alpha)</span>\n",
       "    <span class=\"l l-Scalar l-Scalar-Plain\">i</span><span class=\"p p-Indicator\">:</span> <span class=\"l l-Scalar l-Scalar-Plain\">delta*k</span>\n",
       "    <span class=\"l l-Scalar l-Scalar-Plain\">c</span><span class=\"p p-Indicator\">:</span> <span class=\"l l-Scalar l-Scalar-Plain\">y - i</span>\n",
       "    <span class=\"l l-Scalar l-Scalar-Plain\">V</span><span class=\"p p-Indicator\">:</span> <span class=\"l l-Scalar l-Scalar-Plain\">log(c)/(1-beta)</span>\n",
       "    <span class=\"l l-Scalar l-Scalar-Plain\">u</span><span class=\"p p-Indicator\">:</span> <span class=\"l l-Scalar l-Scalar-Plain\">c^(1-sigma)/(1-sigma) - chi*n^(1+eta)/(1+eta)</span>\n",
       "    <span class=\"l l-Scalar l-Scalar-Plain\">m</span><span class=\"p p-Indicator\">:</span> <span class=\"l l-Scalar l-Scalar-Plain\">beta/c^sigma*(1-delta+rk)</span>\n",
       "\n",
       "<span class=\"l l-Scalar l-Scalar-Plain\">exogenous</span><span class=\"p p-Indicator\">:</span> <span class=\"kt\">!Normal</span>\n",
       "    <span class=\"l l-Scalar l-Scalar-Plain\">Sigma</span><span class=\"p p-Indicator\">:</span> <span class=\"p p-Indicator\">[[</span><span class=\"nv\">sig_z**2</span><span class=\"p p-Indicator\">]]</span>\n",
       "\n",
       "<span class=\"l l-Scalar l-Scalar-Plain\">domain</span><span class=\"p p-Indicator\">:</span>\n",
       "    <span class=\"l l-Scalar l-Scalar-Plain\">z</span><span class=\"p p-Indicator\">:</span> <span class=\"p p-Indicator\">[</span><span class=\"nv\">-2*sig_z/(1-rho^2)^0.5</span><span class=\"p p-Indicator\">,</span>  <span class=\"nv\">2*sig_z/(1-rho^2)^0.5</span><span class=\"p p-Indicator\">]</span>\n",
       "    <span class=\"l l-Scalar l-Scalar-Plain\">k</span><span class=\"p p-Indicator\">:</span> <span class=\"p p-Indicator\">[</span> <span class=\"nv\">k*0.5</span><span class=\"p p-Indicator\">,</span> <span class=\"nv\">k*1.5</span><span class=\"p p-Indicator\">]</span>\n",
       "\n",
       "<span class=\"l l-Scalar l-Scalar-Plain\">options</span><span class=\"p p-Indicator\">:</span>\n",
       "    <span class=\"l l-Scalar l-Scalar-Plain\">grid</span><span class=\"p p-Indicator\">:</span> <span class=\"kt\">!Cartesian</span>\n",
       "        <span class=\"l l-Scalar l-Scalar-Plain\">orders</span><span class=\"p p-Indicator\">:</span> <span class=\"p p-Indicator\">[</span><span class=\"nv\">5</span><span class=\"p p-Indicator\">,</span> <span class=\"nv\">50</span><span class=\"p p-Indicator\">]</span>\n",
       "</pre></div>\n",
       "</td></tr></table>\n",
       "    "
      ],
      "text/plain": [
       "<IPython.core.display.HTML object>"
      ]
     },
     "execution_count": 3,
     "metadata": {},
     "output_type": "execute_result"
    }
   ],
   "source": [
    "# filename = ('https://raw.githubusercontent.com/EconForge/dolo'\n",
    "#             '/master/examples/models/compat/rbc.yaml')\n",
    "\n",
    "filename='../models/rbc.yaml'\n",
    "\n",
    "pcat(filename)"
   ]
  },
  {
   "cell_type": "markdown",
   "metadata": {
    "run_control": {
     "breakpoint": false
    }
   },
   "source": [
    "`yaml_import(filename)` reads the YAML file and generates a model object. "
   ]
  },
  {
   "cell_type": "code",
   "execution_count": 4,
   "metadata": {
    "collapsed": false
   },
   "outputs": [],
   "source": [
    "model = yaml_import(filename)"
   ]
  },
  {
   "cell_type": "markdown",
   "metadata": {
    "run_control": {
     "breakpoint": false
    }
   },
   "source": [
    "The model file already has values for steady-state variables stated in the calibration section so we can go ahead and check that they are correct by computing the model equations at the steady state."
   ]
  },
  {
   "cell_type": "code",
   "execution_count": 5,
   "metadata": {
    "collapsed": false
   },
   "outputs": [
    {
     "data": {
      "text/plain": [
       "OrderedDict([('transition', array([ 0.,  0.])),\n",
       "             ('arbitrage', array([ -4.44089210e-16,   0.00000000e+00])),\n",
       "             ('value', array([-1.77632621]))])"
      ]
     },
     "execution_count": 5,
     "metadata": {},
     "output_type": "execute_result"
    }
   ],
   "source": [
    "model.residuals()"
   ]
  },
  {
   "cell_type": "markdown",
   "metadata": {
    "run_control": {
     "breakpoint": false
    }
   },
   "source": [
    "Printing the model also lets us have a look at all the model equations and check that all residual errors are 0 at the steady-state, but with less display prescision."
   ]
  },
  {
   "cell_type": "code",
   "execution_count": 6,
   "metadata": {
    "collapsed": false
   },
   "outputs": [
    {
     "name": "stdout",
     "output_type": "stream",
     "text": [
      "\n",
      "        Model:\n",
      "        ------\n",
      "        name: \"Real Business Cycle\"\n",
      "        type: \"dtcc\"\n",
      "        file: \"../models/rbc.yaml\n",
      "\n",
      "Equations:\n",
      "----------\n",
      "\n",
      "transition\n",
      " 1  : 0.0000 : z = rho*z(-1) + e_z\n",
      " 2  : 0.0000 : k = (1-delta)*k(-1) + i(-1)\n",
      "\n",
      "arbitrage\n",
      " 1  : 0.0000 : chi*n**eta*c**sigma - w                     | 0.0 <= n <= inf\n",
      " 2  : 0.0000 : 1 - beta*(c/c(1))**(sigma)*(1-delta+rk(1))  | 0.0 <= i <= inf\n",
      "\n",
      "value\n",
      " 1  : \u001b[31m-1.7763\u001b[0m : V = c**(1-sigma)/(1-sigma) - chi*n**(1+eta)/(1+eta) + beta*V(1)\n",
      "\n",
      "definitions\n",
      " 1  : y = exp(z)*k**alpha*n**(1-alpha)\n",
      " 2  : c = y - i\n",
      " 3  : rk = alpha*y/k\n",
      " 4  : w = (1-alpha)*y/n\n",
      "\n",
      "\n"
     ]
    }
   ],
   "source": [
    "print( model ) "
   ]
  },
  {
   "cell_type": "markdown",
   "metadata": {
    "run_control": {
     "breakpoint": false
    }
   },
   "source": [
    "Next we compute a solution to the model using a first order perturbation method (see the source for the [approximate_controls](https://github.com/EconForge/dolo/blob/master/dolo/algos/fg/perturbations.py) function). The result is a decsion rule object. By decision rule we refer to any object is callable and maps states to decisions. This particular decision rule object is a TaylorExpansion (see the source for the [TaylorExpansion](https://github.com/EconForge/dolo/blob/master/dolo/numeric/taylor_expansion.py)  class)."
   ]
  },
  {
   "cell_type": "code",
   "execution_count": 7,
   "metadata": {
    "collapsed": false,
    "run_control": {
     "breakpoint": false
    }
   },
   "outputs": [],
   "source": [
    "dr_pert = perturbate(model)"
   ]
  },
  {
   "cell_type": "markdown",
   "metadata": {},
   "source": [
    "We now compute the global solution (see the source for the [time_iteration](https://github.com/EconForge/dolo/blob/master/dolo/algos/fg/time_iteration.py) function). It returns a decision rule object of type SmolyakGrid (see the source for the [SmolyakGrid](https://github.com/EconForge/dolo/blob/master/dolo/numeric/interpolation/smolyak.py) class)."
   ]
  },
  {
   "cell_type": "code",
   "execution_count": 8,
   "metadata": {
    "collapsed": false
   },
   "outputs": [
    {
     "name": "stdout",
     "output_type": "stream",
     "text": [
      "Solving WITH complementarities.\n",
      "------------------------------------------------\n",
      "| N   |  Error     | Gain     | Time     | nit |\n",
      "------------------------------------------------\n",
      "|   1 |  6.178e-01 |      nan |    0.106 |   8 |\n",
      "|   2 |  1.577e-01 |    0.255 |    0.062 |   5 |\n",
      "|   3 |  1.011e-01 |    0.641 |    0.091 |   5 |\n",
      "|   4 |  7.057e-02 |    0.698 |    0.068 |   5 |\n",
      "|   5 |  5.189e-02 |    0.735 |    0.063 |   4 |\n",
      "|   6 |  3.958e-02 |    0.763 |    0.060 |   4 |\n",
      "|   7 |  3.101e-02 |    0.784 |    0.057 |   4 |\n",
      "|   8 |  2.480e-02 |    0.800 |    0.065 |   4 |\n",
      "|   9 |  2.017e-02 |    0.813 |    0.063 |   4 |\n",
      "|  10 |  1.664e-02 |    0.825 |    0.043 |   4 |\n",
      "|  11 |  1.388e-02 |    0.834 |    0.033 |   3 |\n",
      "|  12 |  1.170e-02 |    0.843 |    0.044 |   3 |\n",
      "|  13 |  9.943e-03 |    0.850 |    0.061 |   3 |\n",
      "|  14 |  8.629e-03 |    0.868 |    0.037 |   3 |\n",
      "|  15 |  7.801e-03 |    0.904 |    0.050 |   3 |\n",
      "|  16 |  7.026e-03 |    0.901 |    0.043 |   3 |\n",
      "|  17 |  6.316e-03 |    0.899 |    0.058 |   3 |\n",
      "|  18 |  5.692e-03 |    0.901 |    0.053 |   3 |\n",
      "|  19 |  5.147e-03 |    0.904 |    0.052 |   3 |\n",
      "|  20 |  4.669e-03 |    0.907 |    0.045 |   3 |\n",
      "|  21 |  4.247e-03 |    0.909 |    0.046 |   3 |\n",
      "|  22 |  3.870e-03 |    0.911 |    0.049 |   3 |\n",
      "|  23 |  3.533e-03 |    0.913 |    0.033 |   3 |\n",
      "|  24 |  3.230e-03 |    0.914 |    0.057 |   3 |\n",
      "|  25 |  2.958e-03 |    0.916 |    0.040 |   3 |\n",
      "|  26 |  2.711e-03 |    0.917 |    0.035 |   3 |\n",
      "|  27 |  2.488e-03 |    0.918 |    0.036 |   3 |\n",
      "|  28 |  2.285e-03 |    0.918 |    0.033 |   2 |\n",
      "|  29 |  2.100e-03 |    0.919 |    0.027 |   2 |\n",
      "|  30 |  1.931e-03 |    0.920 |    0.023 |   2 |\n",
      "|  31 |  1.777e-03 |    0.920 |    0.032 |   2 |\n",
      "|  32 |  1.636e-03 |    0.921 |    0.031 |   2 |\n",
      "|  33 |  1.507e-03 |    0.921 |    0.053 |   2 |\n",
      "|  34 |  1.389e-03 |    0.921 |    0.040 |   2 |\n",
      "|  35 |  1.280e-03 |    0.922 |    0.037 |   2 |\n",
      "|  36 |  1.180e-03 |    0.922 |    0.025 |   2 |\n",
      "|  37 |  1.088e-03 |    0.922 |    0.050 |   2 |\n",
      "|  38 |  1.003e-03 |    0.922 |    0.037 |   2 |\n",
      "|  39 |  9.253e-04 |    0.922 |    0.027 |   2 |\n",
      "|  40 |  8.535e-04 |    0.922 |    0.024 |   2 |\n",
      "|  41 |  7.873e-04 |    0.922 |    0.028 |   2 |\n",
      "|  42 |  7.262e-04 |    0.922 |    0.032 |   2 |\n",
      "|  43 |  6.698e-04 |    0.922 |    0.024 |   2 |\n",
      "|  44 |  6.178e-04 |    0.922 |    0.023 |   2 |\n",
      "|  45 |  5.698e-04 |    0.922 |    0.037 |   2 |\n",
      "|  46 |  5.255e-04 |    0.922 |    0.027 |   2 |\n",
      "|  47 |  4.846e-04 |    0.922 |    0.024 |   2 |\n",
      "|  48 |  4.468e-04 |    0.922 |    0.024 |   2 |\n",
      "|  49 |  4.119e-04 |    0.922 |    0.041 |   2 |\n",
      "|  50 |  3.797e-04 |    0.922 |    0.042 |   2 |\n",
      "|  51 |  3.499e-04 |    0.922 |    0.025 |   2 |\n",
      "|  52 |  3.224e-04 |    0.921 |    0.023 |   2 |\n",
      "|  53 |  2.970e-04 |    0.921 |    0.026 |   2 |\n",
      "|  54 |  2.735e-04 |    0.921 |    0.033 |   2 |\n",
      "|  55 |  2.518e-04 |    0.921 |    0.023 |   2 |\n",
      "|  56 |  2.318e-04 |    0.921 |    0.024 |   2 |\n",
      "|  57 |  2.133e-04 |    0.920 |    0.026 |   2 |\n",
      "|  58 |  1.963e-04 |    0.920 |    0.035 |   2 |\n",
      "|  59 |  1.805e-04 |    0.920 |    0.029 |   2 |\n",
      "|  60 |  1.660e-04 |    0.919 |    0.034 |   2 |\n",
      "|  61 |  1.526e-04 |    0.919 |    0.046 |   2 |\n",
      "|  62 |  1.402e-04 |    0.919 |    0.032 |   2 |\n",
      "|  63 |  1.288e-04 |    0.919 |    0.026 |   2 |\n",
      "|  64 |  1.182e-04 |    0.918 |    0.032 |   2 |\n",
      "|  65 |  1.085e-04 |    0.918 |    0.026 |   2 |\n",
      "|  66 |  9.958e-05 |    0.917 |    0.039 |   2 |\n",
      "|  67 |  9.133e-05 |    0.917 |    0.037 |   2 |\n",
      "|  68 |  8.372e-05 |    0.917 |    0.036 |   2 |\n",
      "|  69 |  7.671e-05 |    0.916 |    0.035 |   2 |\n",
      "|  70 |  7.026e-05 |    0.916 |    0.034 |   2 |\n",
      "|  71 |  6.432e-05 |    0.915 |    0.036 |   2 |\n",
      "|  72 |  5.885e-05 |    0.915 |    0.042 |   2 |\n",
      "|  73 |  5.381e-05 |    0.914 |    0.025 |   2 |\n",
      "|  74 |  4.918e-05 |    0.914 |    0.025 |   2 |\n",
      "|  75 |  4.492e-05 |    0.913 |    0.049 |   2 |\n",
      "|  76 |  4.100e-05 |    0.913 |    0.024 |   1 |\n",
      "|  77 |  3.740e-05 |    0.912 |    0.016 |   1 |\n",
      "|  78 |  3.410e-05 |    0.912 |    0.018 |   1 |\n",
      "|  79 |  3.106e-05 |    0.911 |    0.019 |   1 |\n",
      "|  80 |  2.827e-05 |    0.910 |    0.018 |   1 |\n",
      "|  81 |  2.571e-05 |    0.910 |    0.016 |   1 |\n",
      "|  82 |  2.337e-05 |    0.909 |    0.018 |   1 |\n",
      "|  83 |  2.121e-05 |    0.908 |    0.030 |   1 |\n",
      "|  84 |  1.924e-05 |    0.907 |    0.027 |   1 |\n",
      "|  85 |  1.743e-05 |    0.906 |    0.019 |   1 |\n",
      "|  86 |  1.578e-05 |    0.905 |    0.024 |   1 |\n",
      "|  87 |  1.426e-05 |    0.904 |    0.017 |   1 |\n",
      "|  88 |  1.288e-05 |    0.903 |    0.015 |   1 |\n",
      "|  89 |  1.161e-05 |    0.902 |    0.023 |   1 |\n",
      "|  90 |  1.045e-05 |    0.900 |    0.024 |   1 |\n",
      "|  91 |  9.392e-06 |    0.899 |    0.020 |   1 |\n",
      "|  92 |  8.426e-06 |    0.897 |    0.015 |   1 |\n",
      "|  93 |  7.545e-06 |    0.895 |    0.014 |   1 |\n",
      "|  94 |  6.742e-06 |    0.894 |    0.014 |   1 |\n",
      "|  95 |  6.010e-06 |    0.891 |    0.013 |   1 |\n",
      "|  96 |  5.344e-06 |    0.889 |    0.014 |   1 |\n",
      "|  97 |  4.879e-06 |    0.913 |    0.014 |   1 |\n",
      "|  98 |  4.564e-06 |    0.936 |    0.014 |   1 |\n",
      "|  99 |  4.272e-06 |    0.936 |    0.019 |   1 |\n",
      "| 100 |  4.000e-06 |    0.936 |    0.017 |   1 |\n",
      "| 101 |  3.748e-06 |    0.937 |    0.018 |   1 |\n",
      "| 102 |  3.514e-06 |    0.938 |    0.030 |   1 |\n",
      "| 103 |  3.296e-06 |    0.938 |    0.026 |   1 |\n",
      "| 104 |  3.094e-06 |    0.939 |    0.017 |   1 |\n",
      "| 105 |  2.906e-06 |    0.939 |    0.017 |   1 |\n",
      "| 106 |  2.730e-06 |    0.940 |    0.014 |   1 |\n",
      "| 107 |  2.567e-06 |    0.940 |    0.016 |   1 |\n",
      "| 108 |  2.415e-06 |    0.941 |    0.014 |   1 |\n",
      "| 109 |  2.274e-06 |    0.941 |    0.015 |   1 |\n",
      "| 110 |  2.142e-06 |    0.942 |    0.022 |   1 |\n",
      "| 111 |  2.019e-06 |    0.943 |    0.017 |   1 |\n",
      "| 112 |  1.905e-06 |    0.943 |    0.018 |   1 |\n",
      "| 113 |  1.798e-06 |    0.944 |    0.018 |   1 |\n",
      "| 114 |  1.698e-06 |    0.945 |    0.021 |   1 |\n",
      "| 115 |  1.604e-06 |    0.945 |    0.015 |   1 |\n",
      "| 116 |  1.517e-06 |    0.946 |    0.014 |   1 |\n",
      "| 117 |  1.436e-06 |    0.946 |    0.016 |   1 |\n",
      "| 118 |  1.360e-06 |    0.947 |    0.014 |   1 |\n",
      "| 119 |  1.289e-06 |    0.948 |    0.016 |   1 |\n",
      "| 120 |  1.222e-06 |    0.948 |    0.014 |   1 |\n",
      "| 121 |  1.160e-06 |    0.949 |    0.014 |   1 |\n",
      "| 122 |  1.101e-06 |    0.950 |    0.015 |   1 |\n",
      "| 123 |  1.046e-06 |    0.950 |    0.030 |   1 |\n",
      "| 124 |  9.950e-07 |    0.951 |    0.023 |   1 |\n",
      "------------------------------------------------\n",
      "Elapsed: 3.903956413269043 seconds.\n",
      "------------------------------------------------\n"
     ]
    }
   ],
   "source": [
    "dr_global = time_iteration(model)"
   ]
  },
  {
   "cell_type": "markdown",
   "metadata": {},
   "source": [
    "# Decision rule\n",
    "\n",
    "Here we plot optimal investment and labour for different levels of capital (see the source for the [plot_decision_rule](https://github.com/EconForge/dolo/blob/master/dolo/algos/fg/simulations.py) function)."
   ]
  },
  {
   "cell_type": "code",
   "execution_count": 9,
   "metadata": {},
   "outputs": [],
   "source": [
    "tab_global = tabulate(model, dr_global, 'k')\n",
    "tab_pert = tabulate(model, dr_pert, 'k')"
   ]
  },
  {
   "cell_type": "code",
   "execution_count": 10,
   "metadata": {
    "collapsed": false
   },
   "outputs": [
    {
     "data": {
      "image/png": "[encoded data removed]",
      "text/plain": [
       "<matplotlib.figure.Figure at 0x7f487c445940>"
      ]
     },
     "metadata": {},
     "output_type": "display_data"
    }
   ],
   "source": [
    "\n",
    "figsize(8,3.5)\n",
    "\n",
    "subplot(121)\n",
    "plot(tab_global['k'], tab_global['i'], label='Global')\n",
    "plot(tab_pert['k'], tab_pert['i'], label='Perturbation')\n",
    "ylabel('i')\n",
    "title('Investment')\n",
    "legend()\n",
    "\n",
    "subplot(122)\n",
    "plot(tab_global['k'], tab_global['n'], label='Global')\n",
    "plot(tab_pert['k'], tab_pert['n'], label='Perturbation')\n",
    "ylabel('n')\n",
    "title('Labour')\n",
    "legend()\n",
    "\n",
    "tight_layout()\n",
    "show()"
   ]
  },
  {
   "cell_type": "markdown",
   "metadata": {},
   "source": [
    "It would seem, according to this, that second order perturbation does very well for the RBC model. We will revisit this issue more rigorously when we explore the deviations from the model's arbitrage section equations.\n",
    "\n",
    "Let us repeat the calculation of investment decisions for various values of the depreciation rate, $\\delta$. Note that this is a comparative statics exercise, even though the models compared are dynamic."
   ]
  },
  {
   "cell_type": "code",
   "execution_count": 11,
   "metadata": {
    "collapsed": false
   },
   "outputs": [
    {
     "data": {
      "image/png": "[encoded data removed]",
      "text/plain": [
       "<matplotlib.figure.Figure at 0x7f487bc8ff60>"
      ]
     },
     "metadata": {},
     "output_type": "display_data"
    }
   ],
   "source": [
    "original_delta=model.calibration['delta'] \n",
    "\n",
    "drs = []\n",
    "delta_values = linspace(0.01, 0.04,5)\n",
    "for val in delta_values:\n",
    "    model.set_calibration(delta=val)\n",
    "    drs.append(perturbate(model))\n",
    "\n",
    "    \n",
    "figsize(5,3)\n",
    "\n",
    "for i,dr in enumerate(drs):\n",
    "    sim = tabulate(model, dr,'k')\n",
    "    plot(sim['k'],sim['i'], label='$\\delta={}$'.format(delta_values[i]))\n",
    "ylabel('i')\n",
    "title('Investment')\n",
    "legend(bbox_to_anchor=(1.05, 1), loc=2, borderaxespad=0.)\n",
    "show()\n",
    "\n",
    "model.set_calibration(delta=original_delta)"
   ]
  },
  {
   "cell_type": "markdown",
   "metadata": {
    "run_control": {
     "breakpoint": false
    }
   },
   "source": [
    "We find that more durable capital leads to higher steady state investment and slows the rate of convergence for capital (the slopes are roughly the same, which implies that relative to steady state capital investment responds stronger at higher $\\delta$, this in addition to the direct effect of depreciation)."
   ]
  },
  {
   "cell_type": "markdown",
   "metadata": {},
   "source": [
    "# Use the model to simulate"
   ]
  },
  {
   "cell_type": "markdown",
   "metadata": {
    "run_control": {
     "breakpoint": false
    }
   },
   "source": [
    "We will use the deterministic steady-state as a starting point."
   ]
  },
  {
   "cell_type": "code",
   "execution_count": 12,
   "metadata": {
    "collapsed": false,
    "run_control": {
     "breakpoint": false
    }
   },
   "outputs": [
    {
     "name": "stdout",
     "output_type": "stream",
     "text": [
      "['z', 'k']=[ 0.          9.35497829]\n"
     ]
    }
   ],
   "source": [
    "s0 = model.calibration['states']\n",
    "print(str(model.symbols['states'])+'='+str(s0))"
   ]
  },
  {
   "cell_type": "markdown",
   "metadata": {
    "run_control": {
     "breakpoint": false
    }
   },
   "source": [
    "We also get the covariance matrix just in case. This is a one shock model so all we have it the variance of $e_z$."
   ]
  },
  {
   "cell_type": "code",
   "execution_count": 13,
   "metadata": {
    "collapsed": false
   },
   "outputs": [
    {
     "data": {
      "text/plain": [
       "array([[ 0.000256]])"
      ]
     },
     "execution_count": 13,
     "metadata": {},
     "output_type": "execute_result"
    }
   ],
   "source": [
    "sigma2_ez = model.exogenous.Sigma\n",
    "sigma2_ez"
   ]
  },
  {
   "cell_type": "markdown",
   "metadata": {},
   "source": [
    "## Impulse response functions\n",
    "\n",
    "Consider a 10% shock on productivity."
   ]
  },
  {
   "cell_type": "code",
   "execution_count": 14,
   "metadata": {
    "collapsed": false
   },
   "outputs": [
    {
     "name": "stdout",
     "output_type": "stream",
     "text": [
      "['z', 'k']=[ 0.          9.35497829]\n"
     ]
    }
   ],
   "source": [
    "s1 = s0.copy()\n",
    "s1[0] *= 1.1\n",
    "print(str(model.symbols['states'])+'='+str(s1))"
   ]
  },
  {
   "cell_type": "markdown",
   "metadata": {
    "run_control": {
     "breakpoint": false
    }
   },
   "source": [
    "The `simulate` function is used both to trace impulse response functions and compute stochastic simulations. Choosing `n_exp>=1`, will result in that many \"stochastic\" simulations. With `n_exp = 0`, we get one single simulation without any stochastic shock (see the source for the [simulate](https://github.com/EconForge/dolo/blob/master/dolo/algos/fg/simulations.py) function). \n",
    "The output is a panda table of size $H \\times n_v$ where $n_v$ is the number of variables in the model and $H$ the number of dates."
   ]
  },
  {
   "cell_type": "code",
   "execution_count": 15,
   "metadata": {},
   "outputs": [
    {
     "data": {
      "text/plain": [
       "<xarray.DataArray (T: 40, N: 10, V: 9)>\n",
       "array([[[  1.153774e-02,   0.000000e+00, ...,   2.801441e-02,   2.257603e+00],\n",
       "        [  9.123243e-03,   0.000000e+00, ...,   2.801441e-02,   2.257603e+00],\n",
       "        ..., \n",
       "        [ -6.226563e-04,   0.000000e+00, ...,   2.801441e-02,   2.257603e+00],\n",
       "        [ -2.667689e-02,   0.000000e+00, ...,   2.801441e-02,   2.257603e+00]],\n",
       "\n",
       "       [[  1.513959e-02,   1.153774e-02, ...,   2.866675e-02,   2.270923e+00],\n",
       "        [ -1.141856e-02,   9.123243e-03, ...,   2.857615e-02,   2.266284e+00],\n",
       "        ..., \n",
       "        [  3.647196e-04,  -6.226563e-04, ...,   2.821313e-02,   2.247667e+00],\n",
       "        [ -1.710634e-02,  -2.667689e-02, ...,   2.726328e-02,   2.198716e+00]],\n",
       "\n",
       "       ..., \n",
       "       [[ -2.573456e-02,  -1.110230e-02, ...,   3.280932e-02,   2.054259e+00],\n",
       "        [ -1.858653e-02,  -9.228566e-03, ...,   3.204817e-02,   2.083966e+00],\n",
       "        ..., \n",
       "        [ -2.924771e-02,  -6.744475e-03, ...,   3.382097e-02,   2.036967e+00],\n",
       "        [ -5.025612e-03,   2.170120e-02, ...,   3.322658e-02,   2.143952e+00]],\n",
       "\n",
       "       [[ -2.830248e-02,  -3.461640e-02, ...,   3.194144e-02,   2.009777e+00],\n",
       "        [ -2.280162e-02,  -2.596938e-02, ...,   3.149078e-02,   2.050181e+00],\n",
       "        ..., \n",
       "        [ -2.472036e-03,  -3.464329e-02, ...,   3.269744e-02,   1.986674e+00],\n",
       "        [ -9.090849e-03,   1.233535e-02, ...,   3.282532e-02,   2.126881e+00]]])\n",
       "Coordinates:\n",
       "  * T        (T) int64 0 1 2 3 4 5 6 7 8 9 10 11 12 13 14 15 16 17 18 19 20 ...\n",
       "  * N        (N) int64 0 1 2 3 4 5 6 7 8 9\n",
       "  * V        (V) <U3 'e_z' 'z' 'k' 'n' 'i' 'y' 'c' 'rk' 'w'"
      ]
     },
     "execution_count": 15,
     "metadata": {},
     "output_type": "execute_result"
    }
   ],
   "source": [
    "simulate(model, dr, N=10, T=40)"
   ]
  },
  {
   "cell_type": "code",
   "execution_count": 16,
   "metadata": {},
   "outputs": [],
   "source": [
    "from dolo.algos.simulations import response"
   ]
  },
  {
   "cell_type": "code",
   "execution_count": 17,
   "metadata": {},
   "outputs": [],
   "source": [
    "m0 = model.calibration[\"exogenous\"]"
   ]
  },
  {
   "cell_type": "code",
   "execution_count": 18,
   "metadata": {},
   "outputs": [],
   "source": [
    "s0 = model.calibration[\"states\"]"
   ]
  },
  {
   "cell_type": "code",
   "execution_count": 19,
   "metadata": {},
   "outputs": [
    {
     "data": {
      "text/plain": [
       "array([ 0.32989926,  0.23360911])"
      ]
     },
     "execution_count": 19,
     "metadata": {},
     "output_type": "execute_result"
    }
   ],
   "source": [
    "dr_global.eval_ms(m0, s0)"
   ]
  },
  {
   "cell_type": "code",
   "execution_count": 20,
   "metadata": {
    "collapsed": false
   },
   "outputs": [],
   "source": [
    "irf = response(model,dr_global, 'e_z')\n"
   ]
  },
  {
   "cell_type": "markdown",
   "metadata": {
    "run_control": {
     "breakpoint": false
    }
   },
   "source": [
    "Let us plot the response of consumption and investment."
   ]
  },
  {
   "cell_type": "code",
   "execution_count": 21,
   "metadata": {
    "collapsed": false
   },
   "outputs": [
    {
     "data": {
      "image/png": "[encoded data removed]",
      "text/plain": [
       "<matplotlib.figure.Figure at 0x7f487bf66e48>"
      ]
     },
     "metadata": {},
     "output_type": "display_data"
    }
   ],
   "source": [
    "figsize(8,4)\n",
    "subplot(221)\n",
    "plot(irf.sel(V='z'))\n",
    "title('Productivity')\n",
    "subplot(222)\n",
    "plot(irf.sel(V='i'))\n",
    "title('Investment')\n",
    "subplot(223)\n",
    "plot(irf.sel(V='n'))\n",
    "title('Labour')\n",
    "subplot(224)\n",
    "plot(irf.sel(V='c'))\n",
    "title('Consumption')\n",
    "\n",
    "tight_layout()"
   ]
  },
  {
   "cell_type": "markdown",
   "metadata": {},
   "source": [
    "Note that the plotting is made using the wonderful [matplotlib](http://matplotlib.org/users/pyplot_tutorial.html) library. Read the online [tutorials](http://matplotlib.org/users/beginner.html) to learn how to customize the plots to your needs (e.g., using [latex](http://matplotlib.org/users/usetex.html) in annotations). If instead you would like to produce charts in Matlab, you can easily export the impulse response functions, or any other matrix, to a `.mat` file."
   ]
  },
  {
   "cell_type": "code",
   "execution_count": 22,
   "metadata": {
    "collapsed": false
   },
   "outputs": [],
   "source": [
    "irf_array = array( irf )\n",
    "import scipy.io\n",
    "scipy.io.savemat(\"export.mat\", {'table': irf_array} )"
   ]
  },
  {
   "cell_type": "markdown",
   "metadata": {},
   "source": [
    "## Stochastic simulations\n",
    "\n",
    "Now we run 1000 random simulations the result is an array of size $T\\times N \\times n_v$ where \n",
    "- $T$ the number of dates\n",
    "- $N$ the number of simulations\n",
    "- $n_v$ is the number of variables\n"
   ]
  },
  {
   "cell_type": "code",
   "execution_count": 23,
   "metadata": {
    "collapsed": false
   },
   "outputs": [
    {
     "name": "stdout",
     "output_type": "stream",
     "text": [
      "(40, 1000, 9)\n"
     ]
    }
   ],
   "source": [
    "sim = simulate(model, dr_global, N=1000, T=40 )\n",
    "print(sim.shape)"
   ]
  },
  {
   "cell_type": "code",
   "execution_count": 24,
   "metadata": {
    "collapsed": false
   },
   "outputs": [
    {
     "data": {
      "text/plain": [
       "(40, 1000, 9)"
      ]
     },
     "execution_count": 24,
     "metadata": {},
     "output_type": "execute_result"
    }
   ],
   "source": [
    "sim.shape"
   ]
  },
  {
   "cell_type": "markdown",
   "metadata": {
    "run_control": {
     "breakpoint": false
    }
   },
   "source": [
    "We plot the responses of consumption, investment and labour to the stochastic path of productivity."
   ]
  },
  {
   "cell_type": "code",
   "execution_count": 25,
   "metadata": {
    "collapsed": false
   },
   "outputs": [
    {
     "data": {
      "image/png": "[encoded data removed]",
      "text/plain": [
       "<matplotlib.figure.Figure at 0x7f487bc775c0>"
      ]
     },
     "metadata": {},
     "output_type": "display_data"
    }
   ],
   "source": [
    "\n",
    "figsize(8,4)\n",
    "for i in range(1000):\n",
    "    subplot(221)\n",
    "    plot(sim.sel(N=i,V='z'), color='red', alpha=0.1)\n",
    "    subplot(222)\n",
    "    plot(sim.sel(N=i,V='i'), color='red', alpha=0.1)\n",
    "    subplot(223)\n",
    "    plot(sim.sel(N=i,V='n'), color='red', alpha=0.1)\n",
    "    subplot(224)\n",
    "    plot(sim.sel(N=i,V='c'), color='red', alpha=0.1)\n",
    "\n",
    "subplot(221)\n",
    "title('Productivity')\n",
    "subplot(222)\n",
    "title('Investment')\n",
    "subplot(223)\n",
    "title('Labour')\n",
    "subplot(224)\n",
    "title('Consumption')\n",
    "\n",
    "tight_layout()"
   ]
  },
  {
   "cell_type": "markdown",
   "metadata": {
    "run_control": {
     "breakpoint": false
    }
   },
   "source": [
    "We find that while the distribution of investment and labour converges quickly to the ergodic distribution, that of consumption takes noticeably longer. This is indicative of higher persistence in consumption, which in turn could be explained by permanent income considerations."
   ]
  },
  {
   "cell_type": "markdown",
   "metadata": {
    "run_control": {
     "breakpoint": false
    }
   },
   "source": [
    "# Descriptive statistics\n",
    "The success of the RBC model is in being able to mimic patterns in the descriptive statistics of the real economy. Let us compute some of these descriptive statistics from our sample of stochastic simulations. First we compute growth rates:"
   ]
  },
  {
   "cell_type": "code",
   "execution_count": 26,
   "metadata": {
    "collapsed": false,
    "run_control": {
     "breakpoint": false
    }
   },
   "outputs": [],
   "source": [
    "dsim = sim / sim.shift(T=1)"
   ]
  },
  {
   "cell_type": "markdown",
   "metadata": {
    "run_control": {
     "breakpoint": false
    }
   },
   "source": [
    "Then we compute the volatility of growth rates for each simulation:"
   ]
  },
  {
   "cell_type": "code",
   "execution_count": 27,
   "metadata": {
    "collapsed": false,
    "run_control": {
     "breakpoint": false
    }
   },
   "outputs": [
    {
     "name": "stdout",
     "output_type": "stream",
     "text": [
      "(40, 9)\n"
     ]
    }
   ],
   "source": [
    "volat = dsim.std(axis=1)\n",
    "print(volat.shape)"
   ]
  },
  {
   "cell_type": "code",
   "execution_count": 28,
   "metadata": {
    "collapsed": false
   },
   "outputs": [
    {
     "data": {
      "text/plain": [
       "<xarray.DataArray (T: 40, V: 9)>\n",
       "array([[           nan,            nan,            nan, ...,            nan,\n",
       "                   nan,            nan],\n",
       "       [  1.610460e+01,            nan,   1.298961e-14, ...,   1.352270e-03,\n",
       "          2.017808e-02,   1.346867e-02],\n",
       "       [  1.618588e+01,   1.610460e+01,   2.035801e-03, ...,   1.377216e-03,\n",
       "          2.162961e-02,   1.389096e-02],\n",
       "       ..., \n",
       "       [  1.354310e+01,   3.780695e+01,   3.295663e-03, ...,   1.369310e-03,\n",
       "          2.281085e-02,   1.397051e-02],\n",
       "       [  3.541631e+01,   1.094721e+01,   3.222370e-03, ...,   1.322676e-03,\n",
       "          2.139702e-02,   1.320840e-02],\n",
       "       [  7.612170e+01,   6.075938e+01,   3.193905e-03, ...,   1.406412e-03,\n",
       "          2.240151e-02,   1.396092e-02]])\n",
       "Coordinates:\n",
       "  * T        (T) int64 0 1 2 3 4 5 6 7 8 9 10 11 12 13 14 15 16 17 18 19 20 ...\n",
       "  * V        (V) <U3 'e_z' 'z' 'k' 'n' 'i' 'y' 'c' 'rk' 'w'"
      ]
     },
     "execution_count": 28,
     "metadata": {},
     "output_type": "execute_result"
    }
   ],
   "source": [
    "volat"
   ]
  },
  {
   "cell_type": "markdown",
   "metadata": {
    "run_control": {
     "breakpoint": false
    }
   },
   "source": [
    "Then we compute the mean and a confidence interval for each variable. In the generated table the first column contains the standard deviations of growth rates. The second and third columns contain the lower and upper bounds of the 95% confidence intervals, respectively."
   ]
  },
  {
   "cell_type": "code",
   "execution_count": 29,
   "metadata": {
    "collapsed": false
   },
   "outputs": [
    {
     "data": {
      "text/plain": [
       "array([[  6.00442420e+01,  -5.53075009e+01,   1.75395985e+02],\n",
       "       [  1.02137895e+02,  -3.76106170e+02,   5.80381961e+02],\n",
       "       [  3.02993890e-03,   1.97569964e-03,   4.08417816e-03],\n",
       "       [  7.68246511e-03,   7.18485324e-03,   8.18007698e-03],\n",
       "       [  8.97792531e-02,   8.44244373e-02,   9.51340689e-02],\n",
       "       [  2.15797739e-02,   2.04793119e-02,   2.26802360e-02],\n",
       "       [  1.39647624e-03,   1.32698540e-03,   1.46596709e-03],\n",
       "       [  2.26628877e-02,   2.13053964e-02,   2.40203790e-02],\n",
       "       [  1.40691904e-02,   1.33895442e-02,   1.47488366e-02]])"
      ]
     },
     "execution_count": 29,
     "metadata": {},
     "output_type": "execute_result"
    }
   ],
   "source": [
    "table = column_stack([\n",
    "    volat.mean(axis=0),\n",
    "    volat.mean(axis=0)-1.96*volat.std(axis=0),\n",
    "    volat.mean(axis=0)+1.96*volat.std(axis=0)  ])\n",
    "table"
   ]
  },
  {
   "cell_type": "markdown",
   "metadata": {},
   "source": [
    "We can use the [pandas](http://pandas.pydata.org/pandas-docs/stable/10min.html) library to present the results in a nice table."
   ]
  },
  {
   "cell_type": "code",
   "execution_count": 30,
   "metadata": {
    "collapsed": false
   },
   "outputs": [
    {
     "data": {
      "text/plain": [
       "['e_z', 'z', 'k', 'n', 'i', 'y', 'c', 'rk', 'w']"
      ]
     },
     "execution_count": 30,
     "metadata": {},
     "output_type": "execute_result"
    }
   ],
   "source": [
    "model.variables"
   ]
  },
  {
   "cell_type": "code",
   "execution_count": 31,
   "metadata": {
    "collapsed": false
   },
   "outputs": [
    {
     "data": {
      "text/html": [
       "<div>\n",
       "<table border=\"1\" class=\"dataframe\">\n",
       "  <thead>\n",
       "    <tr style=\"text-align: right;\">\n",
       "      <th></th>\n",
       "      <th>Growth rate std.</th>\n",
       "      <th>Lower 95% bound</th>\n",
       "      <th>Upper 95% bound</th>\n",
       "    </tr>\n",
       "  </thead>\n",
       "  <tbody>\n",
       "    <tr>\n",
       "      <th>e_z</th>\n",
       "      <td>60.0442</td>\n",
       "      <td>-55.3075</td>\n",
       "      <td>175.3960</td>\n",
       "    </tr>\n",
       "    <tr>\n",
       "      <th>z</th>\n",
       "      <td>102.1379</td>\n",
       "      <td>-376.1062</td>\n",
       "      <td>580.3820</td>\n",
       "    </tr>\n",
       "    <tr>\n",
       "      <th>k</th>\n",
       "      <td>0.0030</td>\n",
       "      <td>0.0020</td>\n",
       "      <td>0.0041</td>\n",
       "    </tr>\n",
       "    <tr>\n",
       "      <th>n</th>\n",
       "      <td>0.0077</td>\n",
       "      <td>0.0072</td>\n",
       "      <td>0.0082</td>\n",
       "    </tr>\n",
       "    <tr>\n",
       "      <th>i</th>\n",
       "      <td>0.0898</td>\n",
       "      <td>0.0844</td>\n",
       "      <td>0.0951</td>\n",
       "    </tr>\n",
       "    <tr>\n",
       "      <th>y</th>\n",
       "      <td>0.0216</td>\n",
       "      <td>0.0205</td>\n",
       "      <td>0.0227</td>\n",
       "    </tr>\n",
       "    <tr>\n",
       "      <th>c</th>\n",
       "      <td>0.0014</td>\n",
       "      <td>0.0013</td>\n",
       "      <td>0.0015</td>\n",
       "    </tr>\n",
       "    <tr>\n",
       "      <th>rk</th>\n",
       "      <td>0.0227</td>\n",
       "      <td>0.0213</td>\n",
       "      <td>0.0240</td>\n",
       "    </tr>\n",
       "    <tr>\n",
       "      <th>w</th>\n",
       "      <td>0.0141</td>\n",
       "      <td>0.0134</td>\n",
       "      <td>0.0147</td>\n",
       "    </tr>\n",
       "  </tbody>\n",
       "</table>\n",
       "</div>"
      ],
      "text/plain": [
       "     Growth rate std.  Lower 95% bound  Upper 95% bound\n",
       "e_z           60.0442         -55.3075         175.3960\n",
       "z            102.1379        -376.1062         580.3820\n",
       "k              0.0030           0.0020           0.0041\n",
       "n              0.0077           0.0072           0.0082\n",
       "i              0.0898           0.0844           0.0951\n",
       "y              0.0216           0.0205           0.0227\n",
       "c              0.0014           0.0013           0.0015\n",
       "rk             0.0227           0.0213           0.0240\n",
       "w              0.0141           0.0134           0.0147"
      ]
     },
     "execution_count": 31,
     "metadata": {},
     "output_type": "execute_result"
    }
   ],
   "source": [
    "import pandas\n",
    "df = pandas.DataFrame(table, index=model.variables, \n",
    "                      columns=['Growth rate std.',\n",
    "                               'Lower 95% bound',\n",
    "                               'Upper 95% bound' ])\n",
    "pandas.set_option('precision', 4)\n",
    "df"
   ]
  },
  {
   "cell_type": "markdown",
   "metadata": {},
   "source": [
    "# Error measures\n",
    "It is always important to get a handle on the accuracy of the solution. The `omega` function computes and aggregates the errors for the model's arbitrage section equations. For the RBC model these are the investment demand and labor supply equations. For each equation it reports the maximum error over the domain and the mean error using ergodic distribution weights (see the source for the [omega](https://github.com/EconForge/dolo/blob/master/dolo/algos/fg/accuracy.py) function)."
   ]
  },
  {
   "cell_type": "code",
   "execution_count": 32,
   "metadata": {
    "collapsed": false
   },
   "outputs": [
    {
     "ename": "ModuleNotFoundError",
     "evalue": "No module named 'dolo.algos.dtcscc.accuracy'",
     "output_type": "error",
     "traceback": [
      "\u001b[0;31m---------------------------------------------------------------------------\u001b[0m",
      "\u001b[0;31mModuleNotFoundError\u001b[0m                       Traceback (most recent call last)",
      "\u001b[0;32m<ipython-input-32-e116654a86a2>\u001b[0m in \u001b[0;36m<module>\u001b[0;34m()\u001b[0m\n\u001b[0;32m----> 1\u001b[0;31m \u001b[0;32mfrom\u001b[0m \u001b[0mdolo\u001b[0m\u001b[0;34m.\u001b[0m\u001b[0malgos\u001b[0m\u001b[0;34m.\u001b[0m\u001b[0mdtcscc\u001b[0m\u001b[0;34m.\u001b[0m\u001b[0maccuracy\u001b[0m \u001b[0;32mimport\u001b[0m \u001b[0momega\u001b[0m\u001b[0;34m\u001b[0m\u001b[0m\n\u001b[0m\u001b[1;32m      2\u001b[0m \u001b[0;34m\u001b[0m\u001b[0m\n\u001b[1;32m      3\u001b[0m \u001b[0mprint\u001b[0m\u001b[0;34m(\u001b[0m\u001b[0;34m\"Perturbation solution\"\u001b[0m\u001b[0;34m)\u001b[0m\u001b[0;34m\u001b[0m\u001b[0m\n\u001b[1;32m      4\u001b[0m \u001b[0merr_pert\u001b[0m \u001b[0;34m=\u001b[0m \u001b[0momega\u001b[0m\u001b[0;34m(\u001b[0m\u001b[0mmodel\u001b[0m\u001b[0;34m,\u001b[0m \u001b[0mdr_pert\u001b[0m\u001b[0;34m)\u001b[0m\u001b[0;34m\u001b[0m\u001b[0m\n\u001b[1;32m      5\u001b[0m \u001b[0merr_pert\u001b[0m\u001b[0;34m\u001b[0m\u001b[0m\n",
      "\u001b[0;31mModuleNotFoundError\u001b[0m: No module named 'dolo.algos.dtcscc.accuracy'"
     ]
    }
   ],
   "source": [
    "from dolo.algos.dtcscc.accuracy import omega\n",
    "\n",
    "print(\"Perturbation solution\")\n",
    "err_pert = omega(model, dr_pert)\n",
    "err_pert"
   ]
  },
  {
   "cell_type": "code",
   "execution_count": 27,
   "metadata": {
    "collapsed": false
   },
   "outputs": [
    {
     "name": "stdout",
     "output_type": "stream",
     "text": [
      "Global solution\n"
     ]
    },
    {
     "data": {
      "text/plain": [
       "Euler Errors:\n",
       "- max_errors     : [  1.48580016e-04   2.22044605e-15]\n",
       "- ergodic        : [  1.37134469e-04   5.64392977e-16]\n"
      ]
     },
     "execution_count": 27,
     "metadata": {},
     "output_type": "execute_result"
    }
   ],
   "source": [
    "print(\"Global solution\")\n",
    "err_global=omega(model, dr_global)\n",
    "err_global"
   ]
  },
  {
   "cell_type": "markdown",
   "metadata": {
    "run_control": {
     "breakpoint": false
    }
   },
   "source": [
    "The result of `omega` is a subclass of `dict`. `omega` fills that dict with some useful information that the default print does not reveal:"
   ]
  },
  {
   "cell_type": "code",
   "execution_count": 28,
   "metadata": {
    "collapsed": false
   },
   "outputs": [
    {
     "data": {
      "text/plain": [
       "dict_keys(['bounds', 'errors', 'domain', 'max_errors', 'densities', 'ergodic'])"
      ]
     },
     "execution_count": 28,
     "metadata": {},
     "output_type": "execute_result"
    }
   ],
   "source": [
    "err_pert.keys()"
   ]
  },
  {
   "cell_type": "markdown",
   "metadata": {
    "run_control": {
     "breakpoint": false
    }
   },
   "source": [
    "In particular the domain field  contains information, like bounds and shape, that we can use to plot the spatial pattern of errors."
   ]
  },
  {
   "cell_type": "code",
   "execution_count": 29,
   "metadata": {
    "collapsed": false,
    "run_control": {
     "breakpoint": false
    }
   },
   "outputs": [
    {
     "data": {
      "image/png": "[encoded data removed]",
      "text/plain": [
       "<matplotlib.figure.Figure at 0x7f583bd68f60>"
      ]
     },
     "metadata": {},
     "output_type": "display_data"
    }
   ],
   "source": [
    "a = err_pert['domain'].a\n",
    "b = err_pert['domain'].b\n",
    "orders = err_pert['domain'].orders\n",
    "errors = concatenate((err_pert['errors'].reshape( orders.tolist()+[-1] ),\n",
    "                      err_global['errors'].reshape( orders.tolist()+[-1] )),\n",
    "                     2)\n",
    "\n",
    "figure(figsize=(8,6))\n",
    "\n",
    "titles=[\"Investment demand pertubation errors\",\n",
    "        \"Labor supply pertubation errors\",\n",
    "        \"Investment demand global errors\",\n",
    "        \"Labor supply global errors\"]\n",
    "\n",
    "for i in range(4):\n",
    "\n",
    "    subplot(2,2,i+1)\n",
    "    imgplot = imshow(errors[:,:,i], origin='lower', \n",
    "                     extent=( a[0], b[0], a[1], b[1]), aspect='auto')\n",
    "    imgplot.set_clim(0,3e-4)\n",
    "    colorbar()\n",
    "    xlabel('z')\n",
    "    ylabel('k')\n",
    "    title(titles[i])\n",
    "\n",
    "tight_layout()"
   ]
  }
 ],
 "metadata": {
  "kernelspec": {
   "display_name": "Python 3",
   "language": "python",
   "name": "python3"
  },
  "language_info": {
   "codemirror_mode": {
    "name": "ipython",
    "version": 3
   },
   "file_extension": ".py",
   "mimetype": "text/x-python",
   "name": "python",
   "nbconvert_exporter": "python",
   "pygments_lexer": "ipython3",
   "version": "3.6.0"
  }
 },
 "nbformat": 4,
 "nbformat_minor": 2
}
